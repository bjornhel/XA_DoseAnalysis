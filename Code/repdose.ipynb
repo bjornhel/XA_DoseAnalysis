{
 "cells": [
  {
   "cell_type": "code",
   "execution_count": 2,
   "metadata": {},
   "outputs": [],
   "source": [
    "import pandas as pd\n",
    "import matplotlib.pyplot as plt"
   ]
  },
  {
   "cell_type": "code",
   "execution_count": null,
   "metadata": {},
   "outputs": [],
   "source": [
    "# Read the excel files exported:\n",
    "df_dt = pd.read_excel('G:\\DoseTrack RRH XA reduced.xlsx')\n",
    "df_ids7 = pd.read_excel('G:\\IDS7 RRH XA.xlsx')"
   ]
  }
 ],
 "metadata": {
  "kernelspec": {
   "display_name": "BHPython311",
   "language": "python",
   "name": "python3"
  },
  "language_info": {
   "codemirror_mode": {
    "name": "ipython",
    "version": 3
   },
   "file_extension": ".py",
   "mimetype": "text/x-python",
   "name": "python",
   "nbconvert_exporter": "python",
   "pygments_lexer": "ipython3",
   "version": "3.11.4"
  },
  "orig_nbformat": 4
 },
 "nbformat": 4,
 "nbformat_minor": 2
}
