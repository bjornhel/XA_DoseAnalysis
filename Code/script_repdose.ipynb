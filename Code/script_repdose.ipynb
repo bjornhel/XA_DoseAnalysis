{
 "cells": [
  {
   "cell_type": "code",
   "execution_count": 1,
   "metadata": {},
   "outputs": [
    {
     "name": "stdout",
     "output_type": "stream",
     "text": [
      "Dropping unnecessary column: Prioritet- og lesemerkeikon\n",
      "Dropping unnecessary column: Lagt til i demonstrasjon-ikon\n",
      "Dropping unnecessary column: Status\n",
      "Number of rows with NaT in the column \"Bestilt dato og tidspunkt\": 1\n",
      "Number of cancelled procedures: 393\n",
      "Number of non-human subjects: 7\n",
      "Number of rows with invalid accession number: 0\n",
      "Number of accession numbers in IDS7: 2218\n",
      "Number of accession numbers in IDS7 not in DoseTrack: 136\n",
      "Patient: PAS0607, time: 2023-05-18 13:00:00, accession numbers: ['NRRH000008244733' 'NRRH000008244732']\n",
      "Inserted accession number: NRRH000008244732 into patient: PAS0607, time: 2023-05-18 13:00:00, accession numbers: ['NRRH000008244733' 'NRRH000008244732']\n",
      "Patient: PAS0835, time: 2023-05-04 15:00:00, accession numbers: ['NRRH000008224660' 'NRRH000008224398']\n",
      "Patient: PAS1444, time: 2023-02-14 15:00:00, accession numbers: ['NRRH000008006267' 'NORRH00004327418']\n",
      "Patient: PAS1517, time: 2023-02-06 15:00:00, accession numbers: ['NRRH000008000661' 'NORRH00004143344']\n",
      "Patient: PAS1790, time: 2023-01-03 07:00:00, accession numbers: ['NRRH000007967678' 'NRRH000007967670']\n",
      "Inserted accession number: NRRH000007967678 into patient: PAS1790, time: 2023-01-03 07:00:00, accession numbers: ['NRRH000007967678' 'NRRH000007967670']\n",
      "Some accession numbers have been changed, rerunning check_accession_ids7_vs_dt\n",
      "Number of accession numbers in IDS7: 2218\n",
      "Number of accession numbers in IDS7 not in DoseTrack: 136\n"
     ]
    }
   ],
   "source": [
    "# Import libraries:\n",
    "import pandas as pd\n",
    "import numpy as np\n",
    "import matplotlib.pyplot as plt\n",
    "import dt_ids7_export_utils as bh_utils\n",
    "\n",
    "# Get the name of the computer:\n",
    "import socket\n",
    "hostname = socket.gethostname()\n",
    "if hostname == 'BHs-Desktop':\n",
    "    path = 'E:\\\\'\n",
    "elif hostname == 'BH-XPS':\n",
    "    path = 'G:\\\\'\n",
    "else:\n",
    "    path = 'D:\\\\'\n",
    "\n",
    "del hostname\n",
    "# Import the data:\n",
    "df_ids7 = pd.read_excel(path + 'IDS7 RRH XA.xlsx')\n",
    "df_dt = pd.read_excel(path + 'DoseTrack RRH XA reduced.xlsx')\n",
    "\n",
    "del path\n",
    "\n",
    "# Remove unnessecary columns:\n",
    "df_ids7 = bh_utils.remove_unnecessary_columns(df_ids7, True)\n",
    "# Check for missing time data:\n",
    "df_ids7 = bh_utils.filter_NaT(df_ids7, True)\n",
    "# Check for cancelled procedures:\n",
    "df_ids7 = bh_utils.filter_cancelled(df_ids7, True)\n",
    "# Check for non-human subjects (e.g. phantoms, animals, etc.):\n",
    "df_ids7 = bh_utils.filter_phantom_etc(df_ids7, True)\n",
    "# Check for invalid accession numbers:\n",
    "df_ids7 = bh_utils.check_accession_format(df_ids7, True)\n",
    "# Check whether an accession number is in the DoseTrack data:\n",
    "df_ids7 = bh_utils.check_accession_ids7_vs_dt(df_ids7, df_dt, True)\n",
    "# Merge accession numbers performed in the same booking if one of the procedures is in dosetrack:\n",
    "df_ids7 = bh_utils.merge_accession_no_same_procedure(df_ids7, df_dt, True)\n"
   ]
  },
  {
   "cell_type": "code",
   "execution_count": null,
   "metadata": {},
   "outputs": [],
   "source": [
    "\n",
    "\n",
    "# Go through all the patients in the IDS7 data:\n",
    "patient_list = df_ids7['Pasient'].unique()\n",
    "for patient in patient_list:\n",
    "    # Go through all the individual booking times for this patient:\n",
    "    booking_times = sorted(df_ids7[df_ids7['Pasient'] == patient]['Bestilt dato og tidspunkt'].unique())\n",
    "    for time in booking_times:\n",
    "        # Get the accession number for this patient at this booking time:\n",
    "        acc_nr = df_ids7[(df_ids7['Pasient'] == patient) & (df_ids7['Bestilt dato og tidspunkt'] == time)]['Henvisnings-ID'].unique()\n",
    "        # Check if there is more than one accession number for this patient at this time:\n",
    "        if len(acc_nr) > 1:\n",
    "            # Make a pandas series with accession numbers as index and true/false as values:\n",
    "            print('Patient: ' + str(patient) + ', time: ' + str(time) + ', accession numbers: ' + str(acc_nr))\n",
    "            acc_nr_in_dt = pd.Series(index=acc_nr, data = np.nan)\n",
    "            # Go through all the accession numbers for this patient at this time:\n",
    "            for acc in acc_nr:\n",
    "                # Check if the accession number is in the DoseTrack data:\n",
    "                acc_nr_in_dt[acc] = df_ids7[(df_ids7['Pasient'] == patient) & (df_ids7['Bestilt dato og tidspunkt'] == time) & (df_ids7['Henvisnings-ID'] == acc)]['Henvisning_i_dt'].unique()\n",
    "            \n",
    "            # Check if there are both true and false values:\n",
    "            if acc_nr_in_dt.nunique() > 1:\n",
    "                # Warn the user that there might be ambigous data regarding this procedure if there are several true and at least one false:\n",
    "                if len(acc_nr_in_dt[acc_nr_in_dt == True]) > 1 and len(acc_nr_in_dt[acc_nr_in_dt == False]) > 0:\n",
    "                    print('WARNING: there are two or more accessions with data in dosetrack and at least one without.')\n",
    "                    print('Please investigate patient: ' + str(patient) + ', time: ' + str(time) + ', accession numbers: ' + str(acc_nr))\n",
    "                else:\n",
    "                    # Insert the accession number which is included in the DoseTrack data into all the rows for the same patient and booking with no dosetrack data:\n",
    "                    df_ids7.loc[(df_ids7['Pasient'] == patient) & (df_ids7['Bestilt dato og tidspunkt'] == time) & (df_ids7['Henvisnings-ID'] == False) , 'Henvisning_i_dt'] = acc_nr_in_dt[acc_nr_in_dt == True].index[0]              \n",
    "                    \n",
    "                    \n",
    "\n",
    "\n",
    "\n",
    "                \n",
    "            \n",
    "\n",
    "            \n"
   ]
  },
  {
   "cell_type": "code",
   "execution_count": 12,
   "metadata": {},
   "outputs": [],
   "source": [
    "# Check if there are any rows with false values in the 'Henvisning_i_dt' column:\n",
    "if df_ids7['Henvisning_i_dt'].any() == False:\n",
    "    print('All accession numbers are in DoseTrack.')\n",
    "\n"
   ]
  },
  {
   "cell_type": "markdown",
   "metadata": {},
   "source": [
    "We need to create logic for merging lines in the ids7 data:\n",
    "\n",
    "During a booking the patient gets an accession number:\n",
    "As the procedure moves forward more codes can be added to the same accession number. These codes should be merged into one line.\n",
    "\n",
    "Check if the accession number exists in Dosetrack. If it does, check if there are any accession numbers within 12 hrs on the same patient on the same lab that does not have a corresponding entry in dosetrack. If so they might be in the same procedure.\n",
    "\n",
    "Alternatively, if there are an accession number that is not included in doseTrack, check if there are any accession numbers within 12 hrs on the same patient on the same lab that does have a corresponding entry in dosetrack. If so they might be in the same procedure.\n",
    "\n",
    "If neither of the procedures exists in dosetrack they might or might not be the same procedure.\n",
    "\n",
    "Print a list of all the changes performed on the data."
   ]
  },
  {
   "cell_type": "code",
   "execution_count": null,
   "metadata": {},
   "outputs": [],
   "source": [
    "# Check for patients with multiple bookings on the same time, with different accession numbers:\n",
    "bh_utils.check_patents_with_multiple_bookings_on_same_time_with_different_accession(df_ids7)"
   ]
  },
  {
   "cell_type": "code",
   "execution_count": 6,
   "metadata": {},
   "outputs": [],
   "source": [
    "# Check for patients with multiple bookings on the same day but not the same time, with different accession numbers:\n",
    "bh_utils.check_patents_with_multiple_bookings_on_same_day_with_different_accession(df_ids7)"
   ]
  }
 ],
 "metadata": {
  "kernelspec": {
   "display_name": "BHPython311",
   "language": "python",
   "name": "python3"
  },
  "language_info": {
   "codemirror_mode": {
    "name": "ipython",
    "version": 3
   },
   "file_extension": ".py",
   "mimetype": "text/x-python",
   "name": "python",
   "nbconvert_exporter": "python",
   "pygments_lexer": "ipython3",
   "version": "3.11.5"
  },
  "orig_nbformat": 4
 },
 "nbformat": 4,
 "nbformat_minor": 2
}
