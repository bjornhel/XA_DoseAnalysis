{
 "cells": [
  {
   "cell_type": "code",
   "execution_count": 1,
   "metadata": {},
   "outputs": [
    {
     "name": "stdout",
     "output_type": "stream",
     "text": [
      "Dropping unnecessary column: Prioritet- og lesemerkeikon\n",
      "Dropping unnecessary column: Lagt til i demonstrasjon-ikon\n",
      "Dropping unnecessary column: Status\n",
      "Number of rows with NaT in the column \"Bestilt dato og tidspunkt\": 1\n",
      "Number of cancelled procedures: 393\n",
      "Number of non-human subjects: 7\n",
      "Number of rows with invalid accession number: 0\n",
      "Number of accession numbers in IDS7: 2218\n",
      "Number of accession numbers in IDS7 not in DoseTrack: 136\n",
      "Inserted accession number: NRRH000008244732 for patient: PAS0607, time: 2023-05-18 13:00:00, accession numbers: ['NRRH000008244733' 'NRRH000008244732']\n",
      "Inserted accession number: NRRH000007967678 for patient: PAS1790, time: 2023-01-03 07:00:00, accession numbers: ['NRRH000007967678' 'NRRH000007967670']\n",
      "The accession numbers have been changed. Running check_accession_ids7_vs_dt\n",
      "Number of accession numbers in IDS7: 2216\n",
      "Number of accession numbers in IDS7 not in DoseTrack: 134\n"
     ]
    }
   ],
   "source": [
    "# Import libraries:\n",
    "import pandas as pd\n",
    "import numpy as np\n",
    "import matplotlib.pyplot as plt\n",
    "import dt_ids7_export_utils as bh_utils\n",
    "\n",
    "# Get the name of the computer:\n",
    "import socket\n",
    "hostname = socket.gethostname()\n",
    "if hostname == 'BHs-Desktop':\n",
    "    path = 'E:\\\\'\n",
    "elif hostname == 'BH-XPS':\n",
    "    path = 'G:\\\\'\n",
    "else:\n",
    "    path = 'D:\\\\'\n",
    "\n",
    "del hostname\n",
    "# Import the data:\n",
    "df_ids7 = pd.read_excel(path + 'IDS7 RRH XA.xlsx')\n",
    "df_dt = pd.read_excel(path + 'DoseTrack RRH XA reduced.xlsx')\n",
    "\n",
    "del path\n",
    "\n",
    "# Remove unnessecary columns:\n",
    "df_ids7 = bh_utils.remove_unnecessary_columns(df_ids7, True)\n",
    "# Check for missing time data:\n",
    "df_ids7 = bh_utils.filter_NaT(df_ids7, True)\n",
    "# Check for cancelled procedures:\n",
    "df_ids7 = bh_utils.filter_cancelled(df_ids7, True)\n",
    "# Check for non-human subjects (e.g. phantoms, animals, etc.):\n",
    "df_ids7 = bh_utils.filter_phantom_etc(df_ids7, True)\n",
    "# Check for invalid accession numbers:\n",
    "df_ids7 = bh_utils.check_accession_format(df_ids7, True)\n",
    "# Check whether an accession number is in the DoseTrack data:\n",
    "df_ids7 = bh_utils.check_accession_ids7_vs_dt(df_ids7, df_dt, True)\n",
    "# Check whether examination has duplicated accession numbers that should be overwritten:\n",
    "df_ids7 = bh_utils.overwrite_duplicated_accession_numbers(df_ids7, df_dt, True)"
   ]
  },
  {
   "cell_type": "code",
   "execution_count": 6,
   "metadata": {},
   "outputs": [],
   "source": [
    "# Go through all the accession numbers and make a list of all the codes used:\n",
    "# first do RRH_XA1:\n",
    "\n",
    "RRH_XA1_codes = []\n",
    "RRH_XA1 = df_ids7[df_ids7['Rom/modalitet (RIS)'] == 'RRH_XA1']\n",
    "                \n",
    "# Make an pandas series with an index of the accession numbers that store the codes:\n",
    "# Initialize the series:\n",
    "# The index is the accession number:\n",
    "RRH_XA1_codes = pd.Series(index = RRH_XA1['Henvisnings-ID'].unique())\n",
    "for accession_no in RRH_XA1_codes.index:\n",
    "    procedure = RRH_XA1[RRH_XA1['Henvisnings-ID'] == accession_no]['Beskrivelse'].unique()\n",
    "    procedure.sort()\n",
    "    # Merge all the codes into one string:\n",
    "    code = ''\n",
    "    for i in procedure:\n",
    "        code += i + ', '\n",
    "    # Remove the last comma and space:\n",
    "    code = code[:-2]\n",
    "    # Store the code in the series:\n",
    "    RRH_XA1_codes[accession_no] = code\n",
    "\n",
    "# Make a list of unique codes:\n",
    "RRH_XA1_unique_codes = RRH_XA1_codes.unique()\n",
    "# Sort the list:\n",
    "RRH_XA1_unique_codes.sort()\n",
    "# Export the list to a text file:\n",
    "with open('RRH_XA1_codes.txt', 'w') as f:\n",
    "    for i in RRH_XA1_unique_codes:\n",
    "        f.write(i + '\\n')\n",
    "del i\n",
    "\n",
    "\n"
   ]
  },
  {
   "cell_type": "code",
   "execution_count": null,
   "metadata": {},
   "outputs": [],
   "source": [
    "# Go through all the accession numbers and make a list of all the codes used:\n",
    "# first do RRH_XA1:\n",
    "\n",
    "RRH_XA2_codes = []\n",
    "RRH_XA2 = df_ids7[df_ids7['Rom/modalitet (RIS)'] == 'RRH_XA2']\n",
    "                \n",
    "# Make an pandas series with an index of the accession numbers that store the codes:\n",
    "# Initialize the series:\n",
    "# The index is the accession number:\n",
    "RRH_XA2_codes = pd.Series(index = RRH_XA2['Henvisnings-ID'].unique())\n",
    "for accession_no in RRH_XA2_codes.index:\n",
    "    procedure = RRH_XA2[RRH_XA2['Henvisnings-ID'] == accession_no]['Beskrivelse'].unique()\n",
    "    procedure.sort()\n",
    "    # Merge all the codes into one string:\n",
    "    code = ''\n",
    "    for i in procedure:\n",
    "        code += i + ', '\n",
    "    # Remove the last comma and space:\n",
    "    code = code[:-2]\n",
    "    # Store the code in the series:\n",
    "    RRH_XA2_codes[accession_no] = code\n",
    "\n",
    "# Make a list of unique codes:\n",
    "RRH_XA2_unique_codes = RRH_XA2_codes.unique()\n",
    "# Sort the list:\n",
    "RRH_XA2_unique_codes.sort()\n",
    "# Export the list to a text file:\n",
    "with open('RRH_XA2_codes.txt', 'w') as f:\n",
    "    for i in RRH_XA2_unique_codes:\n",
    "        f.write(i + '\\n')\n",
    "del i\n",
    "\n"
   ]
  },
  {
   "cell_type": "markdown",
   "metadata": {},
   "source": [
    "We need to create logic for merging lines in the ids7 data:\n",
    "\n",
    "During a booking the patient gets an accession number:\n",
    "As the procedure moves forward more codes can be added to the same accession number. These codes should be merged into one line.\n",
    "\n",
    "Check if the accession number exists in Dosetrack. If it does, check if there are any accession numbers within 12 hrs on the same patient on the same lab that does not have a corresponding entry in dosetrack. If so they might be in the same procedure.\n",
    "\n",
    "Alternatively, if there are an accession number that is not included in doseTrack, check if there are any accession numbers within 12 hrs on the same patient on the same lab that does have a corresponding entry in dosetrack. If so they might be in the same procedure.\n",
    "\n",
    "If neither of the procedures exists in dosetrack they might or might not be the same procedure.\n",
    "\n",
    "Print a list of all the changes performed on the data."
   ]
  },
  {
   "cell_type": "code",
   "execution_count": null,
   "metadata": {},
   "outputs": [],
   "source": [
    "# Check for patients with multiple bookings on the same time, with different accession numbers:\n",
    "bh_utils.check_patents_with_multiple_bookings_on_same_time_with_different_accession(df_ids7)"
   ]
  },
  {
   "cell_type": "code",
   "execution_count": null,
   "metadata": {},
   "outputs": [],
   "source": [
    "# Check for patients with multiple bookings on the same day but not the same time, with different accession numbers:\n",
    "bh_utils.check_patents_with_multiple_bookings_on_same_day_with_different_accession(df_ids7)"
   ]
  }
 ],
 "metadata": {
  "kernelspec": {
   "display_name": "BHPython311",
   "language": "python",
   "name": "python3"
  },
  "language_info": {
   "codemirror_mode": {
    "name": "ipython",
    "version": 3
   },
   "file_extension": ".py",
   "mimetype": "text/x-python",
   "name": "python",
   "nbconvert_exporter": "python",
   "pygments_lexer": "ipython3",
   "version": "3.11.5"
  },
  "orig_nbformat": 4
 },
 "nbformat": 4,
 "nbformat_minor": 2
}
