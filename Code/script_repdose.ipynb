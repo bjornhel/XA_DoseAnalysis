{
 "cells": [
  {
   "cell_type": "code",
   "execution_count": 1,
   "metadata": {},
   "outputs": [
    {
     "ename": "ModuleNotFoundError",
     "evalue": "No module named 'reporting_utils'",
     "output_type": "error",
     "traceback": [
      "\u001b[1;31m---------------------------------------------------------------------------\u001b[0m",
      "\u001b[1;31mModuleNotFoundError\u001b[0m                       Traceback (most recent call last)",
      "\u001b[1;32mc:\\Users\\bjorn\\BH_Kode\\XA_DoseAnalysis\\Code\\script_repdose.ipynb Cell 1\u001b[0m line \u001b[0;36m6\n\u001b[0;32m      <a href='vscode-notebook-cell:/c%3A/Users/bjorn/BH_Kode/XA_DoseAnalysis/Code/script_repdose.ipynb#W0sZmlsZQ%3D%3D?line=3'>4</a>\u001b[0m \u001b[39mimport\u001b[39;00m \u001b[39mdt_ids7_export_module\u001b[39;00m \u001b[39mas\u001b[39;00m \u001b[39mbh_utils\u001b[39;00m\n\u001b[0;32m      <a href='vscode-notebook-cell:/c%3A/Users/bjorn/BH_Kode/XA_DoseAnalysis/Code/script_repdose.ipynb#W0sZmlsZQ%3D%3D?line=4'>5</a>\u001b[0m \u001b[39mimport\u001b[39;00m \u001b[39mmapping_module\u001b[39;00m \u001b[39mas\u001b[39;00m \u001b[39mbh_map\u001b[39;00m\n\u001b[1;32m----> <a href='vscode-notebook-cell:/c%3A/Users/bjorn/BH_Kode/XA_DoseAnalysis/Code/script_repdose.ipynb#W0sZmlsZQ%3D%3D?line=5'>6</a>\u001b[0m \u001b[39mimport\u001b[39;00m \u001b[39mplot_module\u001b[39;00m \u001b[39mas\u001b[39;00m \u001b[39mbh_plot\u001b[39;00m\n\u001b[0;32m      <a href='vscode-notebook-cell:/c%3A/Users/bjorn/BH_Kode/XA_DoseAnalysis/Code/script_repdose.ipynb#W0sZmlsZQ%3D%3D?line=6'>7</a>\u001b[0m \u001b[39mimport\u001b[39;00m \u001b[39mreporting_module\u001b[39;00m \u001b[39mas\u001b[39;00m \u001b[39mbh_report\u001b[39;00m\n\u001b[0;32m      <a href='vscode-notebook-cell:/c%3A/Users/bjorn/BH_Kode/XA_DoseAnalysis/Code/script_repdose.ipynb#W0sZmlsZQ%3D%3D?line=7'>8</a>\u001b[0m \u001b[39mimport\u001b[39;00m \u001b[39mmapping_dict_rad_xa\u001b[39;00m \u001b[39mas\u001b[39;00m \u001b[39mrad_xa_dict\u001b[39;00m\n",
      "File \u001b[1;32mc:\\Users\\bjorn\\BH_Kode\\XA_DoseAnalysis\\Code\\plot_module.py:6\u001b[0m\n\u001b[0;32m      4\u001b[0m \u001b[39mimport\u001b[39;00m \u001b[39mglob\u001b[39;00m\n\u001b[0;32m      5\u001b[0m \u001b[39mimport\u001b[39;00m \u001b[39mmatplotlib\u001b[39;00m\u001b[39m.\u001b[39;00m\u001b[39mpyplot\u001b[39;00m \u001b[39mas\u001b[39;00m \u001b[39mplt\u001b[39;00m\n\u001b[1;32m----> 6\u001b[0m \u001b[39mimport\u001b[39;00m \u001b[39mreporting_utils\u001b[39;00m \u001b[39mas\u001b[39;00m \u001b[39mbh_report\u001b[39;00m\n\u001b[0;32m      8\u001b[0m \u001b[39m# This module contains functions for performing the various common plots.\u001b[39;00m\n\u001b[0;32m     10\u001b[0m \u001b[39mdef\u001b[39;00m \u001b[39mplot_representative_dose\u001b[39m(data, procedure, y_max\u001b[39m=\u001b[39m\u001b[39m20\u001b[39m, save\u001b[39m=\u001b[39m\u001b[39mFalse\u001b[39;00m):\n",
      "\u001b[1;31mModuleNotFoundError\u001b[0m: No module named 'reporting_utils'"
     ]
    }
   ],
   "source": [
    "# Import libraries:\n",
    "import pandas as pd\n",
    "import importlib \n",
    "import dt_ids7_export_module as bh_utils\n",
    "import mapping_module as bh_map\n",
    "import plot_module as bh_plot\n",
    "import reporting_module as bh_report\n",
    "import mapping_dict_rad_xa as rad_xa_dict\n",
    "\n",
    "# Make sure personal libraries are reloaded incase of adjustments:\n",
    "importlib.reload(bh_utils)\n",
    "importlib.reload(bh_map)\n",
    "importlib.reload(bh_plot)\n",
    "importlib.reload(bh_report)\n",
    "importlib.reload(rad_xa_dict)\n",
    "\n",
    "# Get the name of the computer:\n",
    "import socket\n",
    "hostname = socket.gethostname()\n",
    "if hostname == 'BHs-Desktop':\n",
    "    path = 'E:\\\\'\n",
    "elif hostname == 'BH-XPS':\n",
    "    path = 'G:\\\\'\n",
    "else:\n",
    "    path = 'D:\\\\'\n",
    "\n",
    "# Import the data:\n",
    "df_ids7 = pd.read_excel(path + 'IDS7 RRH XA.xlsx')\n",
    "df_dt = pd.read_excel(path + 'DoseTrack RRH XA reduced.xlsx')\n",
    "\n",
    "del path, hostname\n",
    "\n",
    "# Run all cleanups, filters and checks:\n",
    "df_ids7 = bh_utils.run_all_cleanup_filters_and_checks(df_ids7, df_dt, True)\n",
    "# Merge the dataframes:\n",
    "data = bh_utils.merge_ids7_dt(df_ids7, df_dt, True)\n",
    "# Get the mapping dictionary:\n",
    "mapping_dict = rad_xa_dict.get_mapping_dict()\n",
    "# First we perform mapping on selected procedures:\n",
    "data = bh_map.map_procedures(data, mapping_dict, False)\n",
    "\n",
    "del df_dt, df_ids7"
   ]
  },
  {
   "cell_type": "code",
   "execution_count": null,
   "metadata": {},
   "outputs": [],
   "source": [
    "bh_utils.export_examination_codes_to_text_file(data)"
   ]
  },
  {
   "cell_type": "code",
   "execution_count": null,
   "metadata": {},
   "outputs": [],
   "source": [
    "bh_utils.delete_reports(True)"
   ]
  }
 ],
 "metadata": {
  "kernelspec": {
   "display_name": "BHPython311",
   "language": "python",
   "name": "python3"
  },
  "language_info": {
   "codemirror_mode": {
    "name": "ipython",
    "version": 3
   },
   "file_extension": ".py",
   "mimetype": "text/x-python",
   "name": "python",
   "nbconvert_exporter": "python",
   "pygments_lexer": "ipython3",
   "version": "3.11.5"
  },
  "orig_nbformat": 4
 },
 "nbformat": 4,
 "nbformat_minor": 2
}
