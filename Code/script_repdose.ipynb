{
 "cells": [
  {
   "cell_type": "code",
   "execution_count": null,
   "metadata": {},
   "outputs": [],
   "source": [
    "import pandas as pd\n",
    "import matplotlib.pyplot as plt"
   ]
  },
  {
   "cell_type": "code",
   "execution_count": null,
   "metadata": {},
   "outputs": [],
   "source": [
    "# Read the excel files exported:\n",
    "df_dt = pd.read_excel('G:\\DoseTrack RRH XA reduced.xlsx')\n",
    "df_ids7 = pd.read_excel('G:\\IDS7 RRH XA.xlsx')"
   ]
  },
  {
   "cell_type": "code",
   "execution_count": null,
   "metadata": {},
   "outputs": [],
   "source": [
    "# put data from each lab into a separate dataframe:\n",
    "df_ids7_RRH_XA1 = df_ids7[df_ids7['Rom/modalitet (RIS)'] == 'RRH_XA1']\n",
    "\n",
    "# Make a list of all examination types in the dosetrack data.\n",
    "\n"
   ]
  },
  {
   "cell_type": "markdown",
   "metadata": {},
   "source": [
    "# 1. Iterate through the Accession No. In the IDS7 data.\n",
    "# 2. Check if there are more than one accession No. for the current patient at the current date and time.\n",
    "\n",
    "# 3. Check if there are corresponding entries of accession No. in the dosetrack data. (DoseTrack should only have one Accession No).\n",
    "# 4. Is a corresponding accession number os found in DoseTrack, use this accession No.\n",
    "# 5. If there is no corresponding accession No. in DoseTrack, mark the case as having missing DoseTrack data.\n",
    "# 6. Do a verification check, where all the DoseTrackdata with a valid (NRRH... etc.) accession No. exists in the IDS7 data.\n",
    "\n",
    "# 7. Filter all the lines with data that are corrupted. \n",
    "\n",
    "# 8. Do a search in the DoseTrack data for duplicate dose Data. If there are lines with identical dose, remove the duplicates. There should be a minor dose difference in all CBCT acquisitions for instance.\n",
    "# 9. Go through each accession No. in DoseTrack and Merge Plane A and B doses, and merge any additional CBCT examinations."
   ]
  }
 ],
 "metadata": {
  "language_info": {
   "name": "python"
  },
  "orig_nbformat": 4
 },
 "nbformat": 4,
 "nbformat_minor": 2
}
