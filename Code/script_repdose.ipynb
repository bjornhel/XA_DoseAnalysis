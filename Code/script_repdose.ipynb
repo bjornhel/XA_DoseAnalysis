{
 "cells": [
  {
   "cell_type": "code",
   "execution_count": 1,
   "metadata": {},
   "outputs": [
    {
     "name": "stdout",
     "output_type": "stream",
     "text": [
      "Number of rows with invalid accession number: 0\n"
     ]
    }
   ],
   "source": [
    "# Import libraries:\n",
    "import pandas as pd\n",
    "import matplotlib.pyplot as plt\n",
    "import dt_ids7_export_utils as bh_utils\n",
    "\n",
    "# Import the data:\n",
    "df_ids7 = pd.read_excel('G:\\IDS7 RRH XA.xlsx')\n",
    "df_dt = pd.read_excel('G:\\DoseTrack RRH XA reduced.xlsx')\n",
    "\n",
    "# Check for missing time data:\n",
    "df_ids7 = bh_utils.filter_NaT(df_ids7)\n",
    "# Check for invalid accession numbers:\n",
    "df_ids7 = bh_utils.check_accession_no(df_ids7, True)"
   ]
  },
  {
   "cell_type": "markdown",
   "metadata": {},
   "source": [
    "1. Iterate through the Accession No. In the IDS7 data.\n",
    "2. Check if there are more than one accession No. for the current patient at the current date and time.\n",
    "\n",
    "3. Check if there are corresponding entries of accession No. in the dosetrack data. (DoseTrack should only have one Accession No).\n",
    "4. Is a corresponding accession number os found in DoseTrack, use this accession No.\n",
    "5. If there is no corresponding accession No. in DoseTrack, mark the case as having missing DoseTrack data.\n",
    "\n",
    "8. Do a search in the DoseTrack data for duplicate dose Data. If there are lines with identical dose, remove the duplicates. There should be a minor dose difference in all CBCT acquisitions for instance.\n",
    "9. Go through each accession No. in DoseTrack and Merge Plane A and B doses, and merge any additional CBCT examinations."
   ]
  },
  {
   "cell_type": "code",
   "execution_count": null,
   "metadata": {},
   "outputs": [],
   "source": [
    "# put data from each lab into a separate dataframe:\n",
    "df_ids7_RRH_XA1 = df_ids7[df_ids7['Rom/modalitet (RIS)'] == 'RRH_XA1']"
   ]
  },
  {
   "cell_type": "code",
   "execution_count": null,
   "metadata": {},
   "outputs": [],
   "source": [
    "# Go through the IDS7 data by accession No.\n",
    "# Check if there are any other accession No. on the same patient with the same booking time.\n",
    "\n",
    "def compare_accession(df_ids7, df_dt):\n",
    "    acquisition_no = df_ids7['Henvisnings-ID'].drop_duplicates()\n",
    "    status_acc_no = pd.Series(index=acc_no)\n",
    "    for acc_no in status_acc_no.index:\n",
    "        # find the patient ID and the time of the examination:\n",
    "        patient_id = df_ids7[df_ids7['Henvisnings-ID'] == acc_no]['Pasient'].iloc[0]\n",
    "        time = df_ids7[df_ids7['Henvisnings-ID'] == acc_no]['Bestilt dato og tidspunkt'].iloc[0]\n",
    "\n",
    "        2+2\n",
    "\n"
   ]
  },
  {
   "cell_type": "code",
   "execution_count": null,
   "metadata": {},
   "outputs": [],
   "source": [
    "test = df_ids7['Henvisnings-ID'].drop_duplicates()\n",
    "test_acc_no = pd.Series(index=test)"
   ]
  },
  {
   "cell_type": "code",
   "execution_count": null,
   "metadata": {},
   "outputs": [],
   "source": [
    "df_ids7_f = filter_NaT(df_ids7)"
   ]
  },
  {
   "cell_type": "code",
   "execution_count": null,
   "metadata": {},
   "outputs": [],
   "source": [
    "df_ids7_f = filter_NaT(df_ids7)\n",
    "\n",
    "acquisition_no = df_ids7['Henvisnings-ID'].drop_duplicates()\n",
    "status_acc_no = pd.Series(index=acquisition_no)\n",
    "for acc_no in status_acc_no.index:\n",
    "    # find the patient ID and the time of the examination:\n",
    "    patient_id = df_ids7[df_ids7['Henvisnings-ID'] == acc_no]['Pasient'].iloc[0]\n",
    "    time = df_ids7[df_ids7['Henvisnings-ID'] == acc_no]['Bestilt dato og tidspunkt'].iloc[0]\n",
    "    print(patient_id, time)\n",
    "\n"
   ]
  },
  {
   "cell_type": "code",
   "execution_count": null,
   "metadata": {},
   "outputs": [],
   "source": [
    "a = df_ids7[df_ids7['Henvisnings-ID'] == acc_no]\n",
    "a['Bestilt dato og tidspunkt'].iloc[0]"
   ]
  }
 ],
 "metadata": {
  "kernelspec": {
   "display_name": "BHPython311",
   "language": "python",
   "name": "python3"
  },
  "language_info": {
   "codemirror_mode": {
    "name": "ipython",
    "version": 3
   },
   "file_extension": ".py",
   "mimetype": "text/x-python",
   "name": "python",
   "nbconvert_exporter": "python",
   "pygments_lexer": "ipython3",
   "version": "3.11.4"
  },
  "orig_nbformat": 4
 },
 "nbformat": 4,
 "nbformat_minor": 2
}
