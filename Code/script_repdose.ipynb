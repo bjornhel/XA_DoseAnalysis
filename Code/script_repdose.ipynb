{
 "cells": [
  {
   "cell_type": "code",
   "execution_count": 20,
   "metadata": {},
   "outputs": [
    {
     "name": "stdout",
     "output_type": "stream",
     "text": [
      "Number of rows with NaT in the column \"Bestilt dato og tidspunkt\": 1\n",
      "Number of cancelled procedures: 419\n",
      "Number of non-human subjects: 8\n",
      "Number of rows with invalid accession number: 0\n",
      "Number of accession numbers in IDS7: 2371\n",
      "Number of accession numbers in IDS7 not in DoseTrack: 142\n",
      "Inserted accession number: NRRH000008244732 for patient: PAS0246, time: 2023-05-18 13:00:00, accession numbers: ['NRRH000008244732' 'NRRH000008244733']\n",
      "Inserted accession number: NRRH000007967678 for patient: PAS1308, time: 2023-01-03 07:00:00, accession numbers: ['NRRH000007967670' 'NRRH000007967678']\n",
      "The accession numbers have been changed. Running check_accession_ids7_vs_dt\n",
      "Number of accession numbers in IDS7: 2369\n",
      "Number of accession numbers in IDS7 not in DoseTrack: 140\n",
      "Number of accession numbers in DoseTrack: 2490\n",
      "Number of accession numbers in DoseTrack not in IDS7: 261\n"
     ]
    }
   ],
   "source": [
    "# Import libraries:\n",
    "import pandas as pd\n",
    "import importlib \n",
    "import dt_ids7_export_utils as bh_utils\n",
    "import elfys_functions as bh_elfys\n",
    "import plot_functions as bh_plot\n",
    "import reporting_utils as bh_report\n",
    "\n",
    "# Make sure personal libraries are reloaded incase of adjustments:\n",
    "importlib.reload(bh_utils)\n",
    "importlib.reload(bh_elfys)\n",
    "importlib.reload(bh_plot)\n",
    "importlib.reload(bh_report)\n",
    "\n",
    "# Get the name of the computer:\n",
    "import socket\n",
    "hostname = socket.gethostname()\n",
    "if hostname == 'BHs-Desktop':\n",
    "    path = 'E:\\\\'\n",
    "elif hostname == 'BH-XPS':\n",
    "    path = 'G:\\\\'\n",
    "else:\n",
    "    path = 'D:\\\\'\n",
    "\n",
    "del hostname\n",
    "# Import the data:\n",
    "df_ids7 = pd.read_excel(path + 'IDS7 RRH XA.xlsx')\n",
    "df_dt = pd.read_excel(path + 'DoseTrack RRH XA reduced.xlsx')\n",
    "\n",
    "del path\n",
    "\n",
    "# Run all cleanups, filters and checks:\n",
    "df_ids7 = bh_utils.run_all_cleanup_filters_and_checks(df_ids7, df_dt, True)\n"
   ]
  },
  {
   "cell_type": "code",
   "execution_count": 21,
   "metadata": {},
   "outputs": [
    {
     "ename": "SyntaxError",
     "evalue": "unterminated string literal (detected at line 2) (1126444786.py, line 2)",
     "output_type": "error",
     "traceback": [
      "\u001b[1;36m  Cell \u001b[1;32mIn[21], line 2\u001b[1;36m\u001b[0m\n\u001b[1;33m    print(len(df_dt[(df_dt['Study Date'] > '2023-01-01') & (df_dt['Henvisning_i_ids7'] == True)]['Accession Number'].unique()']))\u001b[0m\n\u001b[1;37m                                                                                                                             ^\u001b[0m\n\u001b[1;31mSyntaxError\u001b[0m\u001b[1;31m:\u001b[0m unterminated string literal (detected at line 2)\n"
     ]
    }
   ],
   "source": [
    "# count all procedures in 2023 that are not in ids7:\n",
    "print(len(df_dt[(df_dt['Study Date'] > '2023-01-01') & (df_dt['Henvisning_i_ids7'] == True)]['Accession Number'].unique()]))\n",
    "print(len(df_dt[(df_dt['Study Date'] > '2023-01-01') & (df_dt['Henvisning_i_ids7'] == False)]['Accession Number'].unique()))"
   ]
  },
  {
   "cell_type": "code",
   "execution_count": 19,
   "metadata": {},
   "outputs": [
    {
     "name": "stdout",
     "output_type": "stream",
     "text": [
      "2916\n",
      "388\n"
     ]
    }
   ],
   "source": [
    "# count all procedures in 2023 that are not in ids7:\n",
    "print(len(df_dt[(df_dt['Study Date'] > '2023-01-01') & (df_dt['Henvisning_i_ids7'] == True)]))\n",
    "print(len(df_dt[(df_dt['Study Date'] > '2023-01-01') & (df_dt['Henvisning_i_ids7'] == False)]))"
   ]
  },
  {
   "cell_type": "code",
   "execution_count": 4,
   "metadata": {},
   "outputs": [
    {
     "ename": "KeyError",
     "evalue": "'Henvisning_i_ids7'",
     "output_type": "error",
     "traceback": [
      "\u001b[1;31m---------------------------------------------------------------------------\u001b[0m",
      "\u001b[1;31mKeyError\u001b[0m                                  Traceback (most recent call last)",
      "File \u001b[1;32mc:\\Users\\bjorn\\anaconda3\\envs\\BHPython311\\Lib\\site-packages\\pandas\\core\\indexes\\base.py:3653\u001b[0m, in \u001b[0;36mIndex.get_loc\u001b[1;34m(self, key)\u001b[0m\n\u001b[0;32m   3652\u001b[0m \u001b[39mtry\u001b[39;00m:\n\u001b[1;32m-> 3653\u001b[0m     \u001b[39mreturn\u001b[39;00m \u001b[39mself\u001b[39m\u001b[39m.\u001b[39m_engine\u001b[39m.\u001b[39mget_loc(casted_key)\n\u001b[0;32m   3654\u001b[0m \u001b[39mexcept\u001b[39;00m \u001b[39mKeyError\u001b[39;00m \u001b[39mas\u001b[39;00m err:\n",
      "File \u001b[1;32mc:\\Users\\bjorn\\anaconda3\\envs\\BHPython311\\Lib\\site-packages\\pandas\\_libs\\index.pyx:147\u001b[0m, in \u001b[0;36mpandas._libs.index.IndexEngine.get_loc\u001b[1;34m()\u001b[0m\n",
      "File \u001b[1;32mc:\\Users\\bjorn\\anaconda3\\envs\\BHPython311\\Lib\\site-packages\\pandas\\_libs\\index.pyx:176\u001b[0m, in \u001b[0;36mpandas._libs.index.IndexEngine.get_loc\u001b[1;34m()\u001b[0m\n",
      "File \u001b[1;32mpandas\\_libs\\hashtable_class_helper.pxi:7080\u001b[0m, in \u001b[0;36mpandas._libs.hashtable.PyObjectHashTable.get_item\u001b[1;34m()\u001b[0m\n",
      "File \u001b[1;32mpandas\\_libs\\hashtable_class_helper.pxi:7088\u001b[0m, in \u001b[0;36mpandas._libs.hashtable.PyObjectHashTable.get_item\u001b[1;34m()\u001b[0m\n",
      "\u001b[1;31mKeyError\u001b[0m: 'Henvisning_i_ids7'",
      "\nThe above exception was the direct cause of the following exception:\n",
      "\u001b[1;31mKeyError\u001b[0m                                  Traceback (most recent call last)",
      "\u001b[1;32mc:\\Users\\bjorn\\BH_Kode\\XA_DoseAnalysis\\Code\\script_repdose.ipynb Cell 2\u001b[0m line \u001b[0;36m2\n\u001b[0;32m      <a href='vscode-notebook-cell:/c%3A/Users/bjorn/BH_Kode/XA_DoseAnalysis/Code/script_repdose.ipynb#W5sZmlsZQ%3D%3D?line=0'>1</a>\u001b[0m \u001b[39m# Merge the dataframes:\u001b[39;00m\n\u001b[1;32m----> <a href='vscode-notebook-cell:/c%3A/Users/bjorn/BH_Kode/XA_DoseAnalysis/Code/script_repdose.ipynb#W5sZmlsZQ%3D%3D?line=1'>2</a>\u001b[0m data \u001b[39m=\u001b[39m bh_utils\u001b[39m.\u001b[39mmerge_ids7_dt(df_ids7, df_dt, \u001b[39mFalse\u001b[39;00m)\n",
      "File \u001b[1;32mc:\\Users\\bjorn\\BH_Kode\\XA_DoseAnalysis\\Code\\dt_ids7_export_utils.py:212\u001b[0m, in \u001b[0;36mmerge_ids7_dt\u001b[1;34m(df_ids7, df_dt, verbose)\u001b[0m\n\u001b[0;32m    209\u001b[0m df_ids7_to_merge \u001b[39m=\u001b[39m df_ids7[df_ids7[\u001b[39m'\u001b[39m\u001b[39mHenvisning_i_dt\u001b[39m\u001b[39m'\u001b[39m] \u001b[39m==\u001b[39m \u001b[39mTrue\u001b[39;00m]\u001b[39m.\u001b[39mgroupby(\u001b[39m'\u001b[39m\u001b[39mHenvisnings-ID\u001b[39m\u001b[39m'\u001b[39m, as_index \u001b[39m=\u001b[39m \u001b[39mFalse\u001b[39;00m)\u001b[39m.\u001b[39magg(agg_dict)\n\u001b[0;32m    211\u001b[0m \u001b[39m# Prepare the DoseTrack data for merge:\u001b[39;00m\n\u001b[1;32m--> 212\u001b[0m df_dt_to_merge \u001b[39m=\u001b[39m df_dt[df_dt[\u001b[39m'\u001b[39m\u001b[39mHenvisning_i_ids7\u001b[39m\u001b[39m'\u001b[39m] \u001b[39m==\u001b[39m \u001b[39mTrue\u001b[39;00m]\u001b[39m.\u001b[39mgroupby(\u001b[39m'\u001b[39m\u001b[39mAccession Number\u001b[39m\u001b[39m'\u001b[39m, as_index \u001b[39m=\u001b[39m \u001b[39mFalse\u001b[39;00m)\u001b[39m.\u001b[39magg({\u001b[39m'\u001b[39m\u001b[39mAccession Number\u001b[39m\u001b[39m'\u001b[39m: \u001b[39m'\u001b[39m\u001b[39mfirst\u001b[39m\u001b[39m'\u001b[39m,\n\u001b[0;32m    213\u001b[0m                                             \u001b[39m'\u001b[39m\u001b[39mStudy Date\u001b[39m\u001b[39m'\u001b[39m: \u001b[39m'\u001b[39m\u001b[39mfirst\u001b[39m\u001b[39m'\u001b[39m,\n\u001b[0;32m    214\u001b[0m                                             \u001b[39m'\u001b[39m\u001b[39mAge (Years)\u001b[39m\u001b[39m'\u001b[39m: \u001b[39m'\u001b[39m\u001b[39mfirst\u001b[39m\u001b[39m'\u001b[39m,\n\u001b[0;32m    215\u001b[0m                                             \u001b[39m'\u001b[39m\u001b[39mDAP Total (Gy*cm2)\u001b[39m\u001b[39m'\u001b[39m: \u001b[39m'\u001b[39m\u001b[39msum\u001b[39m\u001b[39m'\u001b[39m,\n\u001b[0;32m    216\u001b[0m                                             \u001b[39m'\u001b[39m\u001b[39mCAK (mGy)\u001b[39m\u001b[39m'\u001b[39m: \u001b[39m'\u001b[39m\u001b[39msum\u001b[39m\u001b[39m'\u001b[39m,\n\u001b[0;32m    217\u001b[0m                                             \u001b[39m'\u001b[39m\u001b[39mF+A Time (s)\u001b[39m\u001b[39m'\u001b[39m: \u001b[39m'\u001b[39m\u001b[39msum\u001b[39m\u001b[39m'\u001b[39m,\n\u001b[0;32m    218\u001b[0m                                             \u001b[39m'\u001b[39m\u001b[39mModality Room\u001b[39m\u001b[39m'\u001b[39m: \u001b[39m'\u001b[39m\u001b[39mfirst\u001b[39m\u001b[39m'\u001b[39m})\n\u001b[0;32m    220\u001b[0m \u001b[39m# Merge the IDS7 and DoseTrack data:\u001b[39;00m\n\u001b[0;32m    221\u001b[0m data \u001b[39m=\u001b[39m pd\u001b[39m.\u001b[39mmerge(df_ids7_to_merge, df_dt_to_merge, how\u001b[39m=\u001b[39m\u001b[39m'\u001b[39m\u001b[39mouter\u001b[39m\u001b[39m'\u001b[39m, left_on\u001b[39m=\u001b[39m\u001b[39m'\u001b[39m\u001b[39mHenvisnings-ID\u001b[39m\u001b[39m'\u001b[39m, right_on\u001b[39m=\u001b[39m\u001b[39m'\u001b[39m\u001b[39mAccession Number\u001b[39m\u001b[39m'\u001b[39m)\n",
      "File \u001b[1;32mc:\\Users\\bjorn\\anaconda3\\envs\\BHPython311\\Lib\\site-packages\\pandas\\core\\frame.py:3761\u001b[0m, in \u001b[0;36mDataFrame.__getitem__\u001b[1;34m(self, key)\u001b[0m\n\u001b[0;32m   3759\u001b[0m \u001b[39mif\u001b[39;00m \u001b[39mself\u001b[39m\u001b[39m.\u001b[39mcolumns\u001b[39m.\u001b[39mnlevels \u001b[39m>\u001b[39m \u001b[39m1\u001b[39m:\n\u001b[0;32m   3760\u001b[0m     \u001b[39mreturn\u001b[39;00m \u001b[39mself\u001b[39m\u001b[39m.\u001b[39m_getitem_multilevel(key)\n\u001b[1;32m-> 3761\u001b[0m indexer \u001b[39m=\u001b[39m \u001b[39mself\u001b[39m\u001b[39m.\u001b[39mcolumns\u001b[39m.\u001b[39mget_loc(key)\n\u001b[0;32m   3762\u001b[0m \u001b[39mif\u001b[39;00m is_integer(indexer):\n\u001b[0;32m   3763\u001b[0m     indexer \u001b[39m=\u001b[39m [indexer]\n",
      "File \u001b[1;32mc:\\Users\\bjorn\\anaconda3\\envs\\BHPython311\\Lib\\site-packages\\pandas\\core\\indexes\\base.py:3655\u001b[0m, in \u001b[0;36mIndex.get_loc\u001b[1;34m(self, key)\u001b[0m\n\u001b[0;32m   3653\u001b[0m     \u001b[39mreturn\u001b[39;00m \u001b[39mself\u001b[39m\u001b[39m.\u001b[39m_engine\u001b[39m.\u001b[39mget_loc(casted_key)\n\u001b[0;32m   3654\u001b[0m \u001b[39mexcept\u001b[39;00m \u001b[39mKeyError\u001b[39;00m \u001b[39mas\u001b[39;00m err:\n\u001b[1;32m-> 3655\u001b[0m     \u001b[39mraise\u001b[39;00m \u001b[39mKeyError\u001b[39;00m(key) \u001b[39mfrom\u001b[39;00m \u001b[39merr\u001b[39;00m\n\u001b[0;32m   3656\u001b[0m \u001b[39mexcept\u001b[39;00m \u001b[39mTypeError\u001b[39;00m:\n\u001b[0;32m   3657\u001b[0m     \u001b[39m# If we have a listlike key, _check_indexing_error will raise\u001b[39;00m\n\u001b[0;32m   3658\u001b[0m     \u001b[39m#  InvalidIndexError. Otherwise we fall through and re-raise\u001b[39;00m\n\u001b[0;32m   3659\u001b[0m     \u001b[39m#  the TypeError.\u001b[39;00m\n\u001b[0;32m   3660\u001b[0m     \u001b[39mself\u001b[39m\u001b[39m.\u001b[39m_check_indexing_error(key)\n",
      "\u001b[1;31mKeyError\u001b[0m: 'Henvisning_i_ids7'"
     ]
    }
   ],
   "source": [
    "# Merge the dataframes:\n",
    "data = bh_utils.merge_ids7_dt(df_ids7, df_dt, False)"
   ]
  },
  {
   "cell_type": "code",
   "execution_count": null,
   "metadata": {},
   "outputs": [],
   "source": [
    "bh_utils.export_examination_codes_to_text_file(df_ids7, 'RRH_XA1')\n",
    "bh_utils.export_examination_codes_to_text_file(df_ids7, 'RRH_XA2')\n",
    "bh_utils.export_examination_codes_to_text_file(df_ids7, 'RRH_XA4')\n",
    "bh_utils.export_examination_codes_to_text_file(df_ids7, 'RRH_RF2')\n",
    "bh_utils.export_examination_codes_to_text_file(df_ids7, 'IRH_XA7')"
   ]
  },
  {
   "cell_type": "code",
   "execution_count": null,
   "metadata": {},
   "outputs": [],
   "source": [
    "# Check for patients with multiple bookings on the same time, with different accession numbers:\n",
    "bh_utils.check_patents_with_multiple_bookings_on_same_time_with_different_accession(df_ids7)"
   ]
  },
  {
   "cell_type": "code",
   "execution_count": null,
   "metadata": {},
   "outputs": [],
   "source": [
    "# Check for patients with multiple bookings on the same day but not the same time, with different accession numbers:\n",
    "bh_utils.check_patents_with_multiple_bookings_on_same_day_with_different_accession(df_ids7)"
   ]
  }
 ],
 "metadata": {
  "kernelspec": {
   "display_name": "BHPython311",
   "language": "python",
   "name": "python3"
  },
  "language_info": {
   "codemirror_mode": {
    "name": "ipython",
    "version": 3
   },
   "file_extension": ".py",
   "mimetype": "text/x-python",
   "name": "python",
   "nbconvert_exporter": "python",
   "pygments_lexer": "ipython3",
   "version": "3.11.5"
  },
  "orig_nbformat": 4
 },
 "nbformat": 4,
 "nbformat_minor": 2
}
