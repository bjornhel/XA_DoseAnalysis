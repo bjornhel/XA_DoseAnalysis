{
 "cells": [
  {
   "cell_type": "code",
   "execution_count": 1,
   "metadata": {},
   "outputs": [
    {
     "name": "stdout",
     "output_type": "stream",
     "text": [
      "Dropping unnecessary column: Prioritet- og lesemerkeikon\n",
      "Dropping unnecessary column: Lagt til i demonstrasjon-ikon\n",
      "Dropping unnecessary column: Status\n",
      "Number of rows with NaT in the column \"Bestilt dato og tidspunkt\": 1\n",
      "Number of cancelled procedures: 393\n",
      "Number of non-human subjects: 7\n",
      "Number of rows with invalid accession number: 0\n",
      "Number of accession numbers in IDS7: 2218\n",
      "Number of accession numbers in IDS7 not in DoseTrack: 136\n"
     ]
    }
   ],
   "source": [
    "# Import libraries:\n",
    "import pandas as pd\n",
    "import numpy as np\n",
    "import matplotlib.pyplot as plt\n",
    "import dt_ids7_export_utils as bh_utils\n",
    "\n",
    "# Get the name of the computer:\n",
    "import socket\n",
    "hostname = socket.gethostname()\n",
    "if hostname == 'BHs-Desktop':\n",
    "    path = 'E:\\\\'\n",
    "elif hostname == 'BH-XPS':\n",
    "    path = 'G:\\\\'\n",
    "else:\n",
    "    path = 'D:\\\\'\n",
    "\n",
    "del hostname\n",
    "# Import the data:\n",
    "df_ids7 = pd.read_excel(path + 'IDS7 RRH XA.xlsx')\n",
    "df_dt = pd.read_excel(path + 'DoseTrack RRH XA reduced.xlsx')\n",
    "\n",
    "del path\n",
    "\n",
    "# Remove unnessecary columns:\n",
    "df_ids7 = bh_utils.remove_unnecessary_columns(df_ids7, True)\n",
    "# Check for missing time data:\n",
    "df_ids7 = bh_utils.filter_NaT(df_ids7, True)\n",
    "# Check for cancelled procedures:\n",
    "df_ids7 = bh_utils.filter_cancelled(df_ids7, True)\n",
    "# Check for non-human subjects (e.g. phantoms, animals, etc.):\n",
    "df_ids7 = bh_utils.filter_phantom_etc(df_ids7, True)\n",
    "# Check for invalid accession numbers:\n",
    "df_ids7 = bh_utils.check_accession_format(df_ids7, True)\n",
    "# Check whether an accession number is in the DoseTrack data:\n",
    "df_ids7 = bh_utils.check_accession_ids7_vs_dt(df_ids7, df_dt, True)"
   ]
  },
  {
   "cell_type": "code",
   "execution_count": 3,
   "metadata": {},
   "outputs": [
    {
     "name": "stdout",
     "output_type": "stream",
     "text": [
      "Patient: PAS0607, time: 2023-05-18 13:00:00, accession numbers: ['NRRH000008244733' 'NRRH000008244732']\n"
     ]
    },
    {
     "ename": "TypeError",
     "evalue": "unhashable type: 'numpy.ndarray'",
     "output_type": "error",
     "traceback": [
      "\u001b[1;31m---------------------------------------------------------------------------\u001b[0m",
      "\u001b[1;31mTypeError\u001b[0m                                 Traceback (most recent call last)",
      "\u001b[1;32mc:\\Users\\bjorn\\BH_Kode\\XA_DoseAnalysis\\Code\\script_repdose.ipynb Cell 2\u001b[0m line \u001b[0;36m2\n\u001b[0;32m     <a href='vscode-notebook-cell:/c%3A/Users/bjorn/BH_Kode/XA_DoseAnalysis/Code/script_repdose.ipynb#W6sZmlsZQ%3D%3D?line=18'>19</a>\u001b[0m     acc_nr_in_dt[acc] \u001b[39m=\u001b[39m df_ids7[(df_ids7[\u001b[39m'\u001b[39m\u001b[39mPasient\u001b[39m\u001b[39m'\u001b[39m] \u001b[39m==\u001b[39m patient) \u001b[39m&\u001b[39m (df_ids7[\u001b[39m'\u001b[39m\u001b[39mBestilt dato og tidspunkt\u001b[39m\u001b[39m'\u001b[39m] \u001b[39m==\u001b[39m time) \u001b[39m&\u001b[39m (df_ids7[\u001b[39m'\u001b[39m\u001b[39mHenvisnings-ID\u001b[39m\u001b[39m'\u001b[39m] \u001b[39m==\u001b[39m acc)][\u001b[39m'\u001b[39m\u001b[39mHenvisning_i_dt\u001b[39m\u001b[39m'\u001b[39m]\u001b[39m.\u001b[39munique()\n\u001b[0;32m     <a href='vscode-notebook-cell:/c%3A/Users/bjorn/BH_Kode/XA_DoseAnalysis/Code/script_repdose.ipynb#W6sZmlsZQ%3D%3D?line=20'>21</a>\u001b[0m \u001b[39m# Check if there are both true and false values:\u001b[39;00m\n\u001b[1;32m---> <a href='vscode-notebook-cell:/c%3A/Users/bjorn/BH_Kode/XA_DoseAnalysis/Code/script_repdose.ipynb#W6sZmlsZQ%3D%3D?line=21'>22</a>\u001b[0m \u001b[39mif\u001b[39;00m acc_nr_in_dt\u001b[39m.\u001b[39mnunique() \u001b[39m>\u001b[39m \u001b[39m1\u001b[39m:\n\u001b[0;32m     <a href='vscode-notebook-cell:/c%3A/Users/bjorn/BH_Kode/XA_DoseAnalysis/Code/script_repdose.ipynb#W6sZmlsZQ%3D%3D?line=22'>23</a>\u001b[0m     \u001b[39m# Warn the user that there might be ambigous data regarding this procedure if there are several true and at least one false:\u001b[39;00m\n\u001b[0;32m     <a href='vscode-notebook-cell:/c%3A/Users/bjorn/BH_Kode/XA_DoseAnalysis/Code/script_repdose.ipynb#W6sZmlsZQ%3D%3D?line=23'>24</a>\u001b[0m     \u001b[39mif\u001b[39;00m \u001b[39mlen\u001b[39m(acc_nr_in_dt[acc_nr_in_dt \u001b[39m==\u001b[39m \u001b[39mTrue\u001b[39;00m]) \u001b[39m>\u001b[39m \u001b[39m1\u001b[39m \u001b[39mand\u001b[39;00m \u001b[39mlen\u001b[39m(acc_nr_in_dt[acc_nr_in_dt \u001b[39m==\u001b[39m \u001b[39mFalse\u001b[39;00m]) \u001b[39m>\u001b[39m \u001b[39m0\u001b[39m:\n\u001b[0;32m     <a href='vscode-notebook-cell:/c%3A/Users/bjorn/BH_Kode/XA_DoseAnalysis/Code/script_repdose.ipynb#W6sZmlsZQ%3D%3D?line=24'>25</a>\u001b[0m         \u001b[39mprint\u001b[39m(\u001b[39m'\u001b[39m\u001b[39mWARNING: there are two or more accessions with data in dosetrack and at least one without.\u001b[39m\u001b[39m'\u001b[39m)\n",
      "File \u001b[1;32mc:\\Users\\bjorn\\anaconda3\\envs\\BHPython311\\Lib\\site-packages\\pandas\\core\\base.py:1068\u001b[0m, in \u001b[0;36mIndexOpsMixin.nunique\u001b[1;34m(self, dropna)\u001b[0m\n\u001b[0;32m   1033\u001b[0m \u001b[39m@final\u001b[39m\n\u001b[0;32m   1034\u001b[0m \u001b[39mdef\u001b[39;00m \u001b[39mnunique\u001b[39m(\u001b[39mself\u001b[39m, dropna: \u001b[39mbool\u001b[39m \u001b[39m=\u001b[39m \u001b[39mTrue\u001b[39;00m) \u001b[39m-\u001b[39m\u001b[39m>\u001b[39m \u001b[39mint\u001b[39m:\n\u001b[0;32m   1035\u001b[0m \u001b[39m    \u001b[39m\u001b[39m\"\"\"\u001b[39;00m\n\u001b[0;32m   1036\u001b[0m \u001b[39m    Return number of unique elements in the object.\u001b[39;00m\n\u001b[0;32m   1037\u001b[0m \n\u001b[1;32m   (...)\u001b[0m\n\u001b[0;32m   1066\u001b[0m \u001b[39m    4\u001b[39;00m\n\u001b[0;32m   1067\u001b[0m \u001b[39m    \"\"\"\u001b[39;00m\n\u001b[1;32m-> 1068\u001b[0m     uniqs \u001b[39m=\u001b[39m \u001b[39mself\u001b[39m\u001b[39m.\u001b[39munique()\n\u001b[0;32m   1069\u001b[0m     \u001b[39mif\u001b[39;00m dropna:\n\u001b[0;32m   1070\u001b[0m         uniqs \u001b[39m=\u001b[39m remove_na_arraylike(uniqs)\n",
      "File \u001b[1;32mc:\\Users\\bjorn\\anaconda3\\envs\\BHPython311\\Lib\\site-packages\\pandas\\core\\series.py:2194\u001b[0m, in \u001b[0;36mSeries.unique\u001b[1;34m(self)\u001b[0m\n\u001b[0;32m   2131\u001b[0m \u001b[39mdef\u001b[39;00m \u001b[39munique\u001b[39m(\u001b[39mself\u001b[39m) \u001b[39m-\u001b[39m\u001b[39m>\u001b[39m ArrayLike:  \u001b[39m# pylint: disable=useless-parent-delegation\u001b[39;00m\n\u001b[0;32m   2132\u001b[0m \u001b[39m    \u001b[39m\u001b[39m\"\"\"\u001b[39;00m\n\u001b[0;32m   2133\u001b[0m \u001b[39m    Return unique values of Series object.\u001b[39;00m\n\u001b[0;32m   2134\u001b[0m \n\u001b[1;32m   (...)\u001b[0m\n\u001b[0;32m   2192\u001b[0m \u001b[39m    Categories (3, object): ['a' < 'b' < 'c']\u001b[39;00m\n\u001b[0;32m   2193\u001b[0m \u001b[39m    \"\"\"\u001b[39;00m\n\u001b[1;32m-> 2194\u001b[0m     \u001b[39mreturn\u001b[39;00m \u001b[39msuper\u001b[39m()\u001b[39m.\u001b[39munique()\n",
      "File \u001b[1;32mc:\\Users\\bjorn\\anaconda3\\envs\\BHPython311\\Lib\\site-packages\\pandas\\core\\base.py:1030\u001b[0m, in \u001b[0;36mIndexOpsMixin.unique\u001b[1;34m(self)\u001b[0m\n\u001b[0;32m   1028\u001b[0m     result \u001b[39m=\u001b[39m values\u001b[39m.\u001b[39munique()\n\u001b[0;32m   1029\u001b[0m \u001b[39melse\u001b[39;00m:\n\u001b[1;32m-> 1030\u001b[0m     result \u001b[39m=\u001b[39m algorithms\u001b[39m.\u001b[39munique1d(values)\n\u001b[0;32m   1031\u001b[0m \u001b[39mreturn\u001b[39;00m result\n",
      "File \u001b[1;32mc:\\Users\\bjorn\\anaconda3\\envs\\BHPython311\\Lib\\site-packages\\pandas\\core\\algorithms.py:390\u001b[0m, in \u001b[0;36munique\u001b[1;34m(values)\u001b[0m\n\u001b[0;32m    296\u001b[0m \u001b[39mdef\u001b[39;00m \u001b[39munique\u001b[39m(values):\n\u001b[0;32m    297\u001b[0m \u001b[39m    \u001b[39m\u001b[39m\"\"\"\u001b[39;00m\n\u001b[0;32m    298\u001b[0m \u001b[39m    Return unique values based on a hash table.\u001b[39;00m\n\u001b[0;32m    299\u001b[0m \n\u001b[1;32m   (...)\u001b[0m\n\u001b[0;32m    388\u001b[0m \u001b[39m    array([('a', 'b'), ('b', 'a'), ('a', 'c')], dtype=object)\u001b[39;00m\n\u001b[0;32m    389\u001b[0m \u001b[39m    \"\"\"\u001b[39;00m\n\u001b[1;32m--> 390\u001b[0m     \u001b[39mreturn\u001b[39;00m unique_with_mask(values)\n",
      "File \u001b[1;32mc:\\Users\\bjorn\\anaconda3\\envs\\BHPython311\\Lib\\site-packages\\pandas\\core\\algorithms.py:429\u001b[0m, in \u001b[0;36munique_with_mask\u001b[1;34m(values, mask)\u001b[0m\n\u001b[0;32m    427\u001b[0m table \u001b[39m=\u001b[39m hashtable(\u001b[39mlen\u001b[39m(values))\n\u001b[0;32m    428\u001b[0m \u001b[39mif\u001b[39;00m mask \u001b[39mis\u001b[39;00m \u001b[39mNone\u001b[39;00m:\n\u001b[1;32m--> 429\u001b[0m     uniques \u001b[39m=\u001b[39m table\u001b[39m.\u001b[39munique(values)\n\u001b[0;32m    430\u001b[0m     uniques \u001b[39m=\u001b[39m _reconstruct_data(uniques, original\u001b[39m.\u001b[39mdtype, original)\n\u001b[0;32m    431\u001b[0m     \u001b[39mreturn\u001b[39;00m uniques\n",
      "File \u001b[1;32mpandas\\_libs\\hashtable_class_helper.pxi:7247\u001b[0m, in \u001b[0;36mpandas._libs.hashtable.PyObjectHashTable.unique\u001b[1;34m()\u001b[0m\n",
      "File \u001b[1;32mpandas\\_libs\\hashtable_class_helper.pxi:7194\u001b[0m, in \u001b[0;36mpandas._libs.hashtable.PyObjectHashTable._unique\u001b[1;34m()\u001b[0m\n",
      "\u001b[1;31mTypeError\u001b[0m: unhashable type: 'numpy.ndarray'"
     ]
    }
   ],
   "source": [
    "\n",
    "\n",
    "# Go through all the patients in the IDS7 data:\n",
    "patient_list = df_ids7['Pasient'].unique()\n",
    "for patient in patient_list:\n",
    "    # Go through all the individual booking times for this patient:\n",
    "    booking_times = sorted(df_ids7[df_ids7['Pasient'] == patient]['Bestilt dato og tidspunkt'].unique())\n",
    "    for time in booking_times:\n",
    "        # Get the accession number for this patient at this booking time:\n",
    "        acc_nr = df_ids7[(df_ids7['Pasient'] == patient) & (df_ids7['Bestilt dato og tidspunkt'] == time)]['Henvisnings-ID'].unique()\n",
    "        # Check if there is more than one accession number for this patient at this time:\n",
    "        if len(acc_nr) > 1:\n",
    "            # Make a pandas series with accession numbers as index and true/false as values:\n",
    "            print('Patient: ' + str(patient) + ', time: ' + str(time) + ', accession numbers: ' + str(acc_nr))\n",
    "            acc_nr_in_dt = pd.Series(index=acc_nr, data = np.nan)\n",
    "            # Go through all the accession numbers for this patient at this time:\n",
    "            for acc in acc_nr:\n",
    "                # Check if the accession number is in the DoseTrack data:\n",
    "                acc_nr_in_dt[acc] = df_ids7[(df_ids7['Pasient'] == patient) & (df_ids7['Bestilt dato og tidspunkt'] == time) & (df_ids7['Henvisnings-ID'] == acc)]['Henvisning_i_dt'].unique()\n",
    "            \n",
    "            # Check if there are both true and false values:\n",
    "            if acc_nr_in_dt.nunique() > 1:\n",
    "                # Warn the user that there might be ambigous data regarding this procedure if there are several true and at least one false:\n",
    "                if len(acc_nr_in_dt[acc_nr_in_dt == True]) > 1 and len(acc_nr_in_dt[acc_nr_in_dt == False]) > 0:\n",
    "                    print('WARNING: there are two or more accessions with data in dosetrack and at least one without.')\n",
    "                    print('Please investigate patient: ' + str(patient) + ', time: ' + str(time) + ', accession numbers: ' + str(acc_nr))\n",
    "                else:\n",
    "                    # Insert the accession number which is included in the DoseTrack data into all the rows for the same patient and booking with no dosetrack data:\n",
    "                    df_ids7.loc[(df_ids7['Pasient'] == patient) & (df_ids7['Bestilt dato og tidspunkt'] == time) & (df_ids7['Henvisnings-ID'] == False) , 'Henvisning_i_dt'] = acc_nr_in_dt[acc_nr_in_dt == True].index[0]              \n",
    "                    \n",
    "                    \n",
    "\n",
    "\n",
    "\n",
    "                \n",
    "            \n",
    "\n",
    "            \n"
   ]
  },
  {
   "cell_type": "code",
   "execution_count": 16,
   "metadata": {},
   "outputs": [],
   "source": [
    "# Insert Kjønn 'Undefined for all rows with patient 20:\n",
    "df_ids7.loc[df_ids7['Pasient'] == 'PAS0020', 'Kjønn'] = 'Undefined'"
   ]
  },
  {
   "cell_type": "code",
   "execution_count": null,
   "metadata": {},
   "outputs": [],
   "source": [
    "booking_times = sorted(df_ids7['Bestilt dato og tidspunkt'].unique())\n",
    "print(booking_times)"
   ]
  },
  {
   "cell_type": "code",
   "execution_count": 12,
   "metadata": {},
   "outputs": [],
   "source": [
    "# Check if there are any rows with false values in the 'Henvisning_i_dt' column:\n",
    "if df_ids7['Henvisning_i_dt'].any() == False:\n",
    "    print('All accession numbers are in DoseTrack.')\n",
    "\n"
   ]
  },
  {
   "cell_type": "markdown",
   "metadata": {},
   "source": [
    "We need to create logic for merging lines in the ids7 data:\n",
    "\n",
    "During a booking the patient gets an accession number:\n",
    "As the procedure moves forward more codes can be added to the same accession number. These codes should be merged into one line.\n",
    "\n",
    "Check if the accession number exists in Dosetrack. If it does, check if there are any accession numbers within 12 hrs on the same patient on the same lab that does not have a corresponding entry in dosetrack. If so they might be in the same procedure.\n",
    "\n",
    "Alternatively, if there are an accession number that is not included in doseTrack, check if there are any accession numbers within 12 hrs on the same patient on the same lab that does have a corresponding entry in dosetrack. If so they might be in the same procedure.\n",
    "\n",
    "If neither of the procedures exists in dosetrack they might or might not be the same procedure.\n",
    "\n",
    "Print a list of all the changes performed on the data."
   ]
  },
  {
   "cell_type": "code",
   "execution_count": null,
   "metadata": {},
   "outputs": [],
   "source": [
    "# Check for patients with multiple bookings on the same time, with different accession numbers:\n",
    "bh_utils.check_patents_with_multiple_bookings_on_same_time_with_different_accession(df_ids7)"
   ]
  },
  {
   "cell_type": "code",
   "execution_count": 6,
   "metadata": {},
   "outputs": [],
   "source": [
    "# Check for patients with multiple bookings on the same day but not the same time, with different accession numbers:\n",
    "bh_utils.check_patents_with_multiple_bookings_on_same_day_with_different_accession(df_ids7)"
   ]
  }
 ],
 "metadata": {
  "kernelspec": {
   "display_name": "BHPython311",
   "language": "python",
   "name": "python3"
  },
  "language_info": {
   "codemirror_mode": {
    "name": "ipython",
    "version": 3
   },
   "file_extension": ".py",
   "mimetype": "text/x-python",
   "name": "python",
   "nbconvert_exporter": "python",
   "pygments_lexer": "ipython3",
   "version": "3.11.5"
  },
  "orig_nbformat": 4
 },
 "nbformat": 4,
 "nbformat_minor": 2
}
