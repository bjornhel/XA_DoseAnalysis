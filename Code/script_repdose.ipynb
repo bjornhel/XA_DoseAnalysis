{
 "cells": [
  {
   "cell_type": "code",
   "execution_count": 7,
   "metadata": {},
   "outputs": [
    {
     "name": "stdout",
     "output_type": "stream",
     "text": [
      "Number of rows with invalid accession number: 0\n"
     ]
    }
   ],
   "source": [
    "# Import libraries:\n",
    "import pandas as pd\n",
    "import matplotlib.pyplot as plt\n",
    "import dt_ids7_export_utils as bh_utils\n",
    "\n",
    "# Get the name of the computer:\n",
    "import socket\n",
    "hostname = socket.gethostname()\n",
    "if hostname == 'BHs-Desktop':\n",
    "    path = 'E:\\\\'\n",
    "else:\n",
    "    path = 'G:\\\\'\n",
    "\n",
    "del hostname\n",
    "# Import the data:\n",
    "df_ids7 = pd.read_excel(path + 'IDS7 RRH XA.xlsx')\n",
    "df_dt = pd.read_excel(path + 'DoseTrack RRH XA reduced.xlsx')\n",
    "\n",
    "del path\n",
    "\n",
    "# Check for missing time data:\n",
    "df_ids7 = bh_utils.filter_NaT(df_ids7)\n",
    "# Check for invalid accession numbers:\n",
    "df_ids7 = bh_utils.check_accession_no(df_ids7, True)"
   ]
  },
  {
   "cell_type": "markdown",
   "metadata": {},
   "source": [
    "1. Iterate through the Accession No. In the IDS7 data.\n",
    "2. Check if there are more than one accession No. for the current patient at the current date and time.\n",
    "\n",
    "3. Check if there are corresponding entries of accession No. in the dosetrack data. (DoseTrack should only have one Accession No).\n",
    "4. Is a corresponding accession number os found in DoseTrack, use this accession No.\n",
    "5. If there is no corresponding accession No. in DoseTrack, mark the case as having missing DoseTrack data.\n",
    "\n",
    "8. Do a search in the DoseTrack data for duplicate dose Data. If there are lines with identical dose, remove the duplicates. There should be a minor dose difference in all CBCT acquisitions for instance.\n",
    "9. Go through each accession No. in DoseTrack and Merge Plane A and B doses, and merge any additional CBCT examinations."
   ]
  },
  {
   "cell_type": "code",
   "execution_count": null,
   "metadata": {},
   "outputs": [],
   "source": [
    "# Go through the IDS7 data by accession No.\n",
    "# Check if there are any other accession No. on the same patient with the same booking time.\n",
    "\n",
    "def compare_accession(df_ids7, df_dt):\n",
    "    acquisition_no = df_ids7['Henvisnings-ID'].drop_duplicates()\n",
    "    \n",
    "    # First we would like to check whether a patient has more than one accession number for a single booking. \n",
    "\n",
    "\n",
    "    \n",
    "    status_acc_no = pd.Series(index=acc_no)\n",
    "    for acc_no in status_acc_no.index:\n",
    "        # find the patient ID and the time of the examination:\n",
    "        patient_id = df_ids7[df_ids7['Henvisnings-ID'] == acc_no]['Pasient'].iloc[0]\n",
    "        time = df_ids7[df_ids7['Henvisnings-ID'] == acc_no]['Bestilt dato og tidspunkt'].iloc[0]\n",
    "\n",
    "        2+2\n",
    "\n"
   ]
  },
  {
   "cell_type": "code",
   "execution_count": 11,
   "metadata": {},
   "outputs": [],
   "source": [
    "# First we check what the lowest time interval between two bookings with different accession numbers is for the same patient:\n",
    "\n",
    "patients = df_ids7['Pasient'].drop_duplicates()\n",
    "# Create an pandas series to store the lowest time interval for each patient between two bookings with different accession numbers:\n",
    "lowest_time_interval = pd.Series(index=patients)\n",
    "for patient in patients:\n",
    "    # Get the accession numbers for the patient:\n",
    "    acc_no = df_ids7[df_ids7['Pasient'] == patient]['Henvisnings-ID'].drop_duplicates()\n",
    "    # Get the time of the examination for the patient:\n",
    "    time = df_ids7[df_ids7['Pasient'] == patient]['Bestilt dato og tidspunkt']\n",
    "    # Sort the time:\n",
    "    time = time.sort_values()\n",
    "    # Calculate the time interval between two bookings in hours:\n",
    "    time_interval = (time - time.shift()).dropna().dt.total_seconds() / 3600\n",
    "        # Get the lowest time interval:\n",
    "    lowest_time_interval[patient] = time_interval.min()\n"
   ]
  },
  {
   "cell_type": "markdown",
   "metadata": {},
   "source": [
    "One patient can have the same accession no on different laboratories, due to erroneous registration in PACS.\n",
    "If so please check the Modality/Room in DoseTrack.\n",
    "\n",
    "If there is two different accession numbers at the same starting time they are likely the same examination.\n",
    "There was an example of a patient with as little as 1 hr 22 min between examinations. \n",
    "\n",
    "If there is two different accession numbers with the exact same time they are likely the same examination. "
   ]
  },
  {
   "cell_type": "code",
   "execution_count": null,
   "metadata": {},
   "outputs": [],
   "source": [
    "\n",
    "acquisition_no = df_ids7['Henvisnings-ID'].drop_duplicates()\n",
    "status_acc_no = pd.Series(index=acquisition_no)\n",
    "for acc_no in status_acc_no.index:\n",
    "    # find the patient ID and the time of the examination:\n",
    "    patient_id = df_ids7[df_ids7['Henvisnings-ID'] == acc_no]['Pasient'].iloc[0]\n",
    "    time = df_ids7[df_ids7['Henvisnings-ID'] == acc_no]['Bestilt dato og tidspunkt'].iloc[0]\n",
    "    print(patient_id, time)\n",
    "\n"
   ]
  }
 ],
 "metadata": {
  "kernelspec": {
   "display_name": "BHPython311",
   "language": "python",
   "name": "python3"
  },
  "language_info": {
   "codemirror_mode": {
    "name": "ipython",
    "version": 3
   },
   "file_extension": ".py",
   "mimetype": "text/x-python",
   "name": "python",
   "nbconvert_exporter": "python",
   "pygments_lexer": "ipython3",
   "version": "3.11.5"
  },
  "orig_nbformat": 4
 },
 "nbformat": 4,
 "nbformat_minor": 2
}
