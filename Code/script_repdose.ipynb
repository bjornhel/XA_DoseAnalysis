{
 "cells": [
  {
   "cell_type": "code",
   "execution_count": 2,
   "metadata": {},
   "outputs": [
    {
     "name": "stdout",
     "output_type": "stream",
     "text": [
      "Number of rows with invalid accession number: 0\n",
      "Number of accession numbers in IDS7: 2465\n",
      "Number of accession numbers in IDS7 not in DoseTrack: 441\n"
     ]
    }
   ],
   "source": [
    "# Import libraries:\n",
    "import pandas as pd\n",
    "import matplotlib.pyplot as plt\n",
    "import dt_ids7_export_utils as bh_utils\n",
    "\n",
    "# Get the name of the computer:\n",
    "import socket\n",
    "hostname = socket.gethostname()\n",
    "if hostname == 'BHs-Desktop':\n",
    "    path = 'E:\\\\'\n",
    "else:\n",
    "    path = 'G:\\\\'\n",
    "\n",
    "del hostname\n",
    "# Import the data:\n",
    "df_ids7 = pd.read_excel(path + 'IDS7 RRH XA.xlsx')\n",
    "df_dt = pd.read_excel(path + 'DoseTrack RRH XA reduced.xlsx')\n",
    "\n",
    "del path\n",
    "\n",
    "# Check for missing time data:\n",
    "df_ids7 = bh_utils.filter_NaT(df_ids7)\n",
    "# Check for cancelled procedures:\n",
    "# df_ids7 = bh_utils.filter_cancelled(df_ids7)\n",
    "# Check for non-human subjects (e.g. phantoms, animals, etc.):\n",
    "# df_ids7 = bh_utils.filter_phantom_etc(df_ids7)\n",
    "\n",
    "# Check for invalid accession numbers:\n",
    "df_ids7 = bh_utils.check_accession_format(df_ids7)\n",
    "# Check whether an accession number is in the DoseTrack data:\n",
    "df_ids7 = bh_utils.check_accession_ids7_vs_dt(df_ids7, df_dt)"
   ]
  },
  {
   "cell_type": "markdown",
   "metadata": {},
   "source": [
    "One patient can have the same accession no on different laboratories, due to erroneous registration in PACS.\n",
    "If so please check the Modality/Room in DoseTrack.\n",
    "\n",
    "If there is two different accession numbers at the same starting time they are likely the same examination.\n",
    "There was an example of a patient with as little as 1 hr 22 min between examinations.\n",
    "The Time of the procedure in dosetrack is the start of the procedure.\n",
    "\n",
    "\n",
    "If there is two different accession numbers with the exact same time they are likely the same examination. "
   ]
  },
  {
   "cell_type": "markdown",
   "metadata": {},
   "source": [
    "We need to create logic for merging lines in the ids7 data:\n",
    "\n",
    "During a booking the patient gets an accession number:\n",
    "As the procedure moves forward more codes can be added to the same accession number. These codes should be merged into one line.\n",
    "\n",
    "Check if the accession number exists in Dosetrack. If it does, check if there are any accession numbers within 12 hrs on the same patient on the same lab that does not have a corresponding entry in dosetrack. If so they might be in the same procedure.\n",
    "\n",
    "Alternatively, if there are an accession number that is not included in doseTrack, check if there are any accession numbers within 12 hrs on the same patient on the same lab that does have a corresponding entry in dosetrack. If so they might be in the same procedure.\n",
    "\n",
    "If neither of the procedures exists in dosetrack they might or might not be the same procedure.\n",
    "\n",
    "Print a list of all the changes performed on the data."
   ]
  },
  {
   "cell_type": "code",
   "execution_count": null,
   "metadata": {},
   "outputs": [],
   "source": [
    "# Check for patients with multiple bookings on the same time, with different accession numbers:\n",
    "bh_utils.check_patents_with_multiple_bookings_on_same_time_with_different_accession(df_ids7)"
   ]
  },
  {
   "cell_type": "code",
   "execution_count": null,
   "metadata": {},
   "outputs": [],
   "source": [
    "# Check for patients with multiple bookings on the same day but not the same time, with different accession numbers:\n",
    "bh_utils.check_patents_with_multiple_bookings_on_same_day_with_different_accession(df_ids7)"
   ]
  }
 ],
 "metadata": {
  "kernelspec": {
   "display_name": "BHPython311",
   "language": "python",
   "name": "python3"
  },
  "language_info": {
   "codemirror_mode": {
    "name": "ipython",
    "version": 3
   },
   "file_extension": ".py",
   "mimetype": "text/x-python",
   "name": "python",
   "nbconvert_exporter": "python",
   "pygments_lexer": "ipython3",
   "version": "3.11.5"
  },
  "orig_nbformat": 4
 },
 "nbformat": 4,
 "nbformat_minor": 2
}
