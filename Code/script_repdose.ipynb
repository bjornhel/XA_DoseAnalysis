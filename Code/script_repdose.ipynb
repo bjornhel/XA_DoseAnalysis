{
 "cells": [
  {
   "cell_type": "code",
   "execution_count": 1,
   "metadata": {},
   "outputs": [
    {
     "name": "stdout",
     "output_type": "stream",
     "text": [
      "Number of rows with NaT in the column \"Bestilt dato og tidspunkt\": 1\n",
      "Number of cancelled procedures: 419\n",
      "Number of non-human subjects: 8\n",
      "Number of rows with invalid accession number: 0\n",
      "Number of accession numbers in IDS7: 2371\n",
      "Number of accession numbers in IDS7 not in DoseTrack: 142\n",
      "Inserted accession number: NRRH000008244732 for patient: PAS0246, time: 2023-05-18 13:00:00, accession numbers: ['NRRH000008244732' 'NRRH000008244733']\n",
      "Inserted accession number: NRRH000007967678 for patient: PAS1308, time: 2023-01-03 07:00:00, accession numbers: ['NRRH000007967670' 'NRRH000007967678']\n",
      "The accession numbers have been changed. Running check_accession_ids7_vs_dt\n",
      "Number of accession numbers in IDS7: 2369\n",
      "Number of accession numbers in IDS7 not in DoseTrack: 140\n",
      "Number of accession numbers in DoseTrack: 2490\n",
      "Number of accession numbers in DoseTrack not in IDS7: 261\n",
      "WARNING: The column \"Kjønn\" does not exist in the \"IDS7\" dataframe.\n",
      "This column will not be included in the merged data.\n",
      "\n",
      "\n",
      "The IDS7 and DoseTrack has merged data of length: 2229\n"
     ]
    }
   ],
   "source": [
    "# Import libraries:\n",
    "import pandas as pd\n",
    "import importlib \n",
    "import dt_ids7_export_utils as bh_utils\n",
    "import rad_xa_mapping_func as bh_rad_xa\n",
    "import plot_functions as bh_plot\n",
    "import reporting_utils as bh_report\n",
    "\n",
    "# Make sure personal libraries are reloaded incase of adjustments:\n",
    "importlib.reload(bh_utils)\n",
    "importlib.reload(bh_rad_xa)\n",
    "importlib.reload(bh_plot)\n",
    "importlib.reload(bh_report)\n",
    "\n",
    "# Get the name of the computer:\n",
    "import socket\n",
    "hostname = socket.gethostname()\n",
    "if hostname == 'BHs-Desktop':\n",
    "    path = 'E:\\\\'\n",
    "elif hostname == 'BH-XPS':\n",
    "    path = 'G:\\\\'\n",
    "else:\n",
    "    path = 'D:\\\\'\n",
    "\n",
    "del hostname\n",
    "# Import the data:\n",
    "df_ids7 = pd.read_excel(path + 'IDS7 RRH XA.xlsx')\n",
    "df_dt = pd.read_excel(path + 'DoseTrack RRH XA reduced.xlsx')\n",
    "\n",
    "del path\n",
    "\n",
    "# Run all cleanups, filters and checks:\n",
    "df_ids7 = bh_utils.run_all_cleanup_filters_and_checks(df_ids7, df_dt, True)\n",
    "data = bh_utils.merge_ids7_dt(df_ids7, df_dt, True)\n",
    "del df_dt, df_ids7"
   ]
  },
  {
   "cell_type": "code",
   "execution_count": 2,
   "metadata": {},
   "outputs": [
    {
     "name": "stdout",
     "output_type": "stream",
     "text": [
      "Mapping procedures...\n",
      "\n",
      "Nefrostomi & innleggelse av dren -> Nefrostomi innleggelse\n",
      "WARNING! No procedures were targeted by this mapping!\n",
      "\n",
      "\n",
      "Nefrostomi & ~innleggelse av dren -> Nefrostomi skifte eller fjerning\n"
     ]
    }
   ],
   "source": [
    "data = bh_rad_xa.map_rad_xa_procedures(data, True)"
   ]
  },
  {
   "cell_type": "code",
   "execution_count": 35,
   "metadata": {},
   "outputs": [],
   "source": [
    "key = 'Nefrostomi & Nyrer & ureter'\n",
    "excl = 'Innleggelse & skifte & dren'\n",
    "inc_key_list = key.split(' & ')\n",
    "excl_key_list = excl.split(' & ')\n",
    "\n",
    "beskrivelse = 'Nefrostomi, nyrer, Ureter, Innleggelse'"
   ]
  },
  {
   "cell_type": "code",
   "execution_count": 37,
   "metadata": {},
   "outputs": [
    {
     "name": "stdout",
     "output_type": "stream",
     "text": [
      "Criteria not satisfied\n"
     ]
    }
   ],
   "source": [
    "# Check if al elements in the key_list is in the beskrivelse:\n",
    "if all(elem.lower() in beskrivelse.lower() for elem in inc_key_list) & ~any(element.lower() in beskrivelse.lower() for element in excl_key_list):\n",
    "    print('Criteria satisfied')\n",
    "else:\n",
    "    print('Criteria not satisfied')"
   ]
  },
  {
   "cell_type": "code",
   "execution_count": null,
   "metadata": {},
   "outputs": [],
   "source": [
    "# put all elements in the key_list that does not start with ~ in a list\n",
    "include_list = [x for x in key_list if not x.startswith('~')]\n",
    "# put all elements in the key_list that starts with ~ in a list\n",
    "exclude_list = [x[1:] for x in key_list if x.startswith('~')]"
   ]
  },
  {
   "cell_type": "markdown",
   "metadata": {},
   "source": []
  },
  {
   "cell_type": "code",
   "execution_count": null,
   "metadata": {},
   "outputs": [],
   "source": [
    "data['Mapping Target'] = False\n",
    "data.loc[data['Beskrivelse'].apply(lambda x: all(substring in x for substring in include_list)) &\\\n",
    "        ~data['Beskrivelse'].str.contains('|'.join(exclude_list)), 'Mapping Target'] = True"
   ]
  },
  {
   "cell_type": "code",
   "execution_count": null,
   "metadata": {},
   "outputs": [],
   "source": [
    "bh_utils.export_examination_codes_to_text_file(data)"
   ]
  },
  {
   "cell_type": "code",
   "execution_count": null,
   "metadata": {},
   "outputs": [],
   "source": [
    "bh_utils.delete_reports(True)"
   ]
  }
 ],
 "metadata": {
  "kernelspec": {
   "display_name": "BHPython311",
   "language": "python",
   "name": "python3"
  },
  "language_info": {
   "codemirror_mode": {
    "name": "ipython",
    "version": 3
   },
   "file_extension": ".py",
   "mimetype": "text/x-python",
   "name": "python",
   "nbconvert_exporter": "python",
   "pygments_lexer": "ipython3",
   "version": "3.11.5"
  },
  "orig_nbformat": 4
 },
 "nbformat": 4,
 "nbformat_minor": 2
}
