{
 "cells": [
  {
   "cell_type": "code",
   "execution_count": 1,
   "metadata": {},
   "outputs": [],
   "source": [
    "import pandas as pd\n",
    "import matplotlib.pyplot as plt"
   ]
  },
  {
   "cell_type": "code",
   "execution_count": 2,
   "metadata": {},
   "outputs": [],
   "source": [
    "# Read the excel files exported:\n",
    "df_ids7 = pd.read_excel('G:\\IDS7 RRH XA.xlsx')\n",
    "df_dt = pd.read_excel('G:\\DoseTrack RRH XA reduced.xlsx')\n"
   ]
  },
  {
   "cell_type": "code",
   "execution_count": null,
   "metadata": {},
   "outputs": [],
   "source": [
    "# put data from each lab into a separate dataframe:\n",
    "df_ids7_RRH_XA1 = df_ids7[df_ids7['Rom/modalitet (RIS)'] == 'RRH_XA1']\n",
    "\n",
    "# Make a list of all examination types in the dosetrack data.\n",
    "\n"
   ]
  },
  {
   "cell_type": "markdown",
   "metadata": {},
   "source": [
    "# 1. Iterate through the Accession No. In the IDS7 data.\n",
    "# 2. Check if there are more than one accession No. for the current patient at the current date and time.\n",
    "\n",
    "# 3. Check if there are corresponding entries of accession No. in the dosetrack data. (DoseTrack should only have one Accession No).\n",
    "# 4. Is a corresponding accession number os found in DoseTrack, use this accession No.\n",
    "# 5. If there is no corresponding accession No. in DoseTrack, mark the case as having missing DoseTrack data.\n",
    "# 6. Do a verification check, where all the DoseTrackdata with a valid (NRRH... etc.) accession No. exists in the IDS7 data.\n",
    "\n",
    "# 7. Filter all the lines with data that are corrupted. \n",
    "\n",
    "# 8. Do a search in the DoseTrack data for duplicate dose Data. If there are lines with identical dose, remove the duplicates. There should be a minor dose difference in all CBCT acquisitions for instance.\n",
    "# 9. Go through each accession No. in DoseTrack and Merge Plane A and B doses, and merge any additional CBCT examinations."
   ]
  },
  {
   "cell_type": "code",
   "execution_count": 11,
   "metadata": {},
   "outputs": [
    {
     "ename": "SyntaxError",
     "evalue": "incomplete input (3663481921.py, line 10)",
     "output_type": "error",
     "traceback": [
      "\u001b[1;36m  Cell \u001b[1;32mIn[11], line 10\u001b[1;36m\u001b[0m\n\u001b[1;33m    \u001b[0m\n\u001b[1;37m    ^\u001b[0m\n\u001b[1;31mSyntaxError\u001b[0m\u001b[1;31m:\u001b[0m incomplete input\n"
     ]
    }
   ],
   "source": [
    "# Go through the IDS7 data by accession No.\n",
    "# Check if there are any other accession No. on the same patient with the same booking time.\n",
    "\n",
    "def compare_accession(df_ids7, df_dt):\n",
    "    acc_no = df_ids7['Henvisinings.ID'].drop_duplicates()\n",
    "\n",
    "    status_acc_no = [] \n",
    "\n",
    "    for i in acc_no:\n",
    "\n"
   ]
  },
  {
   "cell_type": "code",
   "execution_count": 10,
   "metadata": {},
   "outputs": [],
   "source": [
    "test = df_ids7['Henvisnings-ID'].drop_duplicates()\n",
    "status_acc_no = [] "
   ]
  },
  {
   "cell_type": "code",
   "execution_count": null,
   "metadata": {},
   "outputs": [],
   "source": []
  }
 ],
 "metadata": {
  "kernelspec": {
   "display_name": "BHPython311",
   "language": "python",
   "name": "python3"
  },
  "language_info": {
   "codemirror_mode": {
    "name": "ipython",
    "version": 3
   },
   "file_extension": ".py",
   "mimetype": "text/x-python",
   "name": "python",
   "nbconvert_exporter": "python",
   "pygments_lexer": "ipython3",
   "version": "3.11.4"
  },
  "orig_nbformat": 4
 },
 "nbformat": 4,
 "nbformat_minor": 2
}
