{
 "cells": [
  {
   "cell_type": "code",
   "execution_count": 1,
   "metadata": {},
   "outputs": [
    {
     "ename": "PermissionError",
     "evalue": "[Errno 13] Permission denied: 'E:\\\\IDS7 RRH XA.xlsx'",
     "output_type": "error",
     "traceback": [
      "\u001b[1;31m---------------------------------------------------------------------------\u001b[0m",
      "\u001b[1;31mPermissionError\u001b[0m                           Traceback (most recent call last)",
      "\u001b[1;32mc:\\Users\\bjorn\\BH_Kode\\XA_DoseAnalysis\\Code\\script_repdose.ipynb Cell 1\u001b[0m line \u001b[0;36m1\n\u001b[0;32m     <a href='vscode-notebook-cell:/c%3A/Users/bjorn/BH_Kode/XA_DoseAnalysis/Code/script_repdose.ipynb#W0sZmlsZQ%3D%3D?line=13'>14</a>\u001b[0m \u001b[39mdel\u001b[39;00m hostname\n\u001b[0;32m     <a href='vscode-notebook-cell:/c%3A/Users/bjorn/BH_Kode/XA_DoseAnalysis/Code/script_repdose.ipynb#W0sZmlsZQ%3D%3D?line=14'>15</a>\u001b[0m \u001b[39m# Import the data:\u001b[39;00m\n\u001b[1;32m---> <a href='vscode-notebook-cell:/c%3A/Users/bjorn/BH_Kode/XA_DoseAnalysis/Code/script_repdose.ipynb#W0sZmlsZQ%3D%3D?line=15'>16</a>\u001b[0m df_ids7 \u001b[39m=\u001b[39m pd\u001b[39m.\u001b[39mread_excel(path \u001b[39m+\u001b[39m \u001b[39m'\u001b[39m\u001b[39mIDS7 RRH XA.xlsx\u001b[39m\u001b[39m'\u001b[39m)\n\u001b[0;32m     <a href='vscode-notebook-cell:/c%3A/Users/bjorn/BH_Kode/XA_DoseAnalysis/Code/script_repdose.ipynb#W0sZmlsZQ%3D%3D?line=16'>17</a>\u001b[0m df_dt \u001b[39m=\u001b[39m pd\u001b[39m.\u001b[39mread_excel(path \u001b[39m+\u001b[39m \u001b[39m'\u001b[39m\u001b[39mDoseTrack RRH XA reduced.xlsx\u001b[39m\u001b[39m'\u001b[39m)\n\u001b[0;32m     <a href='vscode-notebook-cell:/c%3A/Users/bjorn/BH_Kode/XA_DoseAnalysis/Code/script_repdose.ipynb#W0sZmlsZQ%3D%3D?line=18'>19</a>\u001b[0m \u001b[39mdel\u001b[39;00m path\n",
      "File \u001b[1;32mc:\\Users\\bjorn\\anaconda3\\envs\\BHPython311\\Lib\\site-packages\\pandas\\io\\excel\\_base.py:478\u001b[0m, in \u001b[0;36mread_excel\u001b[1;34m(io, sheet_name, header, names, index_col, usecols, dtype, engine, converters, true_values, false_values, skiprows, nrows, na_values, keep_default_na, na_filter, verbose, parse_dates, date_parser, date_format, thousands, decimal, comment, skipfooter, storage_options, dtype_backend)\u001b[0m\n\u001b[0;32m    476\u001b[0m \u001b[39mif\u001b[39;00m \u001b[39mnot\u001b[39;00m \u001b[39misinstance\u001b[39m(io, ExcelFile):\n\u001b[0;32m    477\u001b[0m     should_close \u001b[39m=\u001b[39m \u001b[39mTrue\u001b[39;00m\n\u001b[1;32m--> 478\u001b[0m     io \u001b[39m=\u001b[39m ExcelFile(io, storage_options\u001b[39m=\u001b[39mstorage_options, engine\u001b[39m=\u001b[39mengine)\n\u001b[0;32m    479\u001b[0m \u001b[39melif\u001b[39;00m engine \u001b[39mand\u001b[39;00m engine \u001b[39m!=\u001b[39m io\u001b[39m.\u001b[39mengine:\n\u001b[0;32m    480\u001b[0m     \u001b[39mraise\u001b[39;00m \u001b[39mValueError\u001b[39;00m(\n\u001b[0;32m    481\u001b[0m         \u001b[39m\"\u001b[39m\u001b[39mEngine should not be specified when passing \u001b[39m\u001b[39m\"\u001b[39m\n\u001b[0;32m    482\u001b[0m         \u001b[39m\"\u001b[39m\u001b[39man ExcelFile - ExcelFile already has the engine set\u001b[39m\u001b[39m\"\u001b[39m\n\u001b[0;32m    483\u001b[0m     )\n",
      "File \u001b[1;32mc:\\Users\\bjorn\\anaconda3\\envs\\BHPython311\\Lib\\site-packages\\pandas\\io\\excel\\_base.py:1496\u001b[0m, in \u001b[0;36mExcelFile.__init__\u001b[1;34m(self, path_or_buffer, engine, storage_options)\u001b[0m\n\u001b[0;32m   1494\u001b[0m     ext \u001b[39m=\u001b[39m \u001b[39m\"\u001b[39m\u001b[39mxls\u001b[39m\u001b[39m\"\u001b[39m\n\u001b[0;32m   1495\u001b[0m \u001b[39melse\u001b[39;00m:\n\u001b[1;32m-> 1496\u001b[0m     ext \u001b[39m=\u001b[39m inspect_excel_format(\n\u001b[0;32m   1497\u001b[0m         content_or_path\u001b[39m=\u001b[39mpath_or_buffer, storage_options\u001b[39m=\u001b[39mstorage_options\n\u001b[0;32m   1498\u001b[0m     )\n\u001b[0;32m   1499\u001b[0m     \u001b[39mif\u001b[39;00m ext \u001b[39mis\u001b[39;00m \u001b[39mNone\u001b[39;00m:\n\u001b[0;32m   1500\u001b[0m         \u001b[39mraise\u001b[39;00m \u001b[39mValueError\u001b[39;00m(\n\u001b[0;32m   1501\u001b[0m             \u001b[39m\"\u001b[39m\u001b[39mExcel file format cannot be determined, you must specify \u001b[39m\u001b[39m\"\u001b[39m\n\u001b[0;32m   1502\u001b[0m             \u001b[39m\"\u001b[39m\u001b[39man engine manually.\u001b[39m\u001b[39m\"\u001b[39m\n\u001b[0;32m   1503\u001b[0m         )\n",
      "File \u001b[1;32mc:\\Users\\bjorn\\anaconda3\\envs\\BHPython311\\Lib\\site-packages\\pandas\\io\\excel\\_base.py:1371\u001b[0m, in \u001b[0;36minspect_excel_format\u001b[1;34m(content_or_path, storage_options)\u001b[0m\n\u001b[0;32m   1368\u001b[0m \u001b[39mif\u001b[39;00m \u001b[39misinstance\u001b[39m(content_or_path, \u001b[39mbytes\u001b[39m):\n\u001b[0;32m   1369\u001b[0m     content_or_path \u001b[39m=\u001b[39m BytesIO(content_or_path)\n\u001b[1;32m-> 1371\u001b[0m \u001b[39mwith\u001b[39;00m get_handle(\n\u001b[0;32m   1372\u001b[0m     content_or_path, \u001b[39m\"\u001b[39m\u001b[39mrb\u001b[39m\u001b[39m\"\u001b[39m, storage_options\u001b[39m=\u001b[39mstorage_options, is_text\u001b[39m=\u001b[39m\u001b[39mFalse\u001b[39;00m\n\u001b[0;32m   1373\u001b[0m ) \u001b[39mas\u001b[39;00m handle:\n\u001b[0;32m   1374\u001b[0m     stream \u001b[39m=\u001b[39m handle\u001b[39m.\u001b[39mhandle\n\u001b[0;32m   1375\u001b[0m     stream\u001b[39m.\u001b[39mseek(\u001b[39m0\u001b[39m)\n",
      "File \u001b[1;32mc:\\Users\\bjorn\\anaconda3\\envs\\BHPython311\\Lib\\site-packages\\pandas\\io\\common.py:868\u001b[0m, in \u001b[0;36mget_handle\u001b[1;34m(path_or_buf, mode, encoding, compression, memory_map, is_text, errors, storage_options)\u001b[0m\n\u001b[0;32m    859\u001b[0m         handle \u001b[39m=\u001b[39m \u001b[39mopen\u001b[39m(\n\u001b[0;32m    860\u001b[0m             handle,\n\u001b[0;32m    861\u001b[0m             ioargs\u001b[39m.\u001b[39mmode,\n\u001b[1;32m   (...)\u001b[0m\n\u001b[0;32m    864\u001b[0m             newline\u001b[39m=\u001b[39m\u001b[39m\"\u001b[39m\u001b[39m\"\u001b[39m,\n\u001b[0;32m    865\u001b[0m         )\n\u001b[0;32m    866\u001b[0m     \u001b[39melse\u001b[39;00m:\n\u001b[0;32m    867\u001b[0m         \u001b[39m# Binary mode\u001b[39;00m\n\u001b[1;32m--> 868\u001b[0m         handle \u001b[39m=\u001b[39m \u001b[39mopen\u001b[39m(handle, ioargs\u001b[39m.\u001b[39mmode)\n\u001b[0;32m    869\u001b[0m     handles\u001b[39m.\u001b[39mappend(handle)\n\u001b[0;32m    871\u001b[0m \u001b[39m# Convert BytesIO or file objects passed with an encoding\u001b[39;00m\n",
      "\u001b[1;31mPermissionError\u001b[0m: [Errno 13] Permission denied: 'E:\\\\IDS7 RRH XA.xlsx'"
     ]
    }
   ],
   "source": [
    "# Import libraries:\n",
    "import pandas as pd\n",
    "import matplotlib.pyplot as plt\n",
    "import dt_ids7_export_utils as bh_utils\n",
    "\n",
    "# Get the name of the computer:\n",
    "import socket\n",
    "hostname = socket.gethostname()\n",
    "if hostname == 'BHs-Desktop':\n",
    "    path = 'E:\\\\'\n",
    "else:\n",
    "    path = 'G:\\\\'\n",
    "\n",
    "del hostname\n",
    "# Import the data:\n",
    "df_ids7 = pd.read_excel(path + 'IDS7 RRH XA.xlsx')\n",
    "df_dt = pd.read_excel(path + 'DoseTrack RRH XA reduced.xlsx')\n",
    "\n",
    "del path\n",
    "\n",
    "# Check for missing time data:\n",
    "df_ids7 = bh_utils.filter_NaT(df_ids7)\n",
    "# Check for invalid accession numbers:\n",
    "df_ids7 = bh_utils.check_accession_format(df_ids7, True)"
   ]
  },
  {
   "cell_type": "markdown",
   "metadata": {},
   "source": [
    "1. Iterate through the Accession No. In the IDS7 data.\n",
    "2. Check if there are more than one accession No. for the current patient at the current date and time.\n",
    "\n",
    "3. Check if there are corresponding entries of accession No. in the dosetrack data. (DoseTrack should only have one Accession No).\n",
    "4. Is a corresponding accession number os found in DoseTrack, use this accession No.\n",
    "5. If there is no corresponding accession No. in DoseTrack, mark the case as having missing DoseTrack data.\n",
    "\n",
    "8. Do a search in the DoseTrack data for duplicate dose Data. If there are lines with identical dose, remove the duplicates. There should be a minor dose difference in all CBCT acquisitions for instance.\n",
    "9. Go through each accession No. in DoseTrack and Merge Plane A and B doses, and merge any additional CBCT examinations."
   ]
  },
  {
   "cell_type": "code",
   "execution_count": null,
   "metadata": {},
   "outputs": [],
   "source": [
    "# Go through the IDS7 data by accession No.\n",
    "# Check if there are any other accession No. on the same patient with the same booking time.\n",
    "\n",
    "def compare_accession(df_ids7, df_dt):\n",
    "    acquisition_no = df_ids7['Henvisnings-ID'].drop_duplicates()\n",
    "    \n",
    "    # First we would like to check whether a patient has more than one accession number for a single booking. \n",
    "\n",
    "\n",
    "    \n",
    "    status_acc_no = pd.Series(index=acc_no)\n",
    "    for acc_no in status_acc_no.index:\n",
    "        # find the patient ID and the time of the examination:\n",
    "        patient_id = df_ids7[df_ids7['Henvisnings-ID'] == acc_no]['Pasient'].iloc[0]\n",
    "        time = df_ids7[df_ids7['Henvisnings-ID'] == acc_no]['Bestilt dato og tidspunkt'].iloc[0]\n",
    "\n",
    "        2+2\n",
    "\n"
   ]
  },
  {
   "cell_type": "code",
   "execution_count": null,
   "metadata": {},
   "outputs": [],
   "source": [
    "# Check whether an accession number is in the DoseTrack data:\n",
    "def check_accession_ids7_vs_dt(df_ids7, dfdt, verbose=False):\n",
    "    # go thorugh the accession numbers in the IDS7 data and check whether they are in the DoseTrack data:\n",
    "    acc_no = df_ids7['Henvisnings-ID'].drop_duplicates()\n",
    "    status_acc_no = pd.Series(index=acc_no)\n",
    "    for acc_no in status_acc_no.index:\n",
    "        if acc_no in df_dt['Accession Number'].values:\n",
    "            status_acc_no[acc_no] = True\n",
    "        else:\n",
    "            status_acc_no[acc_no] = False\n",
    "            if verbose:\n",
    "                print('Accession number {} not in DoseTrack data.'.format(acc_no))\n",
    "    \n",
    "    return status_acc_no\n",
    "\n",
    "status = check_accession_ids7_vs_dt(df_ids7, df_dt, True)"
   ]
  },
  {
   "cell_type": "code",
   "execution_count": 11,
   "metadata": {},
   "outputs": [],
   "source": [
    "# First we check what the lowest time interval between two bookings with different accession numbers is for the same patient:\n",
    "\n",
    "patients = df_ids7['Pasient'].drop_duplicates()\n",
    "# Create an pandas series to store the lowest time interval for each patient between two bookings with different accession numbers:\n",
    "lowest_time_interval = pd.Series(index=patients)\n",
    "for patient in patients:\n",
    "    # Get the accession numbers for the patient:\n",
    "    acc_no = df_ids7[df_ids7['Pasient'] == patient]['Henvisnings-ID'].drop_duplicates()\n",
    "    # Get the time of the examination for the patient:\n",
    "    time = df_ids7[df_ids7['Pasient'] == patient]['Bestilt dato og tidspunkt']\n",
    "    # Sort the time:\n",
    "    time = time.sort_values()\n",
    "    # Calculate the time interval between two bookings in hours:\n",
    "    time_interval = (time - time.shift()).dropna().dt.total_seconds() / 3600\n",
    "        # Get the lowest time interval:\n",
    "    lowest_time_interval[patient] = time_interval.min()\n"
   ]
  },
  {
   "cell_type": "markdown",
   "metadata": {},
   "source": [
    "One patient can have the same accession no on different laboratories, due to erroneous registration in PACS.\n",
    "If so please check the Modality/Room in DoseTrack.\n",
    "\n",
    "If there is two different accession numbers at the same starting time they are likely the same examination.\n",
    "There was an example of a patient with as little as 1 hr 22 min between examinations. \n",
    "\n",
    "If there is two different accession numbers with the exact same time they are likely the same examination. "
   ]
  },
  {
   "cell_type": "code",
   "execution_count": null,
   "metadata": {},
   "outputs": [],
   "source": [
    "\n",
    "acquisition_no = df_ids7['Henvisnings-ID'].drop_duplicates()\n",
    "status_acc_no = pd.Series(index=acquisition_no)\n",
    "for acc_no in status_acc_no.index:\n",
    "    # find the patient ID and the time of the examination:\n",
    "    patient_id = df_ids7[df_ids7['Henvisnings-ID'] == acc_no]['Pasient'].iloc[0]\n",
    "    time = df_ids7[df_ids7['Henvisnings-ID'] == acc_no]['Bestilt dato og tidspunkt'].iloc[0]\n",
    "    print(patient_id, time)\n",
    "\n"
   ]
  }
 ],
 "metadata": {
  "kernelspec": {
   "display_name": "BHPython311",
   "language": "python",
   "name": "python3"
  },
  "language_info": {
   "codemirror_mode": {
    "name": "ipython",
    "version": 3
   },
   "file_extension": ".py",
   "mimetype": "text/x-python",
   "name": "python",
   "nbconvert_exporter": "python",
   "pygments_lexer": "ipython3",
   "version": "3.11.5"
  },
  "orig_nbformat": 4
 },
 "nbformat": 4,
 "nbformat_minor": 2
}
