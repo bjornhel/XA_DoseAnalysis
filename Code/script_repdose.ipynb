{
 "cells": [
  {
   "cell_type": "code",
   "execution_count": null,
   "metadata": {},
   "outputs": [],
   "source": [
    "# Import libraries:\n",
    "import pandas as pd\n",
    "import importlib \n",
    "import dt_ids7_export_utils as bh_utils\n",
    "import rad_xa_mapping_func as bh_rad_xa\n",
    "import plot_functions as bh_plot\n",
    "import reporting_utils as bh_report\n",
    "\n",
    "# Make sure personal libraries are reloaded incase of adjustments:\n",
    "importlib.reload(bh_utils)\n",
    "importlib.reload(bh_rad_xa)\n",
    "importlib.reload(bh_plot)\n",
    "importlib.reload(bh_report)\n",
    "\n",
    "# Get the name of the computer:\n",
    "import socket\n",
    "hostname = socket.gethostname()\n",
    "if hostname == 'BHs-Desktop':\n",
    "    path = 'E:\\\\'\n",
    "elif hostname == 'BH-XPS':\n",
    "    path = 'G:\\\\'\n",
    "else:\n",
    "    path = 'D:\\\\'\n",
    "\n",
    "del hostname\n",
    "# Import the data:\n",
    "df_ids7 = pd.read_excel(path + 'IDS7 RRH XA.xlsx')\n",
    "df_dt = pd.read_excel(path + 'DoseTrack RRH XA reduced.xlsx')\n",
    "\n",
    "del path\n",
    "\n",
    "# Run all cleanups, filters and checks:\n",
    "df_ids7 = bh_utils.run_all_cleanup_filters_and_checks(df_ids7, df_dt, True)\n",
    "data = bh_utils.merge_ids7_dt(df_ids7, df_dt, True)\n",
    "del df_dt"
   ]
  },
  {
   "cell_type": "code",
   "execution_count": null,
   "metadata": {},
   "outputs": [],
   "source": [
    "# Rename column to 'Henvisnings-ID':\n",
    "data2 = data.rename(columns={'Accession Number': 'Henvisnings-ID'})"
   ]
  },
  {
   "cell_type": "code",
   "execution_count": null,
   "metadata": {},
   "outputs": [],
   "source": []
  },
  {
   "cell_type": "code",
   "execution_count": null,
   "metadata": {},
   "outputs": [],
   "source": [
    "bh_utils.export_examination_codes_to_text_file(df_ids7, 'RRH_XA1')\n",
    "bh_utils.export_examination_codes_to_text_file(df_ids7, 'RRH_XA2')\n",
    "bh_utils.export_examination_codes_to_text_file(df_ids7, 'RRH_XA4')\n",
    "bh_utils.export_examination_codes_to_text_file(df_ids7, 'RRH_RF2')\n",
    "bh_utils.export_examination_codes_to_text_file(df_ids7, 'IRH_XA7')"
   ]
  },
  {
   "cell_type": "code",
   "execution_count": null,
   "metadata": {},
   "outputs": [],
   "source": [
    "bh_utils.delete_reports(True)"
   ]
  },
  {
   "cell_type": "code",
   "execution_count": null,
   "metadata": {},
   "outputs": [],
   "source": [
    "# Check for patients with multiple bookings on the same time, with different accession numbers:\n",
    "bh_utils.check_patents_with_multiple_bookings_on_same_time_with_different_accession(df_ids7)"
   ]
  },
  {
   "cell_type": "code",
   "execution_count": null,
   "metadata": {},
   "outputs": [],
   "source": [
    "# Check for patients with multiple bookings on the same day but not the same time, with different accession numbers:\n",
    "bh_utils.check_patents_with_multiple_bookings_on_same_day_with_different_accession(df_ids7)"
   ]
  }
 ],
 "metadata": {
  "kernelspec": {
   "display_name": "BHPython311",
   "language": "python",
   "name": "python3"
  },
  "language_info": {
   "codemirror_mode": {
    "name": "ipython",
    "version": 3
   },
   "file_extension": ".py",
   "mimetype": "text/x-python",
   "name": "python",
   "nbconvert_exporter": "python",
   "pygments_lexer": "ipython3",
   "version": "3.11.5"
  },
  "orig_nbformat": 4
 },
 "nbformat": 4,
 "nbformat_minor": 2
}
