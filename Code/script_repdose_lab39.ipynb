{
 "cells": [
  {
   "cell_type": "code",
   "execution_count": 1,
   "metadata": {},
   "outputs": [
    {
     "name": "stdout",
     "output_type": "stream",
     "text": [
      "Dropping unnecessary column: Status\n",
      "Number of rows with NaT in the column \"Bestilt dato og tidspunkt\": 0\n",
      "Number of cancelled procedures: 239\n",
      "Number of non-human subjects: 0\n",
      "Number of rows with invalid accession number: 0\n",
      "Number of accession numbers in IDS7: 2479\n",
      "Number of accession numbers in IDS7 not in DoseTrack: 1850\n",
      "Number of accession numbers in DoseTrack: 636\n",
      "Number of accession numbers in DoseTrack not in IDS7: 7\n",
      "The IDS7 and DoseTrack has merged data of length: 629\n"
     ]
    },
    {
     "ename": "AttributeError",
     "evalue": "module 'mapping_dict_lab39' has no attribute 'get_elfys_mapping_dict'",
     "output_type": "error",
     "traceback": [
      "\u001b[1;31m---------------------------------------------------------------------------\u001b[0m",
      "\u001b[1;31mAttributeError\u001b[0m                            Traceback (most recent call last)",
      "\u001b[1;32mc:\\Users\\bjorn\\BH_Kode\\XA_DoseAnalysis\\Code\\script_repdose_lab39.ipynb Cell 1\u001b[0m line \u001b[0;36m3\n\u001b[0;32m     <a href='vscode-notebook-cell:/c%3A/Users/bjorn/BH_Kode/XA_DoseAnalysis/Code/script_repdose_lab39.ipynb#X14sZmlsZQ%3D%3D?line=35'>36</a>\u001b[0m data \u001b[39m=\u001b[39m bh_utils\u001b[39m.\u001b[39mmerge_ids7_dt(df_ids7, df_dt, \u001b[39mTrue\u001b[39;00m)\n\u001b[0;32m     <a href='vscode-notebook-cell:/c%3A/Users/bjorn/BH_Kode/XA_DoseAnalysis/Code/script_repdose_lab39.ipynb#X14sZmlsZQ%3D%3D?line=36'>37</a>\u001b[0m \u001b[39m# Get the mapping dictionary:\u001b[39;00m\n\u001b[1;32m---> <a href='vscode-notebook-cell:/c%3A/Users/bjorn/BH_Kode/XA_DoseAnalysis/Code/script_repdose_lab39.ipynb#X14sZmlsZQ%3D%3D?line=37'>38</a>\u001b[0m mapping_dict \u001b[39m=\u001b[39m lab39_dict\u001b[39m.\u001b[39mget_elfys_mapping_dict()\n\u001b[0;32m     <a href='vscode-notebook-cell:/c%3A/Users/bjorn/BH_Kode/XA_DoseAnalysis/Code/script_repdose_lab39.ipynb#X14sZmlsZQ%3D%3D?line=38'>39</a>\u001b[0m \u001b[39m# First we perform mapping on selected procedures:\u001b[39;00m\n\u001b[0;32m     <a href='vscode-notebook-cell:/c%3A/Users/bjorn/BH_Kode/XA_DoseAnalysis/Code/script_repdose_lab39.ipynb#X14sZmlsZQ%3D%3D?line=39'>40</a>\u001b[0m data \u001b[39m=\u001b[39m bh_map\u001b[39m.\u001b[39mmap_procedures(data, mapping_dict, \u001b[39mTrue\u001b[39;00m)\n",
      "\u001b[1;31mAttributeError\u001b[0m: module 'mapping_dict_lab39' has no attribute 'get_elfys_mapping_dict'"
     ]
    }
   ],
   "source": [
    "# Import libraries:\n",
    "import pandas as pd\n",
    "import importlib   \n",
    "import dt_ids7_export_module as bh_utils\n",
    "import plot_module as bh_plot\n",
    "import reporting_module as bh_report\n",
    "import mapping_module as bh_map\n",
    "import mapping_dict_lab39 as lab39_dict\n",
    "\n",
    "# Make sure personal libraries are reloaded incase of adjustments:\n",
    "importlib.reload(bh_utils)\n",
    "importlib.reload(lab39_dict)\n",
    "importlib.reload(bh_plot)\n",
    "importlib.reload(bh_report)\n",
    "importlib.reload(bh_map)\n",
    "\n",
    "# Get the name of the computer:\n",
    "import socket\n",
    "hostname = socket.gethostname()\n",
    "if hostname == 'BHs-Desktop':\n",
    "    path = 'E:\\\\'\n",
    "elif hostname == 'BH-XPS':\n",
    "    path = 'G:\\\\'\n",
    "else:\n",
    "    path = 'D:\\\\'\n",
    "\n",
    "# Import the data:\n",
    "df_ids7 = pd.read_excel(path + 'IDS7 RRH Lab39.xlsx')\n",
    "df_dt = pd.read_excel(path + 'DoseTrack RRH Lab39 reduced.xlsx')\n",
    "\n",
    "del path, hostname\n",
    "\n",
    "# Run all cleanups, filters and checks:\n",
    "df_ids7 = bh_utils.run_all_cleanup_filters_and_checks(df_ids7, df_dt, True)\n",
    "# Merge the dataframes:\n",
    "data = bh_utils.merge_ids7_dt(df_ids7, df_dt, True)\n",
    "# Get the mapping dictionary:\n",
    "mapping_dict = lab39_dict.get_lab39_mapping_dict()\n",
    "# First we perform mapping on selected procedures:\n",
    "data = bh_map.map_procedures(data, mapping_dict, True)\n",
    "\n",
    "del df_dt, df_ids7 #, mapping_dict"
   ]
  },
  {
   "cell_type": "code",
   "execution_count": null,
   "metadata": {},
   "outputs": [],
   "source": [
    "bh_utils.export_examination_codes_to_text_file(data)"
   ]
  },
  {
   "cell_type": "code",
   "execution_count": null,
   "metadata": {},
   "outputs": [],
   "source": [
    "path = 'G:\\\\'\n",
    "print(path + 'IDS7_RRH_Lab39.xlsx')\n",
    "# data = pd.read_excel(path + 'IDS7 RRH Lab39.xlsx')"
   ]
  },
  {
   "cell_type": "code",
   "execution_count": null,
   "metadata": {},
   "outputs": [],
   "source": [
    "procedure = 'RGA Cor Ablasjon SVT (int.) m og u 3D'\n",
    "export = False\n",
    "bh_plot.plot_representative_dose(data, procedure, 20, export)"
   ]
  },
  {
   "cell_type": "code",
   "execution_count": null,
   "metadata": {},
   "outputs": [],
   "source": [
    "procedure = 'RGA Cor Ablasjon Atrieflimmer (int.) m og u 3D'\n",
    "bh_plot.plot_representative_dose(data, procedure, 40, export)"
   ]
  },
  {
   "cell_type": "code",
   "execution_count": null,
   "metadata": {},
   "outputs": [],
   "source": [
    "procedure = 'RGA Cor Ablasjon Atrieflutter (int.)'\n",
    "bh_plot.plot_representative_dose(data, procedure, 20, export)"
   ]
  },
  {
   "cell_type": "code",
   "execution_count": null,
   "metadata": {},
   "outputs": [],
   "source": [
    "procedure = 'RGA Cor Ablasjon VT m 3D (int.)'\n",
    "bh_plot.plot_representative_dose(data, procedure, 25, export)"
   ]
  },
  {
   "cell_type": "code",
   "execution_count": null,
   "metadata": {},
   "outputs": [],
   "source": [
    "procedure = 'RGA Cor Cryo Ablasjon Atrieflimmer (int.)'\n",
    "bh_plot.plot_representative_dose(data, procedure, 40, export)"
   ]
  },
  {
   "cell_type": "code",
   "execution_count": null,
   "metadata": {},
   "outputs": [],
   "source": [
    "procedure = 'RGA Cor Elfys VT el. SVT (int.)'\n",
    "bh_plot.plot_representative_dose(data, procedure, 10, export)"
   ]
  },
  {
   "cell_type": "code",
   "execution_count": null,
   "metadata": {},
   "outputs": [],
   "source": [
    "procedure = 'RGA Cor CRT-D (int.)'\n",
    "bh_plot.plot_representative_dose(data, procedure, 35, export)"
   ]
  },
  {
   "cell_type": "code",
   "execution_count": null,
   "metadata": {},
   "outputs": [],
   "source": [
    "procedure = 'RGA Cor CRT-P (int.)'\n",
    "bh_plot.plot_representative_dose(data, procedure, 35, export)"
   ]
  },
  {
   "cell_type": "code",
   "execution_count": null,
   "metadata": {},
   "outputs": [],
   "source": [
    "procedure = 'RGA Cor Implantasjon PM/ICD (int.) ink. 2k og 1k PM'\n",
    "bh_plot.plot_representative_dose(data, procedure, 20, export)"
   ]
  }
 ],
 "metadata": {
  "kernelspec": {
   "display_name": "BHPython311",
   "language": "python",
   "name": "python3"
  },
  "language_info": {
   "codemirror_mode": {
    "name": "ipython",
    "version": 3
   },
   "file_extension": ".py",
   "mimetype": "text/x-python",
   "name": "python",
   "nbconvert_exporter": "python",
   "pygments_lexer": "ipython3",
   "version": "3.11.5"
  },
  "orig_nbformat": 4
 },
 "nbformat": 4,
 "nbformat_minor": 2
}
