{
 "cells": [
  {
   "cell_type": "markdown",
   "metadata": {},
   "source": [
    "# Script XA DSA\n",
    "This notebook imports necessary libraries and data from Excel files to work with ..."
   ]
  },
  {
   "cell_type": "code",
   "execution_count": null,
   "metadata": {},
   "outputs": [],
   "source": [
    "import dt_ids7_export_module as bh_utils\n",
    "import mapping_module as bh_map\n",
    "import plot_module as bh_plot\n",
    "\n",
    "# Get the name of the computer:\n",
    "import socket\n",
    "hostname = socket.gethostname()\n",
    "if hostname == 'BHs-Desktop':\n",
    "    path = 'C:\\\\' # 'E:\\\\'\n",
    "elif hostname == 'BH-XPS':\n",
    "    path = 'G:\\\\'\n",
    "else:\n",
    "    path = 'D:\\\\'\n",
    "\n",
    "\n",
    "# Import the IDS7 data:\n",
    "root_folder = path + \"Users\\\\bjorn\\\\Downloads\\\\repdoser\\\\IDS7\\\\2023\\\\\"\n",
    "df_ids7 = bh_utils.import_excel_files_to_dataframe(root_folder)\n",
    "\n",
    "# Import the IDS7 data:\n",
    "root_folder = path + \"Users\\\\bjorn\\\\Downloads\\\\repdoser\\\\DoseTrack - Serienivå\\\\2023\\\\\"\n",
    "df_dt = bh_utils.import_excel_files_to_dataframe(root_folder)"
   ]
  },
  {
   "cell_type": "code",
   "execution_count": null,
   "metadata": {},
   "outputs": [],
   "source": [
    "# Run all cleanups, filters and checks:\n",
    "df_ids7 = bh_utils.run_all_cleanup_filters_and_checks(df_ids7, df_dt, True)\n",
    "# Merge the dataframes:\n",
    "data = bh_utils.merge_ids7_dt(df_ids7, df_dt, True)"
   ]
  },
  {
   "cell_type": "code",
   "execution_count": null,
   "metadata": {},
   "outputs": [],
   "source": [
    "import mapping_dict_elfys as elfys_dict\n",
    "# Representative doser for radiologisk Rikshospital\n",
    "data = data[data['Modality Room'].isin(['KRH_Elfys1', 'KRH_Elfys2', 'KRH_Elfys3', 'KRH_Elfys4', 'KRH_LAB39', 'KRH_Lab13'])]\n",
    "import importlib\n",
    "importlib.reload(elfys_dict)\n",
    "\n",
    "\n",
    "# Get the mapping dictionary:\n",
    "mapping_dict = elfys_dict.get_elfys_mapping_dict()\n",
    "data = bh_map.map_procedures(data, mapping_dict, True)\n"
   ]
  },
  {
   "cell_type": "code",
   "execution_count": null,
   "metadata": {},
   "outputs": [],
   "source": [
    "procedure = 'RGA Cor Ablasjon SVT (int.) m og u 3D'\n",
    "export = False\n",
    "bh_plot.plot_representative_dose(data, procedure, 20, export)"
   ]
  },
  {
   "cell_type": "code",
   "execution_count": null,
   "metadata": {},
   "outputs": [],
   "source": [
    "procedure = 'RGA Cor Ablasjon VT (int.) m 3D'\n",
    "bh_plot.plot_representative_dose(data, procedure, 20, export)"
   ]
  },
  {
   "cell_type": "code",
   "execution_count": null,
   "metadata": {},
   "outputs": [],
   "source": [
    "procedure = 'RGA Cor Ablasjon Atrieflimmer (int.) m og u 3D'\n",
    "export = False\n",
    "bh_plot.plot_representative_dose(data, procedure, 30, export)"
   ]
  },
  {
   "cell_type": "code",
   "execution_count": null,
   "metadata": {},
   "outputs": [],
   "source": [
    "procedure = 'RGA Cor Pulsed field ablasjon (elektroporasjon) atrieflimmer'\n",
    "bh_plot.plot_representative_dose(data, procedure, 20, export)"
   ]
  },
  {
   "cell_type": "code",
   "execution_count": null,
   "metadata": {},
   "outputs": [],
   "source": [
    "procedure = 'RGA Cor Cryo Ablasjon Atrieflimmer (int.)'\n",
    "bh_plot.plot_representative_dose(data, procedure, 40, export)"
   ]
  },
  {
   "cell_type": "code",
   "execution_count": null,
   "metadata": {},
   "outputs": [],
   "source": [
    "procedure = 'RGA Cor Ablasjon Atrieflutter (int.) m og u 3D'\n",
    "bh_plot.plot_representative_dose(data, procedure, 25, export)"
   ]
  },
  {
   "cell_type": "code",
   "execution_count": null,
   "metadata": {},
   "outputs": [],
   "source": [
    "procedure = 'RGA Cor Elfys VT el. SVT (int.)'\n",
    "bh_plot.plot_representative_dose(data, procedure, 10, export)"
   ]
  },
  {
   "cell_type": "code",
   "execution_count": null,
   "metadata": {},
   "outputs": [],
   "source": [
    "procedure = 'RGA Cor CRT-D (int.) ink. CRT-P'\n",
    "bh_plot.plot_representative_dose(data, procedure, 35, export)"
   ]
  },
  {
   "cell_type": "code",
   "execution_count": null,
   "metadata": {},
   "outputs": [],
   "source": [
    "procedure = 'RGA Cor Implantasjon PM/ICD (int.) ink. 2k og 1k PM'\n",
    "bh_plot.plot_representative_dose(data, procedure, 20, export)"
   ]
  },
  {
   "cell_type": "code",
   "execution_count": null,
   "metadata": {},
   "outputs": [],
   "source": [
    "bh_report.print_summary(data)\n",
    "bh_plot.plot_representative_dose_by_procedure(data[data!='Unmapped'])"
   ]
  },
  {
   "cell_type": "code",
   "execution_count": null,
   "metadata": {},
   "outputs": [],
   "source": [
    "procedure = 'RGV Cor Biopsi'\n",
    "export = False\n",
    "bh_plot.plot_representative_dose(data, procedure, 20, export)"
   ]
  },
  {
   "cell_type": "code",
   "execution_count": null,
   "metadata": {},
   "outputs": [],
   "source": [
    "procedure = 'RGV Cor Hø kat, måling av trykk og flow i lille kretsløp'\n",
    "export = False\n",
    "bh_plot.plot_representative_dose(data, procedure, 20, export)"
   ]
  },
  {
   "cell_type": "code",
   "execution_count": null,
   "metadata": {},
   "outputs": [],
   "source": [
    "procedure = 'RGV Cor Høyre kat. Arytmi'\n",
    "export = False\n",
    "bh_plot.plot_representative_dose(data, procedure, 20, export)"
   ]
  }
 ],
 "metadata": {
  "kernelspec": {
   "display_name": "BHPython312",
   "language": "python",
   "name": "python3"
  },
  "language_info": {
   "codemirror_mode": {
    "name": "ipython",
    "version": 3
   },
   "file_extension": ".py",
   "mimetype": "text/x-python",
   "name": "python",
   "nbconvert_exporter": "python",
   "pygments_lexer": "ipython3",
   "version": "3.12.8"
  }
 },
 "nbformat": 4,
 "nbformat_minor": 2
}
