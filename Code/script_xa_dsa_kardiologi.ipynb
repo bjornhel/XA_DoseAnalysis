{
 "cells": [
  {
   "cell_type": "markdown",
   "metadata": {},
   "source": [
    "# Script XA DSA\n",
    "This notebook imports necessary libraries and data from Excel files to work with ..."
   ]
  },
  {
   "cell_type": "code",
   "execution_count": null,
   "metadata": {},
   "outputs": [],
   "source": [
    "import dt_ids7_export_module as bh_utils\n",
    "import mapping_module as bh_map\n",
    "import plot_module as bh_plot\n",
    "\n",
    "# Get the name of the computer:\n",
    "import socket\n",
    "hostname = socket.gethostname()\n",
    "if hostname == 'BHs-Desktop':\n",
    "    path = 'C:\\\\' # 'E:\\\\'\n",
    "elif hostname == 'BH-XPS':\n",
    "    path = 'G:\\\\'\n",
    "else:\n",
    "    path = 'D:\\\\'\n",
    "\n",
    "\n",
    "# Import the IDS7 data:\n",
    "root_folder = path + \"Users\\\\bjorn\\\\Downloads\\\\repdoser\\\\IDS7\\\\2024\\\\\"\n",
    "df_ids7 = bh_utils.import_excel_files_to_dataframe(root_folder)\n",
    "\n",
    "# Import the IDS7 data:\n",
    "root_folder = path + \"Users\\\\bjorn\\\\Downloads\\\\repdoser\\\\DoseTrack - Serienivå\\\\2024\\\\\"\n",
    "df_dt = bh_utils.import_excel_files_to_dataframe(root_folder)"
   ]
  },
  {
   "cell_type": "code",
   "execution_count": null,
   "metadata": {},
   "outputs": [],
   "source": [
    "# Run all cleanups, filters and checks:\n",
    "df_ids7 = bh_utils.run_all_cleanup_filters_and_checks(df_ids7, df_dt, True)\n",
    "# Merge the dataframes:\n",
    "data = bh_utils.merge_ids7_dt(df_ids7, df_dt, True)"
   ]
  },
  {
   "cell_type": "code",
   "execution_count": null,
   "metadata": {},
   "outputs": [],
   "source": [
    "# Print all unique elements in Modality Room, sorted alphabetically:\n",
    "print(\"Unique elements in Modality Room:\")\n",
    "print(sorted(data['Modality Room'].unique()))"
   ]
  },
  {
   "cell_type": "code",
   "execution_count": null,
   "metadata": {},
   "outputs": [],
   "source": [
    "import mapping_dict_PCI as pci_dict\n",
    "# Representative doser for radiologisk Rikshospital\n",
    "data = data[data['Modality Room'].isin(['IRH_XA6', 'IRH_XA7', 'KRH_XA3', 'KRH_XA6', 'KRH_XA7', 'KRH_XA8','KUL_XA1', 'KUL_XA2', 'KUL_XA4'])]\n",
    "import importlib\n",
    "importlib.reload(pci_dict)\n",
    "\n",
    "\n",
    "# Get the mapping dictionary:\n",
    "mapping_dict = pci_dict.get_PCI_mapping_dict()\n",
    "data = bh_map.map_procedures(data, mapping_dict, True)\n"
   ]
  },
  {
   "cell_type": "code",
   "execution_count": null,
   "metadata": {},
   "outputs": [],
   "source": [
    "procedure = 'Koronarangiografi'\n",
    "export = False\n",
    "bh_plot.plot_representative_dose(data, procedure, 200, export)"
   ]
  },
  {
   "cell_type": "code",
   "execution_count": null,
   "metadata": {},
   "outputs": [],
   "source": [
    "procedure = 'PCI'\n",
    "export = False\n",
    "bh_plot.plot_representative_dose(data, procedure, 200, export)"
   ]
  },
  {
   "cell_type": "code",
   "execution_count": null,
   "metadata": {},
   "outputs": [],
   "source": [
    "procedure = 'TAVI'\n",
    "export = False\n",
    "bh_plot.plot_representative_dose(data, procedure, 200, export)"
   ]
  },
  {
   "cell_type": "code",
   "execution_count": null,
   "metadata": {},
   "outputs": [],
   "source": [
    "procedure = 'Mitraclip'\n",
    "export = False\n",
    "bh_plot.plot_representative_dose(data, procedure, 200, export)"
   ]
  },
  {
   "cell_type": "code",
   "execution_count": null,
   "metadata": {},
   "outputs": [],
   "source": [
    "procedure = 'PTSMA'\n",
    "export = False\n",
    "bh_plot.plot_representative_dose(data, procedure, 200, export)"
   ]
  },
  {
   "cell_type": "code",
   "execution_count": null,
   "metadata": {},
   "outputs": [],
   "source": [
    "procedure = 'PFO'\n",
    "export = False\n",
    "bh_plot.plot_representative_dose(data, procedure, 200, export)"
   ]
  }
 ],
 "metadata": {
  "kernelspec": {
   "display_name": "BHPython312",
   "language": "python",
   "name": "python3"
  },
  "language_info": {
   "codemirror_mode": {
    "name": "ipython",
    "version": 3
   },
   "file_extension": ".py",
   "mimetype": "text/x-python",
   "name": "python",
   "nbconvert_exporter": "python",
   "pygments_lexer": "ipython3",
   "version": "3.12.8"
  }
 },
 "nbformat": 4,
 "nbformat_minor": 2
}
