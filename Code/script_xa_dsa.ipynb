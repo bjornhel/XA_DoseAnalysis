{
 "cells": [
  {
   "cell_type": "markdown",
   "metadata": {},
   "source": [
    "# Script XA DSA\n",
    "This notebook imports necessary libraries and data from Excel files to work with ..."
   ]
  },
  {
   "cell_type": "code",
   "execution_count": 1,
   "metadata": {},
   "outputs": [
    {
     "name": "stdout",
     "output_type": "stream",
     "text": [
      "Reading E:\\repdoser\\IDS7\\2024\\2024-01 - OUS.xlsx...\n",
      "Reading E:\\repdoser\\IDS7\\2024\\2024-02 - OUS.xlsx...\n",
      "Reading E:\\repdoser\\IDS7\\2024\\2024-03 - OUS.xlsx...\n",
      "Reading E:\\repdoser\\IDS7\\2024\\2024-04 - OUS.xlsx...\n",
      "Reading E:\\repdoser\\IDS7\\2024\\2024-05 - OUS.xlsx...\n",
      "Reading E:\\repdoser\\IDS7\\2024\\2024-06 - OUS.xlsx...\n",
      "Reading E:\\repdoser\\IDS7\\2024\\2024-07 - OUS.xlsx...\n",
      "Reading E:\\repdoser\\IDS7\\2024\\2024-08 - OUS.xlsx...\n",
      "Reading E:\\repdoser\\IDS7\\2024\\2024-09 - OUS.xlsx...\n",
      "Reading E:\\repdoser\\IDS7\\2024\\2024-10 - OUS.xlsx...\n",
      "Reading E:\\repdoser\\IDS7\\2024\\2024-11 - OUS.xlsx...\n",
      "Reading E:\\repdoser\\IDS7\\2024\\2024-12 - OUS.xlsx...\n",
      "Reading E:\\repdoser\\DoseTrack - Serienivå\\2024\\2024-01 - OUS.xlsx...\n",
      "Reading E:\\repdoser\\DoseTrack - Serienivå\\2024\\2024-02 - OUS.xlsx...\n",
      "Reading E:\\repdoser\\DoseTrack - Serienivå\\2024\\2024-03 - OUS.xlsx...\n",
      "Reading E:\\repdoser\\DoseTrack - Serienivå\\2024\\2024-04 - OUS.xlsx...\n",
      "Reading E:\\repdoser\\DoseTrack - Serienivå\\2024\\2024-05 - OUS.xlsx...\n",
      "Reading E:\\repdoser\\DoseTrack - Serienivå\\2024\\2024-06 - OUS.xlsx...\n",
      "Reading E:\\repdoser\\DoseTrack - Serienivå\\2024\\2024-07 - OUS.xlsx...\n",
      "Reading E:\\repdoser\\DoseTrack - Serienivå\\2024\\2024-08 - OUS.xlsx...\n",
      "Reading E:\\repdoser\\DoseTrack - Serienivå\\2024\\2024-09 - OUS.xlsx...\n",
      "Reading E:\\repdoser\\DoseTrack - Serienivå\\2024\\2024-10 - OUS.xlsx...\n",
      "Reading E:\\repdoser\\DoseTrack - Serienivå\\2024\\2024-11 - OUS.xlsx...\n",
      "Reading E:\\repdoser\\DoseTrack - Serienivå\\2024\\2024-12 - OUS.xlsx...\n"
     ]
    }
   ],
   "source": [
    "import os\n",
    "import pandas as pd\n",
    "from pathlib import Path\n",
    "import dt_ids7_export_module as bh_utils\n",
    "\n",
    "# Get the name of the computer:\n",
    "import socket\n",
    "hostname = socket.gethostname()\n",
    "if hostname == 'BHs-Desktop':\n",
    "    path = 'E:\\\\'\n",
    "elif hostname == 'BH-XPS':\n",
    "    path = 'G:\\\\'\n",
    "else:\n",
    "    path = 'D:\\\\'\n",
    "\n",
    "\n",
    "# Import the IDS7 data:\n",
    "root_folder = path + \"repdoser\\\\IDS7\\\\2024\\\\\"\n",
    "df_ids7 = bh_utils.import_excel_files_to_dataframe(root_folder)\n",
    "\n",
    "# Import the IDS7 data:\n",
    "root_folder = path + \"repdoser\\\\DoseTrack - Serienivå\\\\2024\\\\\"\n",
    "df_dt = bh_utils.import_excel_files_to_dataframe(root_folder)"
   ]
  },
  {
   "cell_type": "code",
   "execution_count": 2,
   "metadata": {},
   "outputs": [
    {
     "name": "stdout",
     "output_type": "stream",
     "text": [
      "Dropping unnecessary column: Prioritet- og lesemerkeikon\n",
      "Dropping unnecessary column: Lagt til i demonstrasjon-ikon\n",
      "Dropping unnecessary column: Status\n",
      "Number of rows with NaT in the column \"Bestilt dato og tidspunkt\": 1530\n",
      "Number of cancelled procedures: 295\n",
      "Number of non-human subjects: 101\n",
      "Number of rows with invalid accession number: 7\n",
      "2211     NNRA000009433721\n",
      "11806    NNRA000009532398\n",
      "11807    NNRA000009578608\n",
      "18065    NNUL000009507772\n",
      "18066    NNUL000009507772\n",
      "18067    NNUL000009612281\n",
      "27994    NBOU000012935221\n",
      "Name: Henvisnings-ID, dtype: object\n",
      "Number of accession numbers in IDS7: 21339\n",
      "Number of accession numbers in IDS7 not in DoseTrack: 6475\n",
      "WARNING: The column \"Pasient\" does not exist in the \"IDS7\" dataframe.\n",
      "Without this column, we cannot keep track of which procedures are on the same patient.\n",
      "\n",
      "\n",
      "User Guide to get the \"Pasienter\" column in the IDS7 data:\n",
      "\n",
      "\n",
      "Note that the \"Pasient column is not a column in IDS7, but must be created manually for anonymity reasons.\n",
      "This can be done in excel after export to a safe location using the following method:\n",
      "Copy the personal ID's from the column Fødelsnummer to a new column.\n",
      "Then mark the new column and click the data fan -> \"Fjern Duplikater\"\n",
      "Next to this column write for instance: \"PAS0001\"\n",
      "Then doubleclick the small square in the bottom right corner of the cell to autofill.\n",
      "This will create a unique identifier for each patient.\n",
      "Make a new blank column next to the Fødselsnummer column, and fill it with the new anonymized patient ID.\n",
      "Use the =FINN.RAD() function in excel. First argument is the Fødselsnr\n",
      "The second argument is the matrix of the unique fødselsnr and the anonymized patient ID (remember $-signs)\n",
      "The third argument is the column number of the anonymized patient ID in the matrix: 2\n",
      "The fourth argument is USANN\n",
      "Finally, copy the annonymized column into a new column named \"Pasient\" and remember to paste as numbers.\n",
      "Make sure to delete the column \"Fødselsnummer\" and the key-matrix of the unique Fødselsnummer and the anonymized patient ID.\n",
      "Then save the file.\n",
      "\n",
      "\n",
      "Number of accession numbers in DoseTrack: 15545\n",
      "Number of accession numbers in DoseTrack not in IDS7: 681\n",
      "WARNING: The column \"Pasient\" does not exist in the \"IDS7\" dataframe.\n",
      "This column will not be included in the merged data.\n",
      "\n",
      "\n",
      "The IDS7 and DoseTrack has merged data of length: 14864\n"
     ]
    }
   ],
   "source": [
    "import importlib\n",
    "importlib.reload(bh_utils)\n",
    "\n",
    "# Run all cleanups, filters and checks:\n",
    "df_ids7 = bh_utils.run_all_cleanup_filters_and_checks(df_ids7, df_dt, True)\n",
    "# Merge the dataframes:\n",
    "data = bh_utils.merge_ids7_dt(df_ids7, df_dt, True)"
   ]
  }
 ],
 "metadata": {
  "kernelspec": {
   "display_name": "BHPython313",
   "language": "python",
   "name": "python3"
  },
  "language_info": {
   "codemirror_mode": {
    "name": "ipython",
    "version": 3
   },
   "file_extension": ".py",
   "mimetype": "text/x-python",
   "name": "python",
   "nbconvert_exporter": "python",
   "pygments_lexer": "ipython3",
   "version": "3.13.1"
  }
 },
 "nbformat": 4,
 "nbformat_minor": 2
}
