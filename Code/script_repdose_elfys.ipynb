{
 "cells": [
  {
   "cell_type": "code",
   "execution_count": null,
   "metadata": {},
   "outputs": [],
   "source": [
    "# Import libraries:\n",
    "import pandas as pd\n",
    "import importlib\n",
    "import dt_ids7_export_utils as bh_utils\n",
    "import elfys_functions as bh_elfys\n",
    "\n",
    "importlib.reload(bh_utils)\n",
    "importlib.reload(bh_elfys)\n",
    "\n",
    "# Get the name of the computer:\n",
    "import socket\n",
    "hostname = socket.gethostname()\n",
    "if hostname == 'BHs-Desktop':\n",
    "    path = 'E:\\\\'\n",
    "elif hostname == 'BH-XPS':\n",
    "    path = 'G:\\\\'\n",
    "else:\n",
    "    path = 'D:\\\\'\n",
    "\n",
    "del hostname\n",
    "# Import the data:\n",
    "df_ids7 = pd.read_excel(path + 'RRH ELfys Ids7.xlsx')\n",
    "df_dt = pd.read_excel(path + 'DoseTrack RRH Elfys reduced.xlsx')\n",
    "\n",
    "del path\n",
    "\n",
    "\n",
    "# Run all cleanups, filters and checks:\n",
    "df_ids7 = bh_utils.run_all_cleanup_filters_and_checks(df_ids7, df_dt, True)\n",
    "# Check for accession numbers that exists in DoseTrack but not in Ids7:\n",
    "df_dt = bh_utils.check_accession_dt_vs_ids7(df_dt, df_ids7, True)\n",
    "\n",
    "# First we perform mapping on selected procedures:\n",
    "df_ids7 = bh_elfys.map_procedures(df_ids7, True)\n",
    "# Merge the dataframes:\n",
    "data = bh_utils.merge_ids7_dt(df_ids7, df_dt, True)\n",
    "# Then we filter the interesting procedures:\n",
    "data = bh_elfys.filter_procedures(data, True)"
   ]
  }
 ],
 "metadata": {
  "kernelspec": {
   "display_name": "BHPython311",
   "language": "python",
   "name": "python3"
  },
  "language_info": {
   "codemirror_mode": {
    "name": "ipython",
    "version": 3
   },
   "file_extension": ".py",
   "mimetype": "text/x-python",
   "name": "python",
   "nbconvert_exporter": "python",
   "pygments_lexer": "ipython3",
   "version": "3.11.5"
  },
  "orig_nbformat": 4
 },
 "nbformat": 4,
 "nbformat_minor": 2
}
