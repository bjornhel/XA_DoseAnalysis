{
 "cells": [
  {
   "cell_type": "code",
   "execution_count": 1,
   "metadata": {},
   "outputs": [
    {
     "name": "stdout",
     "output_type": "stream",
     "text": [
      "Dropping unnecessary column: Prioritet- og lesemerkeikon\n",
      "Dropping unnecessary column: Lagt til i demonstrasjon-ikon\n",
      "Dropping unnecessary column: Status\n",
      "Number of rows with NaT in the column \"Bestilt dato og tidspunkt\": 0\n",
      "Number of cancelled procedures: 191\n",
      "Number of non-human subjects: 0\n",
      "Number of rows with invalid accession number: 0\n",
      "Number of accession numbers in IDS7: 2046\n",
      "Number of accession numbers in IDS7 not in DoseTrack: 241\n"
     ]
    }
   ],
   "source": [
    "# Import libraries:\n",
    "import pandas as pd\n",
    "import dt_ids7_export_utils as bh_utils\n",
    "import elfys_functions as bh_elfys\n",
    "\n",
    "# Get the name of the computer:\n",
    "import socket\n",
    "hostname = socket.gethostname()\n",
    "if hostname == 'BHs-Desktop':\n",
    "    path = 'E:\\\\'\n",
    "elif hostname == 'BH-XPS':\n",
    "    path = 'G:\\\\'\n",
    "else:\n",
    "    path = 'D:\\\\'\n",
    "\n",
    "del hostname\n",
    "# Import the data:\n",
    "df_ids7 = pd.read_excel(path + 'RRH ELfys Ids7.xlsx')\n",
    "df_dt = pd.read_excel(path + 'DoseTrack RRH Elfys reduced.xlsx')\n",
    "\n",
    "del path\n",
    "\n",
    "\n",
    "# Run all cleanups, filters and checks:\n",
    "df_ids7 = bh_utils.run_all_cleanup_filters_and_checks(df_ids7, df_dt, True)"
   ]
  },
  {
   "cell_type": "code",
   "execution_count": 4,
   "metadata": {},
   "outputs": [],
   "source": [
    "bh_utils.export_examination_codes_to_text_file(df_ids7, 'KRH_Elfys1')\n",
    "bh_utils.export_examination_codes_to_text_file(df_ids7, 'KRH_Elfys2')\n",
    "bh_utils.export_examination_codes_to_text_file(df_ids7, 'KRH_Elfys3')\n",
    "bh_utils.export_examination_codes_to_text_file(df_ids7, 'KRH_Elfys4')\n",
    "bh_utils.export_examination_codes_to_text_file(df_ids7, 'KRH_Lab13')\n",
    "bh_utils.export_examination_codes_to_text_file(df_ids7, 'KRH_Lab39')"
   ]
  },
  {
   "cell_type": "code",
   "execution_count": null,
   "metadata": {},
   "outputs": [],
   "source": [
    "# Create a new dataframe which includes Accession Number from ids7, a mapped procedure name, and dose information:\n",
    "df_dose = bh_elfys.create_dose_dataframe(df_ids7, df_dt, True)\n"
   ]
  },
  {
   "cell_type": "code",
   "execution_count": 2,
   "metadata": {},
   "outputs": [
    {
     "name": "stdout",
     "output_type": "stream",
     "text": [
      "Mapping procedures...\n",
      "\n",
      "RGA Cor Ablasjon SVT (int.) -> RGA Cor Ablasjon SVT (int.) m og u 3D\n",
      "RGA Cor Ablasjon SVT m 3D (int.) -> RGA Cor Ablasjon SVT (int.) m og u 3D\n",
      "RGA Cor Ablasjon Atrieflimmer (int.) -> RGA Cor Ablasjon Atrieflimmer (int.) m og u 3D\n",
      "RGA Cor Ablasjon Atrieflimmer med 3D (int.) -> RGA Cor Ablasjon Atrieflimmer (int.) m og u 3D\n",
      "RGA Cor Elfys SVT (int.) -> RGA Cor Elfys VT el. SVT (int.)\n",
      "RGA Cor Elfys VT (int.) -> RGA Cor Elfys VT el. SVT (int.)\n",
      "RGA Cor 2-k PM (int.) -> RGA Cor Implantasjon PM/ICD (int.) ink. 2k og 1k PM\n",
      "RGA Cor 1-k PM (int.) -> RGA Cor Implantasjon PM/ICD (int.) ink. 2k og 1k PM\n",
      "RGA Cor Implantasjon PM/ICD (int.) -> RGA Cor Implantasjon PM/ICD (int.) ink. 2k og 1k PM\n"
     ]
    }
   ],
   "source": [
    "# First we perform mapping on selected procedures:\n",
    "df_ids7 = bh_elfys.map_procedures(df_ids7, True)"
   ]
  },
  {
   "cell_type": "code",
   "execution_count": 2,
   "metadata": {},
   "outputs": [],
   "source": [
    "df_dose = df_ids7.groupby('Henvisnings-ID').agg({'Pasient': 'first', \n",
    "                                                 'Henvisnings-ID': 'first', \n",
    "                                                 'Beskrivelse': bh_utils.concatenate_protocol})"
   ]
  },
  {
   "cell_type": "code",
   "execution_count": 24,
   "metadata": {},
   "outputs": [
    {
     "data": {
      "text/plain": [
       "False"
      ]
     },
     "execution_count": 24,
     "metadata": {},
     "output_type": "execute_result"
    }
   ],
   "source": [
    "df_ids7['Beskrivelse'].str.contains('RGA Cor Ablasjon').any()"
   ]
  },
  {
   "cell_type": "code",
   "execution_count": null,
   "metadata": {},
   "outputs": [],
   "source": [
    "# Check for patients with multiple bookings on the same time, with different accession numbers:\n",
    "bh_utils.check_patents_with_multiple_bookings_on_same_time_with_different_accession(df_ids7)"
   ]
  },
  {
   "cell_type": "code",
   "execution_count": 3,
   "metadata": {},
   "outputs": [],
   "source": [
    "# Check for patients with multiple bookings on the same day but not the same time, with different accession numbers:\n",
    "bh_utils.check_patents_with_multiple_bookings_on_same_day_with_different_accession(df_ids7)"
   ]
  }
 ],
 "metadata": {
  "kernelspec": {
   "display_name": "BHPython311",
   "language": "python",
   "name": "python3"
  },
  "language_info": {
   "codemirror_mode": {
    "name": "ipython",
    "version": 3
   },
   "file_extension": ".py",
   "mimetype": "text/x-python",
   "name": "python",
   "nbconvert_exporter": "python",
   "pygments_lexer": "ipython3",
   "version": "3.11.5"
  },
  "orig_nbformat": 4
 },
 "nbformat": 4,
 "nbformat_minor": 2
}
