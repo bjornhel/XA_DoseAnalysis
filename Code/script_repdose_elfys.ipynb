{
 "cells": [
  {
   "cell_type": "code",
   "execution_count": null,
   "metadata": {},
   "outputs": [],
   "source": [
    "# Import libraries:\n",
    "import pandas as pd\n",
    "import dt_ids7_export_utils as bh_utils\n",
    "import elfys_functions as bh_elfys\n",
    "\n",
    "# Get the name of the computer:\n",
    "import socket\n",
    "hostname = socket.gethostname()\n",
    "if hostname == 'BHs-Desktop':\n",
    "    path = 'E:\\\\'\n",
    "elif hostname == 'BH-XPS':\n",
    "    path = 'G:\\\\'\n",
    "else:\n",
    "    path = 'D:\\\\'\n",
    "\n",
    "del hostname\n",
    "# Import the data:\n",
    "df_ids7 = pd.read_excel(path + 'RRH ELfys Ids7.xlsx')\n",
    "df_dt = pd.read_excel(path + 'DoseTrack RRH Elfys reduced.xlsx')\n",
    "\n",
    "del path\n",
    "\n",
    "\n",
    "# Run all cleanups, filters and checks:\n",
    "df_ids7 = bh_utils.run_all_cleanup_filters_and_checks(df_ids7, df_dt, True)\n",
    "# Check for accession numbers that exists in DoseTrack but not in Ids7:\n",
    "df_dt = bh_utils.check_accession_dt_vs_ids7(df_dt, df_ids7, True)"
   ]
  },
  {
   "cell_type": "code",
   "execution_count": null,
   "metadata": {},
   "outputs": [],
   "source": [
    "# First we perform mapping on selected procedures:\n",
    "df_ids7 = bh_elfys.map_procedures(df_ids7, True)"
   ]
  },
  {
   "cell_type": "markdown",
   "metadata": {},
   "source": []
  },
  {
   "cell_type": "code",
   "execution_count": null,
   "metadata": {},
   "outputs": [],
   "source": [
    "print(len(df_dt[df_dt['Henvisning_i_ids7'] == False]['Accession Number'].drop_duplicates()))\n",
    "\n",
    "print(len(df_dt[df_dt['Henvisning_i_ids7'] == True]['Accession Number'].drop_duplicates()))"
   ]
  },
  {
   "cell_type": "code",
   "execution_count": null,
   "metadata": {},
   "outputs": [],
   "source": [
    "# Make a dataframe to collect the data to plot:\n",
    "\n",
    "df_ids7_to_merge = df_ids7[df_ids7['Henvisning_i_dt'] == True].groupby('Henvisnings-ID').agg({'Pasient': 'first', \n",
    "                                                 'Kjønn': 'first',\n",
    "                                                 'Henvisnings-ID': 'first', \n",
    "                                                 'Beskrivelse': bh_utils.concatenate_protocol})\n",
    "\n",
    "df_dt_to_merge = df_dt[df_dt['Henvisning_i_ids7'] == True].groupby('Accession Number').agg({'Accession Number': 'first',\n",
    "                                                    'Study Date': 'first',\n",
    "                                                    'Age (Years)': 'first',\n",
    "                                                    'DAP Total (Gy*cm2)': 'sum',\n",
    "                                                    'CAK (mGy)': 'sum',\n",
    "                                                    'F+A Time (s)': 'sum',\n",
    "                                                    'Modality Room': 'first'}).reset_index()\n",
    "\n",
    "data = pd.merge(df_ids7_to_merge, df_dt_to_merge, how='outer', left_on='Henvisnings-ID', right_on='Accession Number')\n",
    "\n"
   ]
  },
  {
   "cell_type": "code",
   "execution_count": null,
   "metadata": {},
   "outputs": [],
   "source": [
    "df_ids7['Beskrivelse'].str.contains('RGA Cor Ablasjon').any()"
   ]
  },
  {
   "cell_type": "code",
   "execution_count": null,
   "metadata": {},
   "outputs": [],
   "source": [
    "# Check for patients with multiple bookings on the same time, with different accession numbers:\n",
    "bh_utils.check_patents_with_multiple_bookings_on_same_time_with_different_accession(df_ids7)"
   ]
  },
  {
   "cell_type": "code",
   "execution_count": null,
   "metadata": {},
   "outputs": [],
   "source": [
    "# Check for patients with multiple bookings on the same day but not the same time, with different accession numbers:\n",
    "bh_utils.check_patents_with_multiple_bookings_on_same_day_with_different_accession(df_ids7)"
   ]
  }
 ],
 "metadata": {
  "kernelspec": {
   "display_name": "BHPython311",
   "language": "python",
   "name": "python3"
  },
  "language_info": {
   "codemirror_mode": {
    "name": "ipython",
    "version": 3
   },
   "file_extension": ".py",
   "mimetype": "text/x-python",
   "name": "python",
   "nbconvert_exporter": "python",
   "pygments_lexer": "ipython3",
   "version": "3.11.5"
  },
  "orig_nbformat": 4
 },
 "nbformat": 4,
 "nbformat_minor": 2
}
