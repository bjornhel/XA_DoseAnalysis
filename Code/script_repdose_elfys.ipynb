{
 "cells": [
  {
   "cell_type": "code",
   "execution_count": null,
   "metadata": {},
   "outputs": [],
   "source": [
    "# Import libraries:\n",
    "import pandas as pd\n",
    "import importlib   \n",
    "import dt_ids7_export_module as bh_utils\n",
    "import plot_module as bh_plot\n",
    "import reporting_module as bh_report\n",
    "import mapping_module as bh_map\n",
    "import mapping_dict_elfys as elfys_dict\n",
    "\n",
    "# Make sure personal libraries are reloaded incase of adjustments:\n",
    "importlib.reload(bh_utils)\n",
    "importlib.reload(elfys_dict)\n",
    "importlib.reload(bh_plot)\n",
    "importlib.reload(bh_report)\n",
    "importlib.reload(bh_map)\n",
    "\n",
    "# Get the name of the computer:\n",
    "import socket\n",
    "hostname = socket.gethostname()\n",
    "if hostname == 'BHs-Desktop':\n",
    "    path = 'E:\\\\'\n",
    "elif hostname == 'BH-XPS':\n",
    "    path = 'G:\\\\'\n",
    "else:\n",
    "    path = 'D:\\\\'\n",
    "\n",
    "# Import the data:\n",
    "df_ids7 = pd.read_excel(path + 'RRH ELfys Ids7.xlsx')\n",
    "df_dt = pd.read_excel(path + 'DoseTrack RRH Elfys reduced.xlsx')\n",
    "\n",
    "del path, hostname\n",
    "\n",
    "# Run all cleanups, filters and checks:\n",
    "df_ids7 = bh_utils.run_all_cleanup_filters_and_checks(df_ids7, df_dt, False)\n",
    "# Merge the dataframes:\n",
    "data = bh_utils.merge_ids7_dt(df_ids7, df_dt, False)\n",
    "# Get the mapping dictionary:\n",
    "mapping_dict = elfys_dict.get_elfys_mapping_dict()\n",
    "# First we perform mapping on selected procedures:\n",
    "data = bh_map.map_procedures(data, mapping_dict, False)\n",
    "\n",
    "del df_dt, df_ids7, mapping_dict"
   ]
  },
  {
   "cell_type": "code",
   "execution_count": null,
   "metadata": {},
   "outputs": [],
   "source": [
    "procedure = 'RGA Cor Ablasjon SVT (int.) m og u 3D'\n",
    "export = False\n",
    "bh_plot.plot_representative_dose(data, procedure, 20, export)"
   ]
  },
  {
   "cell_type": "code",
   "execution_count": null,
   "metadata": {},
   "outputs": [],
   "source": [
    "procedure = 'RGA Cor Ablasjon Atrieflimmer (int.) m og u 3D'\n",
    "bh_plot.plot_representative_dose(data, procedure, 40, export)"
   ]
  },
  {
   "cell_type": "code",
   "execution_count": null,
   "metadata": {},
   "outputs": [],
   "source": [
    "procedure = 'RGA Cor Ablasjon Atrieflutter (int.)'\n",
    "bh_plot.plot_representative_dose(data, procedure, 20, export)"
   ]
  },
  {
   "cell_type": "code",
   "execution_count": null,
   "metadata": {},
   "outputs": [],
   "source": [
    "procedure = 'RGA Cor Ablasjon VT m 3D (int.)'\n",
    "bh_plot.plot_representative_dose(data, procedure, 25, export)"
   ]
  },
  {
   "cell_type": "code",
   "execution_count": null,
   "metadata": {},
   "outputs": [],
   "source": [
    "procedure = 'RGA Cor Cryo Ablasjon Atrieflimmer (int.)'\n",
    "bh_plot.plot_representative_dose(data, procedure, 40, export)"
   ]
  },
  {
   "cell_type": "code",
   "execution_count": null,
   "metadata": {},
   "outputs": [],
   "source": [
    "procedure = 'RGA Cor Elfys VT el. SVT (int.)'\n",
    "bh_plot.plot_representative_dose(data, procedure, 10, export)"
   ]
  },
  {
   "cell_type": "code",
   "execution_count": null,
   "metadata": {},
   "outputs": [],
   "source": [
    "procedure = 'RGA Cor CRT-D (int.)'\n",
    "bh_plot.plot_representative_dose(data, procedure, 35, export)"
   ]
  },
  {
   "cell_type": "code",
   "execution_count": null,
   "metadata": {},
   "outputs": [],
   "source": [
    "procedure = 'RGA Cor CRT-P (int.)'\n",
    "bh_plot.plot_representative_dose(data, procedure, 35, export)"
   ]
  },
  {
   "cell_type": "code",
   "execution_count": null,
   "metadata": {},
   "outputs": [],
   "source": [
    "procedure = 'RGA Cor Implantasjon PM/ICD (int.) ink. 2k og 1k PM'\n",
    "bh_plot.plot_representative_dose(data, procedure, 20, export)"
   ]
  }
 ],
 "metadata": {
  "kernelspec": {
   "display_name": "BHPython311",
   "language": "python",
   "name": "python3"
  },
  "language_info": {
   "codemirror_mode": {
    "name": "ipython",
    "version": 3
   },
   "file_extension": ".py",
   "mimetype": "text/x-python",
   "name": "python",
   "nbconvert_exporter": "python",
   "pygments_lexer": "ipython3",
   "version": "3.11.5"
  },
  "orig_nbformat": 4
 },
 "nbformat": 4,
 "nbformat_minor": 2
}
