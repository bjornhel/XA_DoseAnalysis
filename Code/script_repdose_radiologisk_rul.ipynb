{
 "cells": [
  {
   "cell_type": "code",
   "execution_count": 1,
   "metadata": {},
   "outputs": [
    {
     "name": "stdout",
     "output_type": "stream",
     "text": [
      "Inserted accession number: MUAH_7762179 for patient: PAS0325, time: 2023-03-31 00:00:00, accession numbers: ['MUAH_7763111' 'MUAH_7762179']\n",
      "Inserted accession number: NRUL000008266015 for patient: PAS0366, time: 2023-06-09 08:30:00, accession numbers: ['NRUL000008266015' 'NRUL000008255606']\n",
      "Inserted accession number: MUAH_7702477 for patient: PAS0532, time: 2023-02-10 00:00:00, accession numbers: ['MUAH_7722305' 'MUAH_7702477']\n",
      "Inserted accession number: MUAH_7750068 for patient: PAS0972, time: 2023-03-17 00:00:00, accession numbers: ['MUAH_7750143' 'MUAH_7750068']\n",
      "Inserted accession number: MUAH_7736539 for patient: PAS1322, time: 2023-03-01 00:00:00, accession numbers: ['MUAH_7738478' 'MUAH_7736539']\n",
      "Inserted accession number: MUAH_7732338 for patient: PAS1352, time: 2023-02-22 00:00:00, accession numbers: ['MUAH_7732338' 'MUAH_7731828']\n",
      "Inserted accession number: MUAH_7730833 for patient: PAS1353, time: 2023-02-20 00:00:00, accession numbers: ['MUAH_7731027' 'MUAH_7730833']\n",
      "Inserted accession number: MUAH_7727708 for patient: PAS1411, time: 2023-02-16 00:00:00, accession numbers: ['MUAH_7727708' 'MUAH_7715087']\n",
      "Inserted accession number: MUAH_7706223 for patient: PAS1568, time: 2023-01-25 00:00:00, accession numbers: ['MUAH_7707666' 'MUAH_7706223']\n",
      "WARNING: there are two or more accessions with data in dosetrack and at least one without.\n",
      "Please investigate patient: PAS1630, time: 2023-01-16 00:00:00, accession numbers: ['MUAH_7699550' 'MUAH_7697633' 'MUAH_7697475']\n",
      "Switch the manual_replace flag to True to enable manual accession number replacement.\n",
      "Inserted accession number: MUAH_7695465 for patient: PAS1671, time: 2023-01-13 00:00:00, accession numbers: ['MUAH_7695476' 'MUAH_7695465']\n",
      "Inserted accession number: MUAH_7683172 for patient: PAS1739, time: 2023-01-04 00:00:00, accession numbers: ['MUAH_7684542' 'MUAH_7683172']\n",
      "The IDS7 and DoseTrack has merged data of length: 2035\n"
     ]
    }
   ],
   "source": [
    "# Import libraries:\n",
    "import pandas as pd\n",
    "import importlib\n",
    "import dt_ids7_export_module as bh_utils\n",
    "import mapping_module as bh_map\n",
    "import plot_module as bh_plot\n",
    "import reporting_module as bh_report\n",
    "import mapping_dict_rul_xa as rul_xa_dict\n",
    "\n",
    "# Make sure personal libraries are reloaded incase of adjustments:\n",
    "importlib.reload(bh_utils)\n",
    "importlib.reload(bh_map)\n",
    "importlib.reload(bh_plot)\n",
    "importlib.reload(bh_report)\n",
    "importlib.reload(rul_xa_dict)\n",
    "\n",
    "# Get the name of the computer:\n",
    "import socket\n",
    "hostname = socket.gethostname()\n",
    "if hostname == 'BHs-Desktop':\n",
    "    path = 'E:\\\\'\n",
    "elif hostname == 'BH-XPS':\n",
    "    path = 'G:\\\\'\n",
    "else:\n",
    "    path = 'D:\\\\'\n",
    "\n",
    "# Import the data:\n",
    "df_ids7 = pd.read_excel(path + 'IDS7 RUL XA.xlsx')\n",
    "df_dt = pd.read_excel(path + 'DoseTrack RUL XA reduced.xlsx')\n",
    "\n",
    "del path, hostname\n",
    "# Run all cleanups, filters and checks:\n",
    "df_ids7 = bh_utils.run_all_cleanup_filters_and_checks(df_ids7, df_dt, True)\n",
    "# Merge the dataframes:\n",
    "data = bh_utils.merge_ids7_dt(df_ids7, df_dt, True)\n"
   ]
  },
  {
   "cell_type": "code",
   "execution_count": null,
   "metadata": {},
   "outputs": [],
   "source": [
    "\n",
    "# Run all cleanups, filters and checks:\n",
    "df_ids7 = bh_utils.run_all_cleanup_filters_and_checks(df_ids7, df_dt, True)\n",
    "# Merge the dataframes:\n",
    "data = bh_utils.merge_ids7_dt(df_ids7, df_dt, True)"
   ]
  },
  {
   "cell_type": "code",
   "execution_count": null,
   "metadata": {},
   "outputs": [],
   "source": [
    "bh_utils.export_examination_codes_to_text_file(data)"
   ]
  },
  {
   "cell_type": "code",
   "execution_count": null,
   "metadata": {},
   "outputs": [],
   "source": [
    "# Get the mapping dictionary:\n",
    "mapping_dict = rad_xa_dict.get_rad_xa_mapping_dict()\n",
    "# First we perform mapping on selected procedures:\n",
    "data = bh_map.map_procedures(data, mapping_dict, True)\n",
    "\n",
    "del df_dt, df_ids7, mapping_dict\n",
    "\n",
    "# It seems the procedures prior to 20-04-2023 are not merged, as they have a sifferent accesssion number in IDS7 and DT.\n",
    "# In IDS7 most likely a MUAH_ is added in front of the accession number."
   ]
  },
  {
   "cell_type": "code",
   "execution_count": null,
   "metadata": {},
   "outputs": [],
   "source": [
    "# make a new row with True or False depending on if the accession number is of Siemens format: \n",
    "df_dt['Siemens format'] = df_dt['Accession Number'].str.match(r'^[0-9]{7}$')\n"
   ]
  },
  {
   "cell_type": "code",
   "execution_count": null,
   "metadata": {},
   "outputs": [],
   "source": [
    "print(sum(df_dt['Accession Number'].str.match(r'^[0-9]{7}$')))"
   ]
  },
  {
   "cell_type": "code",
   "execution_count": null,
   "metadata": {},
   "outputs": [],
   "source": [
    "# Append \"MUAH_\" in front of the accession number if it is of the following format .str.match(r'^[0-9]{7}$'):\n",
    "df_dt.loc[df_dt['Accession Number'].str.match(r'^[0-9]{7}$'), 'Accession Number'] = 'MUAH_' + \\\n",
    "    df_dt.loc[df_dt['Accession Number'].str.match(r'^[0-9]{7}$'), 'Accession Number']"
   ]
  },
  {
   "cell_type": "code",
   "execution_count": null,
   "metadata": {},
   "outputs": [],
   "source": [
    "# TODO Fix the manual replacement in the dt_ids7_export_module.py file: overwrite_duplicated_accession_numbers() function"
   ]
  }
 ],
 "metadata": {
  "kernelspec": {
   "display_name": "BHPython311",
   "language": "python",
   "name": "python3"
  },
  "language_info": {
   "codemirror_mode": {
    "name": "ipython",
    "version": 3
   },
   "file_extension": ".py",
   "mimetype": "text/x-python",
   "name": "python",
   "nbconvert_exporter": "python",
   "pygments_lexer": "ipython3",
   "version": "3.11.5"
  }
 },
 "nbformat": 4,
 "nbformat_minor": 2
}
