{
 "cells": [
  {
   "cell_type": "code",
   "execution_count": 4,
   "metadata": {},
   "outputs": [
    {
     "name": "stdout",
     "output_type": "stream",
     "text": [
      "Dropping unnecessary column: Prioritet- og lesemerkeikon\n",
      "Dropping unnecessary column: Lagt til i demonstrasjon-ikon\n",
      "Dropping unnecessary column: Status\n",
      "Number of rows with NaT in the column \"Bestilt dato og tidspunkt\": 0\n",
      "Number of cancelled procedures: 243\n",
      "Number of non-human subjects: 10\n",
      "Number of rows with invalid accession number: 0\n",
      "1166 entries was found matching the old siemens PACS format (7 characters long with only numbers.)\n",
      "These will be converted to the new Sectra PACS format by adding \"MUAH_\" in front of the number.\n",
      "Number of accession numbers in IDS7: 2572\n",
      "Number of accession numbers in IDS7 not in DoseTrack: 537\n",
      "Inserted accession number: MUAH_7762179 for patient: PAS0325, time: 2023-03-31 00:00:00, accession numbers: ['MUAH_7763111' 'MUAH_7762179']\n",
      "Inserted accession number: NRUL000008266015 for patient: PAS0366, time: 2023-06-09 08:30:00, accession numbers: ['NRUL000008266015' 'NRUL000008255606']\n",
      "Inserted accession number: MUAH_7702477 for patient: PAS0532, time: 2023-02-10 00:00:00, accession numbers: ['MUAH_7722305' 'MUAH_7702477']\n",
      "Inserted accession number: MUAH_7750068 for patient: PAS0972, time: 2023-03-17 00:00:00, accession numbers: ['MUAH_7750143' 'MUAH_7750068']\n",
      "Inserted accession number: MUAH_7736539 for patient: PAS1322, time: 2023-03-01 00:00:00, accession numbers: ['MUAH_7738478' 'MUAH_7736539']\n",
      "Inserted accession number: MUAH_7732338 for patient: PAS1352, time: 2023-02-22 00:00:00, accession numbers: ['MUAH_7732338' 'MUAH_7731828']\n",
      "Inserted accession number: MUAH_7730833 for patient: PAS1353, time: 2023-02-20 00:00:00, accession numbers: ['MUAH_7731027' 'MUAH_7730833']\n",
      "Inserted accession number: MUAH_7727708 for patient: PAS1411, time: 2023-02-16 00:00:00, accession numbers: ['MUAH_7727708' 'MUAH_7715087']\n",
      "Inserted accession number: MUAH_7706223 for patient: PAS1568, time: 2023-01-25 00:00:00, accession numbers: ['MUAH_7707666' 'MUAH_7706223']\n",
      "WARNING: there are two or more accessions with data in dosetrack and at least one without.\n",
      "Please investigate patient: PAS1630, time: 2023-01-16 00:00:00, accession numbers: ['MUAH_7699550' 'MUAH_7697633' 'MUAH_7697475']\n",
      "Switch the manual_replace flag to True to enable manual accession number replacement.\n",
      "Inserted accession number: MUAH_7695465 for patient: PAS1671, time: 2023-01-13 00:00:00, accession numbers: ['MUAH_7695476' 'MUAH_7695465']\n",
      "Inserted accession number: MUAH_7683172 for patient: PAS1739, time: 2023-01-04 00:00:00, accession numbers: ['MUAH_7684542' 'MUAH_7683172']\n",
      "The accession numbers have been changed. Running check_accession_ids7_vs_dt\n",
      "Number of accession numbers in IDS7: 2561\n",
      "Number of accession numbers in IDS7 not in DoseTrack: 526\n",
      "Number of accession numbers in DoseTrack: 2096\n",
      "Number of accession numbers in DoseTrack not in IDS7: 61\n",
      "The IDS7 and DoseTrack has merged data of length: 2035\n",
      "Mapping procedures...\n",
      "\n",
      "Caput Trombektomi -> Trombektomi\n",
      "Cervical Nerverotsinjeksjon -> Cervical Nerverotsinjeksjon\n",
      "RG Columna - Vertebroplastikk (int.) -> Vertebroplastikk\n",
      "RG Columna & ~Vertebroplastikk -> Div. RG Columna u. Vertebroplastikk\n",
      "RG Shuntveier -> Shuntveier\n",
      "Nefrostomi & innleggelse av dren -> Nefrostomi innleggelse\n",
      "Nefrostomi & ~innleggelse av dren -> Nefrostomi/Pyelografi skifte eller fjerning\n",
      "PTC, diagnostikk & ~Nefrostomi -> PTC/PTBD/ERCP\n",
      "Galleveier - PTBD & ~Nefrostomi -> PTC/PTBD/ERCP\n",
      "PTC Stentinnleggelse & ~Nefrostomi -> PTC/PTBD/ERCP\n",
      "ERCP & ~Nefrostomi -> PTC/PTBD/ERCP\n",
      "RG Defecografi -> Defecografi\n",
      "Øsophagus -> Øsofagus/ØVD (enkelt og dobbelt)\n",
      "Øsofagus -> Øsofagus/ØVD (enkelt og dobbelt)\n",
      "ØVD/enkelkontrast -> Øsofagus/ØVD (enkelt og dobbelt)\n",
      "ØVD/dobbelkontrast -> Øsofagus/ØVD (enkelt og dobbelt)\n",
      "RG Videofluoroskopi & ~Øsofagus -> Videofluoroskopi\n",
      "RG Nedleggelse av ventrikkelsonde & ~ØVD -> Nedleggelse av ventrikkelsonde\n",
      "RG Abdomen & ~PTC, diagnostikk (int.) & ~ERCP & ~ØVD & ~RG Galleblære & ~Embolisering -> RG Abdomen diverse\n",
      "RG Galleblære & ~PTC & ~Galleveier -> RG Galleblære (u. PTC eller Galleveier)\n",
      "RGV Thorax -> RGV Thorax\n",
      "RGA Bekken Stent/stentgraft (int.) -> Bekken Stentgraft\n",
      "Embolisering (int.) & ~Stent/Stentgraft & ~Caput & ~RGA Overex & ~RGA Underex -> Abdomen/Bekken Embolisering\n",
      "RGV Underex -> Ekstremiteter\n",
      "RGA Underex & ~RGA Bekken -> Ekstremiteter\n",
      "RGV Overex & ~RGV Thorax -> Ekstremiteter\n",
      "RGA Overex -> Ekstremiteter\n"
     ]
    }
   ],
   "source": [
    "# Import libraries:\n",
    "import pandas as pd\n",
    "import importlib\n",
    "import dt_ids7_export_module as bh_utils\n",
    "import mapping_module as bh_map\n",
    "import plot_module as bh_plot\n",
    "import reporting_module as bh_report\n",
    "import mapping_dict_rul_xa as rul_xa_dict\n",
    "\n",
    "# Make sure personal libraries are reloaded incase of adjustments:\n",
    "importlib.reload(bh_utils)\n",
    "importlib.reload(bh_map)\n",
    "importlib.reload(bh_plot)\n",
    "importlib.reload(bh_report)\n",
    "importlib.reload(rul_xa_dict)\n",
    "\n",
    "# Get the name of the computer:\n",
    "import socket\n",
    "hostname = socket.gethostname()\n",
    "if hostname == 'BHs-Desktop':\n",
    "    path = 'E:\\\\'\n",
    "elif hostname == 'BH-XPS':\n",
    "    path = 'G:\\\\'\n",
    "else:\n",
    "    path = 'D:\\\\'\n",
    "\n",
    "# Import the data:\n",
    "df_ids7 = pd.read_excel(path + 'IDS7 RUL XA.xlsx')\n",
    "df_dt = pd.read_excel(path + 'DoseTrack RUL XA reduced.xlsx')\n",
    "\n",
    "# Run all cleanups, filters and checks:\n",
    "df_ids7 = bh_utils.run_all_cleanup_filters_and_checks(df_ids7, df_dt, True)\n",
    "# Merge the dataframes:\n",
    "data = bh_utils.merge_ids7_dt(df_ids7, df_dt, True)\n",
    "# Get the mapping dictionary:\n",
    "mapping_dict = rul_xa_dict.get_rul_xa_mapping_dict()\n",
    "# First we perform mapping on selected procedures:\n",
    "data = bh_map.map_procedures(data, mapping_dict, True)\n",
    "\n",
    "del df_dt, df_ids7"
   ]
  },
  {
   "cell_type": "code",
   "execution_count": 5,
   "metadata": {},
   "outputs": [
    {
     "ename": "NameError",
     "evalue": "name 'mapping_dict' is not defined",
     "output_type": "error",
     "traceback": [
      "\u001b[1;31m---------------------------------------------------------------------------\u001b[0m",
      "\u001b[1;31mNameError\u001b[0m                                 Traceback (most recent call last)",
      "\u001b[1;32mc:\\Users\\bjorn\\BH_Kode\\XA_DoseAnalysis\\Code\\script_repdose_radiologisk_rul.ipynb Cell 2\u001b[0m line \u001b[0;36m4\n\u001b[0;32m      <a href='vscode-notebook-cell:/c%3A/Users/bjorn/BH_Kode/XA_DoseAnalysis/Code/script_repdose_radiologisk_rul.ipynb#X11sZmlsZQ%3D%3D?line=0'>1</a>\u001b[0m export \u001b[39m=\u001b[39m \u001b[39mFalse\u001b[39;00m\n\u001b[0;32m      <a href='vscode-notebook-cell:/c%3A/Users/bjorn/BH_Kode/XA_DoseAnalysis/Code/script_repdose_radiologisk_rul.ipynb#X11sZmlsZQ%3D%3D?line=1'>2</a>\u001b[0m \u001b[39m# Make a list of all the unique values in the mapping dictionary \u001b[39;00m\n\u001b[0;32m      <a href='vscode-notebook-cell:/c%3A/Users/bjorn/BH_Kode/XA_DoseAnalysis/Code/script_repdose_radiologisk_rul.ipynb#X11sZmlsZQ%3D%3D?line=2'>3</a>\u001b[0m \u001b[39m# (make list, convert to set, and make list again to remove duplicates):\u001b[39;00m\n\u001b[1;32m----> <a href='vscode-notebook-cell:/c%3A/Users/bjorn/BH_Kode/XA_DoseAnalysis/Code/script_repdose_radiologisk_rul.ipynb#X11sZmlsZQ%3D%3D?line=3'>4</a>\u001b[0m procedures \u001b[39m=\u001b[39m \u001b[39mlist\u001b[39m(\u001b[39mset\u001b[39m(\u001b[39mlist\u001b[39m(mapping_dict\u001b[39m.\u001b[39mvalues())))\n\u001b[0;32m      <a href='vscode-notebook-cell:/c%3A/Users/bjorn/BH_Kode/XA_DoseAnalysis/Code/script_repdose_radiologisk_rul.ipynb#X11sZmlsZQ%3D%3D?line=4'>5</a>\u001b[0m \u001b[39m# Sort the list:\u001b[39;00m\n\u001b[0;32m      <a href='vscode-notebook-cell:/c%3A/Users/bjorn/BH_Kode/XA_DoseAnalysis/Code/script_repdose_radiologisk_rul.ipynb#X11sZmlsZQ%3D%3D?line=5'>6</a>\u001b[0m procedures\u001b[39m.\u001b[39msort()\n",
      "\u001b[1;31mNameError\u001b[0m: name 'mapping_dict' is not defined"
     ]
    }
   ],
   "source": [
    "export = False\n",
    "# Make a list of all the unique values in the mapping dictionary \n",
    "# (make list, convert to set, and make list again to remove duplicates):\n",
    "procedures = list(set(list(mapping_dict.values())))\n",
    "# Sort the list:\n",
    "procedures.sort()\n",
    "for p in procedures:\n",
    "    bh_plot.plot_representative_dose(data, p, 0, export)"
   ]
  }
 ],
 "metadata": {
  "kernelspec": {
   "display_name": "BHPython311",
   "language": "python",
   "name": "python3"
  },
  "language_info": {
   "codemirror_mode": {
    "name": "ipython",
    "version": 3
   },
   "file_extension": ".py",
   "mimetype": "text/x-python",
   "name": "python",
   "nbconvert_exporter": "python",
   "pygments_lexer": "ipython3",
   "version": "3.11.5"
  }
 },
 "nbformat": 4,
 "nbformat_minor": 2
}
