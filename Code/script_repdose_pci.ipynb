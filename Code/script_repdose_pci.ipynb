{
 "cells": [
  {
   "cell_type": "code",
   "execution_count": 4,
   "metadata": {},
   "outputs": [
    {
     "name": "stdout",
     "output_type": "stream",
     "text": [
      "['KUL_XA2' 'KUL_XA4' 'KUL_XA1' 'IRH_XA6' 'KRH_XA6' 'KRH_XA7' 'KRH_XA8'\n",
      " 'KRH_XA3' 'KRH_XA3_Coroventis' 'KRH_XA8_Coroventis' 'KRH_XA8_IVUS'\n",
      " 'KRH_XA7_IVUS' 'KRH_XA3_OCT' 'KRH_XA7_Coroventis' 'KRH_XA3_IVUS'\n",
      " 'KRH_XA7_OCT' 'KRH_XA7_Intrasight' 'KRH_XA8_OCT']\n",
      "['KUL_XA2' 'KUL_XA4' 'KUL_XA1' 'IRH_XA6' 'KRH_XA6' 'KRH_XA7' 'KRH_XA8'\n",
      " 'KRH_XA3']\n"
     ]
    }
   ],
   "source": [
    "# Import libraries:\n",
    "import pandas as pd\n",
    "import importlib\n",
    "import dt_ids7_export_module as bh_utils\n",
    "import mapping_module as bh_map\n",
    "import plot_module as bh_plot\n",
    "import reporting_module as bh_report\n",
    "# import mapping_dict_rad_xa as rad_xa_dict\n",
    "\n",
    "# Make sure personal libraries are reloaded incase of adjustments:\n",
    "importlib.reload(bh_utils)\n",
    "importlib.reload(bh_map)\n",
    "importlib.reload(bh_plot)\n",
    "importlib.reload(bh_report)\n",
    "# importlib.reload(rad_xa_dict)\n",
    "\n",
    "# Get the name of the computer:\n",
    "import socket\n",
    "hostname = socket.gethostname()\n",
    "if hostname == 'BHs-Desktop':\n",
    "    path = 'E:\\\\'\n",
    "elif hostname == 'BH-XPS':\n",
    "    path = 'G:\\\\'\n",
    "else:\n",
    "    path = 'D:\\\\'\n",
    "\n",
    "# Import the data:\n",
    "df_ids7 = pd.read_excel(path + 'PCI\\IDS7\\KUL_KRH_PCI.xlsx')\n",
    "df_dt = pd.read_excel(path + 'PCI\\DoseTrack\\DoseTrack KRH_XA.xlsx')\n",
    "del path, hostname\n",
    "\n",
    "# Convert all variants of the ['Rom/modalitet (RIS)'] to the standard lab name:\n",
    "# Convert values of 'KRH_XA3_Coroventis' to 'KRH_XA3':\n",
    "df_ids7['Rom/modalitet (RIS)'] = df_ids7['Rom/modalitet (RIS)'].replace('KRH_XA3_Coroventis', 'KRH_XA3')\n",
    "df_ids7['Rom/modalitet (RIS)'] = df_ids7['Rom/modalitet (RIS)'].replace('KRH_XA3_IVUS', 'KRH_XA3')\n",
    "df_ids7['Rom/modalitet (RIS)'] = df_ids7['Rom/modalitet (RIS)'].replace('KRH_XA3_OCT', 'KRH_XA3')\n",
    "\n",
    "df_ids7['Rom/modalitet (RIS)'] = df_ids7['Rom/modalitet (RIS)'].replace('KRH_XA7_Intrasight', 'KRH_XA7')\n",
    "df_ids7['Rom/modalitet (RIS)'] = df_ids7['Rom/modalitet (RIS)'].replace('KRH_XA7_Coroventis', 'KRH_XA7')\n",
    "df_ids7['Rom/modalitet (RIS)'] = df_ids7['Rom/modalitet (RIS)'].replace('KRH_XA7_IVUS', 'KRH_XA7')\n",
    "df_ids7['Rom/modalitet (RIS)'] = df_ids7['Rom/modalitet (RIS)'].replace('KRH_XA7_OCT', 'KRH_XA7')\n",
    "\n",
    "df_ids7['Rom/modalitet (RIS)'] = df_ids7['Rom/modalitet (RIS)'].replace('KRH_XA8_Coroventis', 'KRH_XA8')\n",
    "df_ids7['Rom/modalitet (RIS)'] = df_ids7['Rom/modalitet (RIS)'].replace('KRH_XA8_IVUS', 'KRH_XA8')\n",
    "df_ids7['Rom/modalitet (RIS)'] = df_ids7['Rom/modalitet (RIS)'].replace('KRH_XA8_OCT', 'KRH_XA8')\n",
    "\n",
    "df_ids7['Rom/modalitet (RIS)'] = df_ids7['Rom/modalitet (RIS)'].replace('KUL_XA1_Coroventis', 'KUL_XA1')\n",
    "df_ids7['Rom/modalitet (RIS)'] = df_ids7['Rom/modalitet (RIS)'].replace('KUL_XA1_IVUS', 'KUL_XA1')\n",
    "df_ids7['Rom/modalitet (RIS)'] = df_ids7['Rom/modalitet (RIS)'].replace('KUL_XA1_OCT', 'KUL_XA1')\n",
    "df_ids7['Rom/modalitet (RIS)'] = df_ids7['Rom/modalitet (RIS)'].replace('KUL_XA1_MacLab', 'KUL_XA1')\n",
    "\n",
    "df_ids7['Rom/modalitet (RIS)'] = df_ids7['Rom/modalitet (RIS)'].replace('KUL_XA2_IVUS', 'KUL_XA2')\n",
    "df_ids7['Rom/modalitet (RIS)'] = df_ids7['Rom/modalitet (RIS)'].replace('KUL_XA2_OCT', 'KUL_XA2')\n",
    "df_ids7['Rom/modalitet (RIS)'] = df_ids7['Rom/modalitet (RIS)'].replace('KUL_XA2_MacLab', 'KUL_XA2')\n",
    "\n",
    "df_ids7['Rom/modalitet (RIS)'] = df_ids7['Rom/modalitet (RIS)'].replace('KUL_XA4_IVUS', 'KUL_XA4')\n",
    "df_ids7['Rom/modalitet (RIS)'] = df_ids7['Rom/modalitet (RIS)'].replace('KUL_XA4_OCT', 'KUL_XA4')\n",
    "df_ids7['Rom/modalitet (RIS)'] = df_ids7['Rom/modalitet (RIS)'].replace('KUL_XA4_MacLab', 'KUL_XA4')\n",
    "\n",
    "# Run all cleanups, filters and checks:\n",
    "df_ids7 = bh_utils.run_all_cleanup_filters_and_checks(df_ids7, df_dt, True)\n",
    "# Merge the dataframes:\n",
    "data = bh_utils.merge_ids7_dt(df_ids7, df_dt, True)\n",
    "# Get the mapping dictionary:\n",
    "# mapping_dict = rad_xa_dict.get_rad_xa_mapping_dict()\n",
    "# First we perform mapping on selected procedures:\n",
    "# data = bh_map.map_procedures(data, mapping_dict, True)\n",
    "\n",
    "#del df_dt, df_ids7 #, mapping_dict"
   ]
  }
 ],
 "metadata": {
  "kernelspec": {
   "display_name": "BHPython311",
   "language": "python",
   "name": "python3"
  },
  "language_info": {
   "codemirror_mode": {
    "name": "ipython",
    "version": 3
   },
   "file_extension": ".py",
   "mimetype": "text/x-python",
   "name": "python",
   "nbconvert_exporter": "python",
   "pygments_lexer": "ipython3",
   "version": "3.11.5"
  }
 },
 "nbformat": 4,
 "nbformat_minor": 2
}
