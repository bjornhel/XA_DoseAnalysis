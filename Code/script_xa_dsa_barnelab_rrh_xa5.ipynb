{
 "cells": [
  {
   "cell_type": "markdown",
   "metadata": {},
   "source": [
    "# Script XA DSA\n",
    "This notebook imports necessary libraries and data from Excel files to work with ..."
   ]
  },
  {
   "cell_type": "code",
   "execution_count": 8,
   "metadata": {},
   "outputs": [
    {
     "name": "stdout",
     "output_type": "stream",
     "text": [
      "Reading C:\\Users\\bjorn\\Downloads\\repdoser\\IDS7\\2023\\2023-01 - OUS.xlsx...\n",
      "Reading C:\\Users\\bjorn\\Downloads\\repdoser\\IDS7\\2023\\2023-02 - OUS.xlsx...\n",
      "Reading C:\\Users\\bjorn\\Downloads\\repdoser\\IDS7\\2023\\2023-03 - OUS.xlsx...\n",
      "Reading C:\\Users\\bjorn\\Downloads\\repdoser\\IDS7\\2023\\2023-04 - OUS.xlsx...\n",
      "Reading C:\\Users\\bjorn\\Downloads\\repdoser\\IDS7\\2023\\2023-05 - OUS.xlsx...\n",
      "Reading C:\\Users\\bjorn\\Downloads\\repdoser\\IDS7\\2023\\2023-06 - OUS.xlsx...\n",
      "Reading C:\\Users\\bjorn\\Downloads\\repdoser\\IDS7\\2023\\2023-07 - OUS.xlsx...\n",
      "Reading C:\\Users\\bjorn\\Downloads\\repdoser\\IDS7\\2023\\2023-08 - OUS.xlsx...\n",
      "Reading C:\\Users\\bjorn\\Downloads\\repdoser\\IDS7\\2023\\2023-09 - OUS.xlsx...\n",
      "Reading C:\\Users\\bjorn\\Downloads\\repdoser\\IDS7\\2023\\2023-10 - OUS.xlsx...\n",
      "Reading C:\\Users\\bjorn\\Downloads\\repdoser\\IDS7\\2023\\2023-11 - OUS.xlsx...\n",
      "Reading C:\\Users\\bjorn\\Downloads\\repdoser\\IDS7\\2023\\2023-12 - OUS.xlsx...\n",
      "Reading C:\\Users\\bjorn\\Downloads\\repdoser\\DoseTrack - Serienivå\\2023\\2023-01 - OUS.xlsx...\n",
      "Reading C:\\Users\\bjorn\\Downloads\\repdoser\\DoseTrack - Serienivå\\2023\\2023-02 - OUS.xlsx...\n",
      "Reading C:\\Users\\bjorn\\Downloads\\repdoser\\DoseTrack - Serienivå\\2023\\2023-03 - OUS.xlsx...\n",
      "Reading C:\\Users\\bjorn\\Downloads\\repdoser\\DoseTrack - Serienivå\\2023\\2023-04 - OUS.xlsx...\n",
      "Reading C:\\Users\\bjorn\\Downloads\\repdoser\\DoseTrack - Serienivå\\2023\\2023-05 - OUS.xlsx...\n",
      "Reading C:\\Users\\bjorn\\Downloads\\repdoser\\DoseTrack - Serienivå\\2023\\2023-06 - OUS.xlsx...\n",
      "Reading C:\\Users\\bjorn\\Downloads\\repdoser\\DoseTrack - Serienivå\\2023\\2023-07 - OUS.xlsx...\n",
      "Reading C:\\Users\\bjorn\\Downloads\\repdoser\\DoseTrack - Serienivå\\2023\\2023-08 - OUS.xlsx...\n",
      "Reading C:\\Users\\bjorn\\Downloads\\repdoser\\DoseTrack - Serienivå\\2023\\2023-09 - OUS.xlsx...\n",
      "Reading C:\\Users\\bjorn\\Downloads\\repdoser\\DoseTrack - Serienivå\\2023\\2023-10 - OUS.xlsx...\n",
      "Reading C:\\Users\\bjorn\\Downloads\\repdoser\\DoseTrack - Serienivå\\2023\\2023-11 - OUS.xlsx...\n",
      "Reading C:\\Users\\bjorn\\Downloads\\repdoser\\DoseTrack - Serienivå\\2023\\2023-12 - OUS.xlsx...\n"
     ]
    }
   ],
   "source": [
    "import dt_ids7_export_module as bh_utils\n",
    "import mapping_module as bh_map\n",
    "import plot_module as bh_plot\n",
    "\n",
    "# Get the name of the computer:\n",
    "import socket\n",
    "hostname = socket.gethostname()\n",
    "if hostname == 'BHs-Desktop':\n",
    "    path = 'C:\\\\' # 'E:\\\\'\n",
    "elif hostname == 'BH-XPS':\n",
    "    path = 'G:\\\\'\n",
    "else:\n",
    "    path = 'D:\\\\'\n",
    "\n",
    "\n",
    "# Import the IDS7 data:\n",
    "root_folder = path + \"Users\\\\bjorn\\\\Downloads\\\\repdoser\\\\IDS7\\\\2023\\\\\"\n",
    "df_ids7 = bh_utils.import_excel_files_to_dataframe(root_folder)\n",
    "\n",
    "# Import the IDS7 data:\n",
    "root_folder = path + \"Users\\\\bjorn\\\\Downloads\\\\repdoser\\\\DoseTrack - Serienivå\\\\2023\\\\\"\n",
    "df_dt = bh_utils.import_excel_files_to_dataframe(root_folder)"
   ]
  },
  {
   "cell_type": "code",
   "execution_count": 9,
   "metadata": {},
   "outputs": [
    {
     "name": "stdout",
     "output_type": "stream",
     "text": [
      "Dropping unnecessary column: Prioritet- og lesemerkeikon\n",
      "Dropping unnecessary column: Lagt til i demonstrasjon-ikon\n",
      "Dropping unnecessary column: Status\n",
      "Number of rows with NaT in the column \"Bestilt dato og tidspunkt\": 425\n",
      "Number of cancelled procedures: 2125\n",
      "Number of non-human subjects: 20\n",
      "Number of rows with invalid accession number: 10\n",
      "676      NBOU000007962455\n",
      "677      NBOU000007962455\n",
      "2919     NORRAD0004436111\n",
      "2920     NORRAD0004436111\n",
      "2922     NORRAD0004443460\n",
      "19989    NNRA000008253963\n",
      "22565    NORRAD0004440016\n",
      "35763    NNRA000008470721\n",
      "35764    NNRA000008470721\n",
      "38959    NNUL000009420412\n",
      "Name: Henvisnings-ID, dtype: object\n",
      "1277 entries was found matching the old siemens PACS format (7 characters long with only numbers.)\n",
      "These will be converted to the new Sectra PACS format by adding \"MUAH_\" in front of the number.\n",
      "Number of accession numbers in IDS7: 21498\n",
      "Number of accession numbers in IDS7 not in DoseTrack: 2603\n",
      "WARNING: The column \"Pasient\" does not exist in the \"IDS7\" dataframe.\n",
      "Without this column, we cannot keep track of which procedures are on the same patient.\n",
      "\n",
      "\n",
      "User Guide to get the \"Pasienter\" column in the IDS7 data:\n",
      "\n",
      "\n",
      "Note that the \"Pasient column is not a column in IDS7, but must be created manually for anonymity reasons.\n",
      "This can be done in excel after export to a safe location using the following method:\n",
      "Copy the personal ID's from the column Fødelsnummer to a new column.\n",
      "Then mark the new column and click the data fan -> \"Fjern Duplikater\"\n",
      "Next to this column write for instance: \"PAS0001\"\n",
      "Then doubleclick the small square in the bottom right corner of the cell to autofill.\n",
      "This will create a unique identifier for each patient.\n",
      "Make a new blank column next to the Fødselsnummer column, and fill it with the new anonymized patient ID.\n",
      "Use the =FINN.RAD() function in excel. First argument is the Fødselsnr\n",
      "The second argument is the matrix of the unique fødselsnr and the anonymized patient ID (remember $-signs)\n",
      "The third argument is the column number of the anonymized patient ID in the matrix: 2\n",
      "The fourth argument is USANN\n",
      "Finally, copy the annonymized column into a new column named \"Pasient\" and remember to paste as numbers.\n",
      "Make sure to delete the column \"Fødselsnummer\" and the key-matrix of the unique Fødselsnummer and the anonymized patient ID.\n",
      "Then save the file.\n",
      "\n",
      "\n",
      "Number of accession numbers in DoseTrack: 19899\n",
      "Number of accession numbers in DoseTrack not in IDS7: 1004\n",
      "WARNING: The column \"Pasient\" does not exist in the \"IDS7\" dataframe.\n",
      "This column will not be included in the merged data.\n",
      "\n",
      "\n",
      "The IDS7 and DoseTrack has merged data of length: 18895\n"
     ]
    }
   ],
   "source": [
    "# Run all cleanups, filters and checks:\n",
    "df_ids7 = bh_utils.run_all_cleanup_filters_and_checks(df_ids7, df_dt, True)\n",
    "# Merge the dataframes:\n",
    "data = bh_utils.merge_ids7_dt(df_ids7, df_dt, True)"
   ]
  },
  {
   "cell_type": "code",
   "execution_count": 10,
   "metadata": {},
   "outputs": [
    {
     "name": "stdout",
     "output_type": "stream",
     "text": [
      "Unique elements in Modality Room:\n",
      "['IRH_XA6', 'IRH_XA7', 'KRH_Elfys1', 'KRH_Elfys2', 'KRH_Elfys3', 'KRH_Elfys4', 'KRH_LAB39', 'KRH_Lab13', 'KRH_XA3', 'KRH_XA6', 'KRH_XA7', 'KRH_XA8', 'KUL_XA1', 'KUL_XA2', 'KUL_XA4', 'RAK_XA1', 'RRA_XA1', 'RRH_RF1', 'RRH_RF2', 'RRH_XA1', 'RRH_XA2', 'RRH_XA4', 'RRH_XA5', 'RUL_RF1', 'RUL_RF2', 'RUL_XA3', 'RUL_XA5', 'RUL_XA6']\n"
     ]
    }
   ],
   "source": [
    "# Print all unique elements in Modality Room, sorted alphabetically:\n",
    "print(\"Unique elements in Modality Room:\")\n",
    "print(sorted(data['Modality Room'].unique()))"
   ]
  },
  {
   "cell_type": "code",
   "execution_count": 11,
   "metadata": {},
   "outputs": [],
   "source": [
    "#import mapping_dict_PCI as pci_dict\n",
    "# Representative doser for radiologisk Rikshospital\n",
    "data = data[data['Modality Room'].isin(['RRH_XA5'])]\n",
    "#import importlib\n",
    "#importlib.reload(pci_dict)\n",
    "\n",
    "\n",
    "# Get the mapping dictionary:\n",
    "#mapping_dict = pci_dict.get_PCI_mapping_dict()\n",
    "#data = bh_map.map_procedures(data, mapping_dict, True)\n"
   ]
  },
  {
   "cell_type": "code",
   "execution_count": null,
   "metadata": {},
   "outputs": [],
   "source": [
    "procedure = 'Koronarangiografi'\n",
    "export = False\n",
    "bh_plot.plot_representative_dose(data, procedure, 200, export)"
   ]
  },
  {
   "cell_type": "code",
   "execution_count": null,
   "metadata": {},
   "outputs": [],
   "source": [
    "procedure = 'PCI'\n",
    "export = False\n",
    "bh_plot.plot_representative_dose(data, procedure, 200, export)"
   ]
  },
  {
   "cell_type": "code",
   "execution_count": null,
   "metadata": {},
   "outputs": [],
   "source": [
    "procedure = 'TAVI'\n",
    "export = False\n",
    "bh_plot.plot_representative_dose(data, procedure, 200, export)"
   ]
  },
  {
   "cell_type": "code",
   "execution_count": null,
   "metadata": {},
   "outputs": [],
   "source": [
    "procedure = 'Mitraclip'\n",
    "export = False\n",
    "bh_plot.plot_representative_dose(data, procedure, 200, export)"
   ]
  },
  {
   "cell_type": "code",
   "execution_count": null,
   "metadata": {},
   "outputs": [],
   "source": [
    "procedure = 'PTSMA'\n",
    "export = False\n",
    "bh_plot.plot_representative_dose(data, procedure, 200, export)"
   ]
  },
  {
   "cell_type": "code",
   "execution_count": null,
   "metadata": {},
   "outputs": [],
   "source": [
    "procedure = 'PFO'\n",
    "export = False\n",
    "bh_plot.plot_representative_dose(data, procedure, 200, export)"
   ]
  }
 ],
 "metadata": {
  "kernelspec": {
   "display_name": "BHPython312",
   "language": "python",
   "name": "python3"
  },
  "language_info": {
   "codemirror_mode": {
    "name": "ipython",
    "version": 3
   },
   "file_extension": ".py",
   "mimetype": "text/x-python",
   "name": "python",
   "nbconvert_exporter": "python",
   "pygments_lexer": "ipython3",
   "version": "3.12.8"
  }
 },
 "nbformat": 4,
 "nbformat_minor": 2
}
