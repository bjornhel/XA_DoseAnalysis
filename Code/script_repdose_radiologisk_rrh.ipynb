{
 "cells": [
  {
   "cell_type": "code",
   "execution_count": null,
   "metadata": {},
   "outputs": [],
   "source": [
    "# Import libraries:\n",
    "import pandas as pd\n",
    "import importlib\n",
    "import dt_ids7_export_module as bh_utils\n",
    "import mapping_module as bh_map\n",
    "import plot_module as bh_plot\n",
    "import reporting_module as bh_report\n",
    "import mapping_dict_rad_xa as rad_xa_dict\n",
    "\n",
    "# Make sure personal libraries are reloaded incase of adjustments:\n",
    "importlib.reload(bh_utils)\n",
    "importlib.reload(bh_map)\n",
    "importlib.reload(bh_plot)\n",
    "importlib.reload(bh_report)\n",
    "importlib.reload(rad_xa_dict)\n",
    "\n",
    "# Get the name of the computer:\n",
    "import socket\n",
    "hostname = socket.gethostname()\n",
    "if hostname == 'BHs-Desktop':\n",
    "    path = 'E:\\\\'\n",
    "elif hostname == 'BH-XPS':\n",
    "    path = 'G:\\\\'\n",
    "else:\n",
    "    path = 'D:\\\\'\n",
    "\n",
    "# Import the data:\n",
    "df_ids7 = pd.read_excel(path + 'IDS7 RRH XA.xlsx')\n",
    "df_dt = pd.read_excel(path + 'DoseTrack RRH XA reduced.xlsx')\n",
    "\n",
    "del path, hostname\n",
    "\n",
    "# Run all cleanups, filters and checks:\n",
    "df_ids7 = bh_utils.run_all_cleanup_filters_and_checks(df_ids7, df_dt, True)\n",
    "# Merge the dataframes:\n",
    "data = bh_utils.merge_ids7_dt(df_ids7, df_dt, True)\n",
    "# Get the mapping dictionary:\n",
    "mapping_dict = rad_xa_dict.get_rad_xa_mapping_dict()\n",
    "# First we perform mapping on selected procedures:\n",
    "data = bh_map.map_procedures(data, mapping_dict, True)\n",
    "\n",
    "del df_dt, df_ids7, mapping_dict"
   ]
  },
  {
   "cell_type": "code",
   "execution_count": null,
   "metadata": {},
   "outputs": [],
   "source": [
    "unmapped = data[data['Mapped Procedures'] == 'Unmapped']"
   ]
  },
  {
   "cell_type": "code",
   "execution_count": null,
   "metadata": {},
   "outputs": [],
   "source": [
    "bh_utils.export_examination_codes_to_text_file(data, laboratory=None)"
   ]
  },
  {
   "cell_type": "code",
   "execution_count": null,
   "metadata": {},
   "outputs": [],
   "source": [
    "mapping_dict = rad_xa_dict.get_rad_xa_mapping_dict()\n",
    "export = False\n",
    "# Make a list of all the unique values in the mapping dictionary \n",
    "# (make list, convert to set, and make list again to remove duplicates):\n",
    "procedures = list(set(list(mapping_dict.values())))\n",
    "# Sort the list:\n",
    "procedures.sort()\n",
    "for p in procedures:\n",
    "    bh_plot.plot_representative_dose(data, p, 0, export)"
   ]
  },
  {
   "cell_type": "code",
   "execution_count": null,
   "metadata": {},
   "outputs": [],
   "source": [
    "# Remove unmapped and cochlia examinations from the dataframe\n",
    "elements_to_remove = ['Unmapped', 'Cochlia', 'Scoliose', 'TAVI']\n",
    "\n",
    "mask = ~data['Mapped Procedures'].isin(elements_to_remove)\n",
    "bh_plot.plot_representative_dose_by_procedure(data[mask], 500, export)"
   ]
  },
  {
   "cell_type": "code",
   "execution_count": null,
   "metadata": {},
   "outputs": [],
   "source": [
    "# Remove unmapped and cochlia examinations from the dataframe\n",
    "\n",
    "data_rf2 = data[data['Modality Room'] == 'RRH_RF2']\n",
    "elements_to_remove = ['Unmapped', 'Nefrostomi innleggelse', 'RG Abdomen - Abscessografi, Fjerning/Skifte av dren', 'RG Columna eks. Myelografi']\n",
    "\n",
    "mask = ~data_rf2['Mapped Procedures'].isin(elements_to_remove)\n",
    "bh_plot.plot_representative_dose_by_procedure(data_rf2[mask], 20, export)"
   ]
  },
  {
   "cell_type": "code",
   "execution_count": null,
   "metadata": {},
   "outputs": [],
   "source": [
    "data_abdomen = data[(data['Modality Room'] == 'RRH_XA2') | (data['Modality Room'] == 'RRH_XA4') | (data['Modality Room'] == 'IRH_XA7')]\n",
    "elements_to_remove = ['Unmapped', 'Caput Embolisering', 'Caput og collum', 'Myelografi', 'RG Columna eks. Myelografi', 'Trombektomi',\n",
    "                      'Cochlia', 'Scoliose', 'TAVI']\n",
    "\n",
    "mask = ~data_abdomen['Mapped Procedures'].isin(elements_to_remove)\n",
    "bh_plot.plot_representative_dose_by_procedure(data_abdomen[mask], 500, export)"
   ]
  },
  {
   "cell_type": "code",
   "execution_count": null,
   "metadata": {},
   "outputs": [],
   "source": [
    "data_nevro = data[(data['Modality Room'] == 'RRH_XA2') | (data['Modality Room'] == 'RRH_XA4')]\n",
    "elements_to_remove = ['Unmapped', 'Abdomen/Bekken/Aorta PTA/Embolisering/Stent/Stentgraft',\n",
    "                      'EVAR', 'TEVAR', 'BEVAR/FEVAR', 'Lever', 'Milt/Nyrer', 'Nefrostomi innleggelse', 'Nefrostomi/Pyelografi skifte eller fjerning',\n",
    "                      'Overex', 'PTC/PTBD', 'Pulmonalarterier/PTA/Embolisering', 'RG Abdomen - Abscessografi, Fjerning/Skifte av dren',\n",
    "                      'TACE', 'Underex', 'Urethragrafi/Urografi/Urinveier/MUCG']\n",
    "\n",
    "mask = ~data_nevro['Mapped Procedures'].isin(elements_to_remove)\n",
    "bh_plot.plot_representative_dose_by_procedure(data_nevro[mask], 500, export)"
   ]
  },
  {
   "cell_type": "code",
   "execution_count": null,
   "metadata": {},
   "outputs": [],
   "source": [
    "procedure = 'EVAR'\n",
    "lab = 'RRH_XA4'\n",
    "# Get median f+A time for the procedure:\n",
    "median_fa_time = data[(data['Mapped Procedures'] == procedure) & (data['Modality Room'] == lab)]['F+A Time (s)'].median()\n",
    "print('Median f+A time for ' + procedure + 'on lab ' + lab + ' is ' + str(median_fa_time/60) + ' minutes.')"
   ]
  }
 ],
 "metadata": {
  "kernelspec": {
   "display_name": "BHPython311",
   "language": "python",
   "name": "python3"
  },
  "language_info": {
   "codemirror_mode": {
    "name": "ipython",
    "version": 3
   },
   "file_extension": ".py",
   "mimetype": "text/x-python",
   "name": "python",
   "nbconvert_exporter": "python",
   "pygments_lexer": "ipython3",
   "version": "3.11.5"
  },
  "orig_nbformat": 4
 },
 "nbformat": 4,
 "nbformat_minor": 2
}
