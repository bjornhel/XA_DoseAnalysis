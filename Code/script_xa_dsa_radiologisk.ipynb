{
 "cells": [
  {
   "cell_type": "markdown",
   "metadata": {},
   "source": [
    "# Script XA DSA\n",
    "This notebook imports necessary libraries and data from Excel files to work with ..."
   ]
  },
  {
   "cell_type": "code",
   "execution_count": null,
   "metadata": {},
   "outputs": [],
   "source": [
    "import dt_ids7_export_module as bh_utils\n",
    "import mapping_module as bh_map\n",
    "import plot_module as bh_plot\n",
    "\n",
    "# Get the name of the computer:\n",
    "import socket\n",
    "hostname = socket.gethostname()\n",
    "if hostname == 'BHs-Desktop':\n",
    "    path = 'C:\\\\' # 'E:\\\\'\n",
    "elif hostname == 'BH-XPS':\n",
    "    path = 'G:\\\\'\n",
    "else:\n",
    "    path = 'D:\\\\'\n",
    "\n",
    "\n",
    "# Import the IDS7 data:\n",
    "root_folder = path + \"Users\\\\bjorn\\\\Downloads\\\\repdoser\\\\IDS7\\\\2023\\\\\"\n",
    "df_ids7 = bh_utils.import_excel_files_to_dataframe(root_folder)\n",
    "\n",
    "# Import the IDS7 data:\n",
    "root_folder = path + \"Users\\\\bjorn\\\\Downloads\\\\repdoser\\\\DoseTrack - Serienivå\\\\2023\\\\\"\n",
    "df_dt = bh_utils.import_excel_files_to_dataframe(root_folder)"
   ]
  },
  {
   "cell_type": "code",
   "execution_count": null,
   "metadata": {},
   "outputs": [],
   "source": [
    "# Run all cleanups, filters and checks:\n",
    "df_ids7 = bh_utils.run_all_cleanup_filters_and_checks(df_ids7, df_dt, True)\n",
    "# Merge the dataframes:\n",
    "data = bh_utils.merge_ids7_dt(df_ids7, df_dt, True)"
   ]
  },
  {
   "cell_type": "code",
   "execution_count": null,
   "metadata": {},
   "outputs": [],
   "source": [
    "# Print all unique elements in Modality Room, sorted alphabetically:\n",
    "print(\"Unique elements in Modality Room:\")\n",
    "print(sorted(data['Modality Room'].unique()))"
   ]
  },
  {
   "cell_type": "code",
   "execution_count": null,
   "metadata": {},
   "outputs": [],
   "source": [
    "import mapping_dict_rad_xa as rad_dict\n",
    "# Representative doser for radiologisk Rikshospital\n",
    "data = data[data['Modality Room'].isin(['IRH_XA7', 'RAK_XA1', 'RRA_XA1', 'RRH_RF1', 'RRH_RF2', 'RRH_XA1', 'RRH_XA2', 'RRH_XA4', 'RUL_RF1', 'RUL_RF2', 'RUL_RF3', 'RUL_XA3', 'RUL_XA5', 'RUL_XA6', 'RUL_XA7(Stue 15)'])]\n",
    "import importlib\n",
    "importlib.reload(rad_dict)\n",
    "\n",
    "\n",
    "# Get the mapping dictionary:\n",
    "mapping_dict = rad_dict.get_rad_xa_mapping_dict()\n",
    "data = bh_map.map_procedures(data, mapping_dict, True)\n"
   ]
  },
  {
   "cell_type": "code",
   "execution_count": null,
   "metadata": {},
   "outputs": [],
   "source": [
    "procedure = 'Caput Embolisering'\n",
    "export = False\n",
    "bh_plot.plot_representative_dose(data, procedure, 200, export)"
   ]
  },
  {
   "cell_type": "code",
   "execution_count": null,
   "metadata": {},
   "outputs": [],
   "source": [
    "procedure = 'Trombektomi'\n",
    "bh_plot.plot_representative_dose(data, procedure, 200, export)"
   ]
  },
  {
   "cell_type": "code",
   "execution_count": null,
   "metadata": {},
   "outputs": [],
   "source": [
    "procedure = 'Caput og collum'\n",
    "bh_plot.plot_representative_dose(data, procedure, 200, export)"
   ]
  },
  {
   "cell_type": "code",
   "execution_count": null,
   "metadata": {},
   "outputs": [],
   "source": [
    "procedure = 'Myelografi'\n",
    "bh_plot.plot_representative_dose(data, procedure, 175, export)"
   ]
  },
  {
   "cell_type": "code",
   "execution_count": null,
   "metadata": {},
   "outputs": [],
   "source": [
    "procedure = 'Vertebroplastikk'\n",
    "bh_plot.plot_representative_dose(data, procedure, 100, export)"
   ]
  },
  {
   "cell_type": "code",
   "execution_count": null,
   "metadata": {},
   "outputs": [],
   "source": [
    "procedure = 'RG Columna eks. Myelografi og vertebroplastikk'\n",
    "bh_plot.plot_representative_dose(data, procedure, 40, export)"
   ]
  },
  {
   "cell_type": "code",
   "execution_count": null,
   "metadata": {},
   "outputs": [],
   "source": [
    "procedure = 'Cervical Nerverotsinjeksjon'\n",
    "bh_plot.plot_representative_dose(data, procedure, 25, export)"
   ]
  },
  {
   "cell_type": "code",
   "execution_count": null,
   "metadata": {},
   "outputs": [],
   "source": [
    "procedure = 'Cochlia'\n",
    "bh_plot.plot_representative_dose(data, procedure, 10, export)"
   ]
  },
  {
   "cell_type": "code",
   "execution_count": null,
   "metadata": {},
   "outputs": [],
   "source": [
    "procedure = 'Scoliose'\n",
    "bh_plot.plot_representative_dose(data, procedure, 10, export)"
   ]
  },
  {
   "cell_type": "code",
   "execution_count": null,
   "metadata": {},
   "outputs": [],
   "source": [
    "procedure = 'Shuntveier/Shuntventil'\n",
    "bh_plot.plot_representative_dose(data, procedure, 35, export)"
   ]
  },
  {
   "cell_type": "code",
   "execution_count": null,
   "metadata": {},
   "outputs": [],
   "source": [
    "procedure = 'Diafragmabevegelse'\n",
    "bh_plot.plot_representative_dose(data, procedure, 20, export)"
   ]
  },
  {
   "cell_type": "code",
   "execution_count": null,
   "metadata": {},
   "outputs": [],
   "source": [
    "procedure = 'HSG'\n",
    "bh_plot.plot_representative_dose(data, procedure, 20, export)"
   ]
  },
  {
   "cell_type": "code",
   "execution_count": null,
   "metadata": {},
   "outputs": [],
   "source": [
    "procedure = 'Svelgfunksjon'\n",
    "export = False\n",
    "bh_plot.plot_representative_dose(data, procedure, 20, export)"
   ]
  },
  {
   "cell_type": "code",
   "execution_count": null,
   "metadata": {},
   "outputs": [],
   "source": [
    "procedure = 'Øsofagus/ØVD, eks. svelgfunksjon'\n",
    "export = False\n",
    "bh_plot.plot_representative_dose(data, procedure, 20, export)"
   ]
  },
  {
   "cell_type": "code",
   "execution_count": null,
   "metadata": {},
   "outputs": [],
   "source": [
    "procedure = 'Nedleggelse av ventrikkelsonde'\n",
    "export = False\n",
    "bh_plot.plot_representative_dose(data, procedure, 20, export)"
   ]
  },
  {
   "cell_type": "code",
   "execution_count": null,
   "metadata": {},
   "outputs": [],
   "source": [
    "procedure = 'Urethragrafi/Urografi/Urinveier/MUCG'\n",
    "export = False\n",
    "bh_plot.plot_representative_dose(data, procedure, 20, export)"
   ]
  },
  {
   "cell_type": "code",
   "execution_count": null,
   "metadata": {},
   "outputs": [],
   "source": [
    "procedure = 'Defecografi'\n",
    "export = False\n",
    "bh_plot.plot_representative_dose(data, procedure, 20, export)"
   ]
  },
  {
   "cell_type": "code",
   "execution_count": null,
   "metadata": {},
   "outputs": [],
   "source": [
    "procedure = 'Gastroskopi'\n",
    "export = False\n",
    "bh_plot.plot_representative_dose(data, procedure, 20, export)"
   ]
  },
  {
   "cell_type": "code",
   "execution_count": null,
   "metadata": {},
   "outputs": [],
   "source": [
    "procedure = 'Videofluoroskopi'\n",
    "export = False\n",
    "bh_plot.plot_representative_dose(data, procedure, 20, export)"
   ]
  },
  {
   "cell_type": "code",
   "execution_count": null,
   "metadata": {},
   "outputs": [],
   "source": [
    "procedure = 'Nefrostomi innleggelse'\n",
    "export = False\n",
    "bh_plot.plot_representative_dose(data, procedure, 20, export)"
   ]
  },
  {
   "cell_type": "code",
   "execution_count": null,
   "metadata": {},
   "outputs": [],
   "source": [
    "procedure = 'Nefrostomi/Pyelografi skifte eller fjerning'\n",
    "export = False\n",
    "bh_plot.plot_representative_dose(data, procedure, 20, export)"
   ]
  },
  {
   "cell_type": "code",
   "execution_count": null,
   "metadata": {},
   "outputs": [],
   "source": [
    "procedure = 'TACE'\n",
    "export = False\n",
    "bh_plot.plot_representative_dose(data, procedure, 200, export)"
   ]
  },
  {
   "cell_type": "code",
   "execution_count": null,
   "metadata": {},
   "outputs": [],
   "source": [
    "procedure = 'PTC/PTBD/ERCP'\n",
    "export = False\n",
    "bh_plot.plot_representative_dose(data, procedure, 20, export)"
   ]
  },
  {
   "cell_type": "code",
   "execution_count": null,
   "metadata": {},
   "outputs": [],
   "source": [
    "procedure = 'RG Galleblære u. PTC eller Galleveier'\n",
    "export = False\n",
    "bh_plot.plot_representative_dose(data, procedure, 20, export)"
   ]
  },
  {
   "cell_type": "code",
   "execution_count": null,
   "metadata": {},
   "outputs": [],
   "source": [
    "procedure = 'BEVAR/FEVAR'\n",
    "export = False\n",
    "bh_plot.plot_representative_dose(data, procedure, 20, export)"
   ]
  },
  {
   "cell_type": "code",
   "execution_count": null,
   "metadata": {},
   "outputs": [],
   "source": [
    "procedure = 'TEVAR'\n",
    "export = False\n",
    "bh_plot.plot_representative_dose(data, procedure, 20, export)"
   ]
  },
  {
   "cell_type": "code",
   "execution_count": null,
   "metadata": {},
   "outputs": [],
   "source": [
    "procedure = 'EVAR'\n",
    "export = False\n",
    "bh_plot.plot_representative_dose(data, procedure, 20, export)"
   ]
  },
  {
   "cell_type": "code",
   "execution_count": null,
   "metadata": {},
   "outputs": [],
   "source": [
    "procedure = 'Abdomen/Bekken/Aorta PTA/Embolisering/Stent/Stentgraft'\n",
    "export = False\n",
    "bh_plot.plot_representative_dose(data, procedure, 20, export)"
   ]
  },
  {
   "cell_type": "code",
   "execution_count": null,
   "metadata": {},
   "outputs": [],
   "source": [
    "procedure = 'Milt/Nyrer'\n",
    "export = False\n",
    "bh_plot.plot_representative_dose(data, procedure, 20, export)"
   ]
  },
  {
   "cell_type": "code",
   "execution_count": null,
   "metadata": {},
   "outputs": [],
   "source": [
    "procedure = 'RG Abdomen - Abscessografi, Fjerning/Skifte av dren'\n",
    "export = False\n",
    "bh_plot.plot_representative_dose(data, procedure, 20, export)"
   ]
  },
  {
   "cell_type": "code",
   "execution_count": null,
   "metadata": {},
   "outputs": [],
   "source": [
    "procedure = 'Pulmonalarterier/PTA/Embolisering'\n",
    "export = False\n",
    "bh_plot.plot_representative_dose(data, procedure, 20, export)"
   ]
  },
  {
   "cell_type": "code",
   "execution_count": null,
   "metadata": {},
   "outputs": [],
   "source": [
    "procedure = 'RGV Thorax'\n",
    "export = False\n",
    "bh_plot.plot_representative_dose(data, procedure, 20, export)"
   ]
  },
  {
   "cell_type": "code",
   "execution_count": null,
   "metadata": {},
   "outputs": [],
   "source": [
    "procedure = 'Lymfangiografi'\n",
    "export = False\n",
    "bh_plot.plot_representative_dose(data, procedure, 20, export)"
   ]
  },
  {
   "cell_type": "code",
   "execution_count": null,
   "metadata": {},
   "outputs": [],
   "source": [
    "procedure = 'Underex'\n",
    "export = False\n",
    "bh_plot.plot_representative_dose(data, procedure, 20, export)"
   ]
  },
  {
   "cell_type": "code",
   "execution_count": null,
   "metadata": {},
   "outputs": [],
   "source": [
    "procedure = 'Overex'\n",
    "export = False\n",
    "bh_plot.plot_representative_dose(data, procedure, 20, export)"
   ]
  }
 ],
 "metadata": {
  "kernelspec": {
   "display_name": "BHPython312",
   "language": "python",
   "name": "python3"
  },
  "language_info": {
   "codemirror_mode": {
    "name": "ipython",
    "version": 3
   },
   "file_extension": ".py",
   "mimetype": "text/x-python",
   "name": "python",
   "nbconvert_exporter": "python",
   "pygments_lexer": "ipython3",
   "version": "3.12.8"
  }
 },
 "nbformat": 4,
 "nbformat_minor": 2
}
